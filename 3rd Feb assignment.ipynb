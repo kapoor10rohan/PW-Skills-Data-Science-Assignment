{
 "cells": [
  {
   "cell_type": "markdown",
   "id": "0b531cf7-84fe-4bf7-be21-616da9a85d1d",
   "metadata": {},
   "source": [
    "Q1. Which keyword is used to create a function? Create a function to return a list of odd numbers in the\n",
    "range of 1 to 25."
   ]
  },
  {
   "cell_type": "code",
   "execution_count": 4,
   "id": "30101c48-1c2c-4a7d-b959-29cd022bc4e5",
   "metadata": {},
   "outputs": [],
   "source": [
    "''' def is used to define function '''\n",
    "n=25\n",
    "l=[]\n",
    "def odd_num():\n",
    "    for i in range(25):\n",
    "        if i%2!=0:\n",
    "            l.append(i)\n",
    "    return l        "
   ]
  },
  {
   "cell_type": "code",
   "execution_count": 5,
   "id": "6f666596-dbfa-4969-9646-cb3e70402c22",
   "metadata": {},
   "outputs": [
    {
     "data": {
      "text/plain": [
       "[1, 3, 5, 7, 9, 11, 13, 15, 17, 19, 21, 23]"
      ]
     },
     "execution_count": 5,
     "metadata": {},
     "output_type": "execute_result"
    }
   ],
   "source": [
    "odd_num()"
   ]
  },
  {
   "cell_type": "markdown",
   "id": "32cbe3aa-8f3e-4b68-acb5-9c3b0284a474",
   "metadata": {},
   "source": [
    "Q2. Why *args and **kwargs is used in some functions? Create a function each for *args and **kwargs to\n",
    "demonstrate their use."
   ]
  },
  {
   "cell_type": "markdown",
   "id": "1795a4fd-b58f-4858-a430-78064c32780b",
   "metadata": {},
   "source": [
    "*args is used to pass variable number of arguments to a function <br>\n",
    "**kwargs is used to pass variable arguments with keyword"
   ]
  },
  {
   "cell_type": "code",
   "execution_count": 7,
   "id": "59b6c890-5dea-4a83-844e-5a8d8da44d66",
   "metadata": {},
   "outputs": [
    {
     "data": {
      "text/plain": [
       "361"
      ]
     },
     "execution_count": 7,
     "metadata": {},
     "output_type": "execute_result"
    }
   ],
   "source": [
    "def add(*nums):\n",
    "    return sum(nums)\n",
    "add(4,5,6,343,3)"
   ]
  },
  {
   "cell_type": "code",
   "execution_count": 26,
   "id": "fded76c5-57eb-44d0-897d-f10af0a65e16",
   "metadata": {},
   "outputs": [
    {
     "data": {
      "text/plain": [
       "{'name': ['Rohan', 'Rohit', 'Mohit'], 'age': [20, 25, 30]}"
      ]
     },
     "execution_count": 26,
     "metadata": {},
     "output_type": "execute_result"
    }
   ],
   "source": [
    "def entry(**details):\n",
    "           return (details)\n",
    "entry(name=['Rohan','Rohit','Mohit'],age=[20,25,30])"
   ]
  },
  {
   "cell_type": "markdown",
   "id": "2cf53dbc-1d30-4555-a0da-3ef44a97df63",
   "metadata": {},
   "source": [
    "<br>\n",
    "Q3. What is an iterator in python? Name the method used to initialise the iterator object and the method\n",
    "used for iteration. Use these methods to print the first five elements of the given list [2, 4, 6, 8, 10, 12, 14, 16,\n",
    "18, 20]."
   ]
  },
  {
   "cell_type": "markdown",
   "id": "91a55fbc-9136-4d2f-a1ba-7e070e78fe2b",
   "metadata": {},
   "source": [
    "An iterator is an object that can be iterated upon i.e. it contains countable number of values"
   ]
  },
  {
   "cell_type": "markdown",
   "id": "676c5bcb-c9fc-4425-8fd6-3031d09d887d",
   "metadata": {},
   "source": [
    "In Python, iterators are objects that can be iterated (looped) upon. Here are some common methods used for working with iterators:\n",
    "iter(): This method takes an iterable object as an argument and returns an iterator.\n",
    "\n",
    "next(): This method returns the next item from the iterator.\n",
    "\n",
    "enumerate(): This method takes an iterable object as an argument and returns an iterator that produces pairs (index, value).\n",
    "\n",
    "zip(): This method takes two or more iterables as arguments and returns an iterator that aggregates elements from each of the iterables.\n",
    "\n",
    "map(): This method takes a function and an iterable as arguments and returns an iterator that applies the function to each element of the iterable.\n",
    "\n",
    "filter(): This method takes a function and an iterable as arguments and returns an iterator that includes only the elements of the iterable for which the function returns True"
   ]
  },
  {
   "cell_type": "code",
   "execution_count": 59,
   "id": "055043ed-8835-43ca-8e9f-a8036fa6966c",
   "metadata": {},
   "outputs": [],
   "source": [
    "x=[2, 4, 6, 8, 10, 12, 14, 16, 18, 20]"
   ]
  },
  {
   "cell_type": "code",
   "execution_count": 74,
   "id": "1a763318-86f0-4868-80de-ef383c214f4d",
   "metadata": {},
   "outputs": [
    {
     "name": "stdout",
     "output_type": "stream",
     "text": [
      "2\n",
      "4\n",
      "6\n",
      "8\n",
      "10\n",
      "12\n",
      "14\n",
      "16\n",
      "18\n",
      "20\n"
     ]
    }
   ],
   "source": [
    "for i in enumerate(x):\n",
    "    print(i[1])"
   ]
  },
  {
   "cell_type": "markdown",
   "id": "9d06cdde-ab93-41fe-86b2-a573eff3b483",
   "metadata": {},
   "source": [
    "Q4. What is a generator function in python? Why yield keyword is used? Give an example of a generator\n",
    "function."
   ]
  },
  {
   "cell_type": "markdown",
   "id": "9919f780-a5ba-4c58-84a8-dedd18f1fcd6",
   "metadata": {},
   "source": [
    "Generator function is used to create our own iterator function. It doesn't return a single value but iterator object with sequence of values. yield statement will return a value each time it is called upon"
   ]
  },
  {
   "cell_type": "code",
   "execution_count": 38,
   "id": "fa927e7b-d8c3-4e2d-b4be-81c871feeeda",
   "metadata": {},
   "outputs": [],
   "source": [
    "def exp(n):\n",
    "    for i in range(1,n):\n",
    "        yield i**i       "
   ]
  },
  {
   "cell_type": "code",
   "execution_count": 39,
   "id": "bf1117c3-b3c4-464a-8ef9-fdc7f3f57ab7",
   "metadata": {},
   "outputs": [
    {
     "name": "stdout",
     "output_type": "stream",
     "text": [
      "1\n",
      "4\n",
      "27\n",
      "256\n"
     ]
    }
   ],
   "source": [
    "for x in exp(5):\n",
    "    print(x)"
   ]
  },
  {
   "cell_type": "markdown",
   "id": "f17c39fc-6514-43ab-9c49-2e75f419279b",
   "metadata": {},
   "source": [
    "<br>\n",
    "Q5. Create a generator function for prime numbers less than 1000. Use the next() method to print the\n",
    "first 20 prime numbers."
   ]
  },
  {
   "cell_type": "code",
   "execution_count": 43,
   "id": "ef4d553e-e9c1-4a00-b2c9-0710166211d3",
   "metadata": {},
   "outputs": [],
   "source": [
    "def getPrimes(n):\n",
    "    i = 2\n",
    "    while i < n :\n",
    "        prime = True\n",
    "        for a in range(2, i):\n",
    "            if i%a == 0:\n",
    "                prime = False\n",
    "                break\n",
    "        if prime:    \n",
    "            yield i\n",
    "        i += 1 "
   ]
  },
  {
   "cell_type": "code",
   "execution_count": 44,
   "id": "fd45c6a3-3c65-42ca-8523-1f67020ce35d",
   "metadata": {},
   "outputs": [],
   "source": [
    "x = getPrimes(1000)"
   ]
  },
  {
   "cell_type": "code",
   "execution_count": 45,
   "id": "6d700713-7fe2-44ed-9f98-48aff5164a3b",
   "metadata": {},
   "outputs": [
    {
     "name": "stdout",
     "output_type": "stream",
     "text": [
      "2\n",
      "3\n",
      "5\n",
      "7\n",
      "11\n",
      "13\n",
      "17\n",
      "19\n",
      "23\n",
      "29\n",
      "31\n",
      "37\n",
      "41\n",
      "43\n",
      "47\n",
      "53\n",
      "59\n",
      "61\n",
      "67\n",
      "71\n"
     ]
    }
   ],
   "source": [
    "for i in range(20):\n",
    "    a=next(x)\n",
    "    print(a)\n",
    "    "
   ]
  },
  {
   "cell_type": "code",
   "execution_count": null,
   "id": "2c5bed9a-b1fa-42f1-98e8-6c068232bbbb",
   "metadata": {},
   "outputs": [],
   "source": []
  }
 ],
 "metadata": {
  "kernelspec": {
   "display_name": "Python 3 (ipykernel)",
   "language": "python",
   "name": "python3"
  },
  "language_info": {
   "codemirror_mode": {
    "name": "ipython",
    "version": 3
   },
   "file_extension": ".py",
   "mimetype": "text/x-python",
   "name": "python",
   "nbconvert_exporter": "python",
   "pygments_lexer": "ipython3",
   "version": "3.10.8"
  }
 },
 "nbformat": 4,
 "nbformat_minor": 5
}
