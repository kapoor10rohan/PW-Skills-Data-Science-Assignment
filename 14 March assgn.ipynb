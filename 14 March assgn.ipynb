{
 "cells": [
  {
   "cell_type": "markdown",
   "id": "e88e129a-08e7-449b-9b4a-c43489b0a09a",
   "metadata": {},
   "source": [
    "Q1. Write a Python function that takes in two arrays of data and calculates the F-value for a variance ratio\n",
    "test. The function should return the F-value and the corresponding p-value for the test."
   ]
  },
  {
   "cell_type": "code",
   "execution_count": 14,
   "id": "8847ed53-4bfb-4fb9-8edb-be366e7c17a9",
   "metadata": {},
   "outputs": [],
   "source": [
    "import numpy as np\n",
    "import scipy.stats as stats"
   ]
  },
  {
   "cell_type": "code",
   "execution_count": 10,
   "id": "dda6b4a5-1075-4ce5-9782-c4f61027d9c2",
   "metadata": {},
   "outputs": [],
   "source": [
    "def arrs(x,y):\n",
    "        a=np.array(x)\n",
    "        b=np.array(y)\n",
    "        return a,b"
   ]
  },
  {
   "cell_type": "code",
   "execution_count": 12,
   "id": "ac57af6d-e544-4b34-92d3-43d9d251ef64",
   "metadata": {},
   "outputs": [],
   "source": [
    "a,b=arrs([23,43,43,23,21,14,3,56,68,32],[54,42,92,23,55,34,32,1,25,9])"
   ]
  },
  {
   "cell_type": "code",
   "execution_count": 16,
   "id": "13fdb429-93c9-4cc6-a837-08b221a8ae56",
   "metadata": {},
   "outputs": [
    {
     "data": {
      "text/plain": [
       "0.5818086689230065"
      ]
     },
     "execution_count": 16,
     "metadata": {},
     "output_type": "execute_result"
    }
   ],
   "source": [
    "f_test=np.var(a)/np.var(b)\n",
    "f_test"
   ]
  },
  {
   "cell_type": "code",
   "execution_count": 19,
   "id": "06f7fa80-dc1c-4846-b69c-f915080df772",
   "metadata": {},
   "outputs": [],
   "source": [
    "f_stat, p_value = stats.f_oneway(a, b)"
   ]
  },
  {
   "cell_type": "code",
   "execution_count": 20,
   "id": "438dab6c-687f-4b12-995f-8e02f4994df6",
   "metadata": {},
   "outputs": [
    {
     "data": {
      "text/plain": [
       "0.1563801746860303"
      ]
     },
     "execution_count": 20,
     "metadata": {},
     "output_type": "execute_result"
    }
   ],
   "source": [
    "f_stat"
   ]
  },
  {
   "cell_type": "code",
   "execution_count": 21,
   "id": "042ac885-45bb-4aca-81f3-8c269c41872f",
   "metadata": {},
   "outputs": [
    {
     "data": {
      "text/plain": [
       "0.6971588037996623"
      ]
     },
     "execution_count": 21,
     "metadata": {},
     "output_type": "execute_result"
    }
   ],
   "source": [
    "p_value"
   ]
  },
  {
   "cell_type": "markdown",
   "id": "904e8357-9055-4dcb-9d23-c5a828f8af74",
   "metadata": {},
   "source": [
    "Q2. Given a significance level of 0.05 and the degrees of freedom for the numerator and denominator of an\n",
    "F-distribution, write a Python function that returns the critical F-value for a two-tailed test."
   ]
  },
  {
   "cell_type": "code",
   "execution_count": 26,
   "id": "5516258f-e580-4f08-a096-8b050720578e",
   "metadata": {},
   "outputs": [],
   "source": [
    "import scipy.stats as stat\n",
    "def fdist(num,den):\n",
    "    significane_value=0.05\n",
    "    critical_value=stat.f.ppf(q=1-significane_value,dfn=num,dfd=den)\n",
    "    return critical_value"
   ]
  },
  {
   "cell_type": "code",
   "execution_count": 28,
   "id": "560cf2ef-168e-4604-be82-933a21a81895",
   "metadata": {},
   "outputs": [
    {
     "data": {
      "text/plain": [
       "3.490294819497605"
      ]
     },
     "execution_count": 28,
     "metadata": {},
     "output_type": "execute_result"
    }
   ],
   "source": [
    "fdist(3,12)"
   ]
  },
  {
   "cell_type": "markdown",
   "id": "cd26c394-3c76-4126-8da9-5597927204c1",
   "metadata": {},
   "source": [
    "Q3. Write a Python program that generates random samples from two normal distributions with known\n",
    "variances and uses an F-test to determine if the variances are equal. The program should output the F-\n",
    "value, degrees of freedom, and p-value for the test."
   ]
  },
  {
   "cell_type": "code",
   "execution_count": 2,
   "id": "1db493fa-11c2-4db3-af32-f880b5b41c48",
   "metadata": {},
   "outputs": [],
   "source": [
    "import numpy as np\n",
    "import scipy.stats\n",
    "mu,sigma = 0,0.1\n",
    "s1 = np.random.normal(mu,sigma,1000)\n",
    "s2 = np.random.normal(mu,sigma,1000)"
   ]
  },
  {
   "cell_type": "code",
   "execution_count": 4,
   "id": "e39c5be5-471a-4a17-a1de-bc6a7e42fa11",
   "metadata": {},
   "outputs": [],
   "source": [
    "def ftest():\n",
    "    f=np.var(s1,ddof=1)/np.var(s2,ddof=1)\n",
    "    num = s1.size - 1\n",
    "    den = s2.size - 1\n",
    "    p_value = 1 - scipy.stats.f.cdf(f,num,den)\n",
    "    \n",
    "    return f,num,den,p_value"
   ]
  },
  {
   "cell_type": "code",
   "execution_count": 6,
   "id": "f695a605-2c9a-4bff-869d-84196ed152ea",
   "metadata": {},
   "outputs": [
    {
     "data": {
      "text/plain": [
       "(1.008972586890683, 999, 999, 0.4438835517519262)"
      ]
     },
     "execution_count": 6,
     "metadata": {},
     "output_type": "execute_result"
    }
   ],
   "source": [
    "ftest()"
   ]
  },
  {
   "cell_type": "markdown",
   "id": "0d047a63-875a-4dc3-af89-f41d1e0123e0",
   "metadata": {},
   "source": [
    "Q4.The variances of two populations are known to be 10 and 15. A sample of 12 observations is taken from\n",
    "each population. Conduct an F-test at the 5% significance level to determine if the variances are\n",
    "significantly different."
   ]
  },
  {
   "cell_type": "code",
   "execution_count": 10,
   "id": "36099c75-d26e-46ce-b342-a88b448daaa9",
   "metadata": {},
   "outputs": [],
   "source": [
    "import scipy.stats as stats\n",
    "a=10\n",
    "b=15\n",
    "alpha=0.05\n",
    "df1=df2=11\n",
    "f_test = a/b\n",
    "crit_val = stats.f.ppf(alpha/2, df1, df2)"
   ]
  },
  {
   "cell_type": "code",
   "execution_count": 11,
   "id": "06d564d8-cd94-485c-95ad-da3cb7ca1574",
   "metadata": {},
   "outputs": [
    {
     "data": {
      "text/plain": [
       "0.28787755798459863"
      ]
     },
     "execution_count": 11,
     "metadata": {},
     "output_type": "execute_result"
    }
   ],
   "source": [
    "crit_val"
   ]
  },
  {
   "cell_type": "code",
   "execution_count": 12,
   "id": "6a194c93-6b33-4340-adc6-d307e1fe6705",
   "metadata": {},
   "outputs": [
    {
     "data": {
      "text/plain": [
       "0.6666666666666666"
      ]
     },
     "execution_count": 12,
     "metadata": {},
     "output_type": "execute_result"
    }
   ],
   "source": [
    "f_test"
   ]
  },
  {
   "cell_type": "code",
   "execution_count": 14,
   "id": "5443800d-df83-458d-9022-73683af6c6ad",
   "metadata": {},
   "outputs": [
    {
     "name": "stdout",
     "output_type": "stream",
     "text": [
      "Fail to reject the null hypothesis\n"
     ]
    }
   ],
   "source": [
    "if f_test < crit_val or f_test > 1/crit_val:\n",
    "    print(\"Reject the null hypothesis\")\n",
    "else:\n",
    "    print(\"Fail to reject the null hypothesis\")"
   ]
  },
  {
   "cell_type": "markdown",
   "id": "da2a7680-c805-41a4-97b7-489207c4b154",
   "metadata": {},
   "source": [
    "Q5. A manufacturer claims that the variance of the diameter of a certain product is 0.005. A sample of 25\n",
    "products is taken, and the sample variance is found to be 0.006. Conduct an F-test at the 1% significance\n",
    "level to determine if the claim is justified."
   ]
  },
  {
   "cell_type": "code",
   "execution_count": 3,
   "id": "56a48746-36f4-48db-9661-e2c00a7ed467",
   "metadata": {},
   "outputs": [],
   "source": [
    "import scipy.stats as stats\n",
    "n=25\n",
    "df=n-1\n",
    "s1=0.005\n",
    "s2=0.006\n",
    "alpha=0.01\n",
    "f_test = s2/s1\n",
    "crit_val = stats.f.ppf(alpha/2, df, df)"
   ]
  },
  {
   "cell_type": "code",
   "execution_count": 4,
   "id": "93e96041-dffb-469e-bcf4-46a0b965fc6c",
   "metadata": {},
   "outputs": [
    {
     "data": {
      "text/plain": [
       "1.2"
      ]
     },
     "execution_count": 4,
     "metadata": {},
     "output_type": "execute_result"
    }
   ],
   "source": [
    "f_test"
   ]
  },
  {
   "cell_type": "code",
   "execution_count": 5,
   "id": "c378bf56-f08a-4fd8-93c9-103a066c725f",
   "metadata": {},
   "outputs": [
    {
     "data": {
      "text/plain": [
       "0.3370701342685674"
      ]
     },
     "execution_count": 5,
     "metadata": {},
     "output_type": "execute_result"
    }
   ],
   "source": [
    "crit_val"
   ]
  },
  {
   "cell_type": "code",
   "execution_count": 6,
   "id": "3ea73932-ead5-40c1-a32e-3e79cb76be9c",
   "metadata": {},
   "outputs": [
    {
     "name": "stdout",
     "output_type": "stream",
     "text": [
      "Fail to reject the null hypothesis\n"
     ]
    }
   ],
   "source": [
    "if f_test < crit_val or f_test > 1/crit_val:\n",
    "    print(\"Reject the null hypothesis\")\n",
    "else:\n",
    "    print(\"Fail to reject the null hypothesis\")"
   ]
  },
  {
   "cell_type": "markdown",
   "id": "f92b6066-85e5-46eb-b71d-e07ec560c5fa",
   "metadata": {},
   "source": [
    "Q6. Write a Python function that takes in the degrees of freedom for the numerator and denominator of an\n",
    "F-distribution and calculates the mean and variance of the distribution. The function should return the\n",
    "mean and variance as a tuple."
   ]
  },
  {
   "cell_type": "code",
   "execution_count": 8,
   "id": "8db9b00b-a88c-4529-bc1f-2361b0d88cae",
   "metadata": {},
   "outputs": [
    {
     "name": "stdout",
     "output_type": "stream",
     "text": [
      "The mean is 1.1666666666666667    The variance is 0.8166666666666667\n"
     ]
    }
   ],
   "source": [
    "def f_stats(dfn,dfd):\n",
    "    from scipy.stats import f\n",
    "    mean, var,a,b = f.stats(dfn, dfd, moments='mvsk')\n",
    "    print(f\"The mean is {mean}\\\n",
    "    The variance is {var}\")\n",
    "f_stats(6,14)"
   ]
  },
  {
   "cell_type": "markdown",
   "id": "e84c75c8-4ae1-4723-8737-5ff6246930ca",
   "metadata": {},
   "source": [
    "Q7. A random sample of 10 measurements is taken from a normal population with unknown variance. The\n",
    "sample variance is found to be 25. Another random sample of 15 measurements is taken from another\n",
    "normal population with unknown variance, and the sample variance is found to be 20. Conduct an F-test\n",
    "at the 10% significance level to determine if the variances are significantly different."
   ]
  },
  {
   "cell_type": "code",
   "execution_count": 9,
   "id": "47180ba9-d869-4d26-92cc-f3f34118995b",
   "metadata": {},
   "outputs": [
    {
     "data": {
      "text/plain": [
       "1.25"
      ]
     },
     "execution_count": 9,
     "metadata": {},
     "output_type": "execute_result"
    }
   ],
   "source": [
    "a=25\n",
    "n1=10\n",
    "df1=n1-1\n",
    "b=20\n",
    "n2=15\n",
    "df2=n2-1\n",
    "f_test=a/b\n",
    "f_test"
   ]
  },
  {
   "cell_type": "code",
   "execution_count": 11,
   "id": "a5e8b5a3-69db-4b2a-bb5d-704979ee60ff",
   "metadata": {},
   "outputs": [
    {
     "data": {
      "text/plain": [
       "0.3305268601412525"
      ]
     },
     "execution_count": 11,
     "metadata": {},
     "output_type": "execute_result"
    }
   ],
   "source": [
    "alpha=0.1\n",
    "crit_val = stats.f.ppf(alpha/2, df1, df2)\n",
    "crit_val"
   ]
  },
  {
   "cell_type": "code",
   "execution_count": 12,
   "id": "a86a125c-63ad-4a28-9f98-056e0d63257b",
   "metadata": {},
   "outputs": [
    {
     "name": "stdout",
     "output_type": "stream",
     "text": [
      "Fail to reject the null hypothesis\n"
     ]
    }
   ],
   "source": [
    "if f_test < crit_val or f_test > 1/crit_val:\n",
    "    print(\"Reject the null hypothesis\")\n",
    "else:\n",
    "    print(\"Fail to reject the null hypothesis\")"
   ]
  },
  {
   "cell_type": "markdown",
   "id": "7fbf6980-7d1a-4b10-8c94-1836f4bf2a86",
   "metadata": {},
   "source": [
    "Q8. The following data represent the waiting times in minutes at two different restaurants on a Saturday\n",
    "night: Restaurant A: 24, 25, 28, 23, 22, 20, 27; Restaurant B: 31, 33, 35, 30, 32, 36. Conduct an F-test at the 5%\n",
    "significance level to determine if the variances are significantly different."
   ]
  },
  {
   "cell_type": "code",
   "execution_count": 17,
   "id": "937c3d92-5f7c-4a59-9244-f8ca878e726b",
   "metadata": {},
   "outputs": [],
   "source": [
    "a=np.array([24, 25, 28, 23, 22, 20, 27])\n",
    "b=np.array([31, 33, 35, 30, 32, 36])"
   ]
  },
  {
   "cell_type": "code",
   "execution_count": 18,
   "id": "2c9e73f5-aa42-4fb1-b377-58fadead49e3",
   "metadata": {},
   "outputs": [
    {
     "data": {
      "text/plain": [
       "1.496767651159843"
      ]
     },
     "execution_count": 18,
     "metadata": {},
     "output_type": "execute_result"
    }
   ],
   "source": [
    "f_test=np.var(a)/np.var(b)\n",
    "f_test"
   ]
  },
  {
   "cell_type": "code",
   "execution_count": 19,
   "id": "b63742a0-1f79-458d-a27c-28cfb968d5e9",
   "metadata": {},
   "outputs": [
    {
     "data": {
      "text/plain": [
       "0.16701279718024772"
      ]
     },
     "execution_count": 19,
     "metadata": {},
     "output_type": "execute_result"
    }
   ],
   "source": [
    "alpha=0.05\n",
    "n1=7\n",
    "df1=n1-1\n",
    "n2=6\n",
    "df2=n2-1\n",
    "crit_val = stats.f.ppf(alpha/2, df1, df2)\n",
    "crit_val"
   ]
  },
  {
   "cell_type": "code",
   "execution_count": 20,
   "id": "1c92b089-ce03-4224-a18e-3c8692a60746",
   "metadata": {},
   "outputs": [
    {
     "name": "stdout",
     "output_type": "stream",
     "text": [
      "Fail to reject the null hypothesis\n"
     ]
    }
   ],
   "source": [
    "if f_test < crit_val or f_test > 1/crit_val:\n",
    "    print(\"Reject the null hypothesis\")\n",
    "else:\n",
    "    print(\"Fail to reject the null hypothesis\")"
   ]
  },
  {
   "cell_type": "markdown",
   "id": "ff81f0c1-5e39-4654-a39d-48af5f7ba17c",
   "metadata": {},
   "source": [
    "\n",
    "Q9. The following data represent the test scores of two groups of students: Group A: 80, 85, 90, 92, 87, 83;\n",
    "Group B: 75, 78, 82, 79, 81, 84. Conduct an F-test at the 1% significance level to determine if the variances\n",
    "are significantly different."
   ]
  },
  {
   "cell_type": "code",
   "execution_count": 21,
   "id": "d264b8c3-235e-416c-b952-d7964772319b",
   "metadata": {},
   "outputs": [],
   "source": [
    "a=np.array([80, 85, 90, 92, 87, 83])\n",
    "b=np.array([75, 78, 82, 79, 81, 84.])"
   ]
  },
  {
   "cell_type": "code",
   "execution_count": 22,
   "id": "157ee8c8-95d1-4cd2-b92e-fff6cf945041",
   "metadata": {},
   "outputs": [
    {
     "data": {
      "text/plain": [
       "1.9442622950819677"
      ]
     },
     "execution_count": 22,
     "metadata": {},
     "output_type": "execute_result"
    }
   ],
   "source": [
    "f_test=np.var(a)/np.var(b)\n",
    "f_test"
   ]
  },
  {
   "cell_type": "code",
   "execution_count": 23,
   "id": "47712d9a-8604-4fb3-b28a-4b47defa7ade",
   "metadata": {},
   "outputs": [
    {
     "data": {
      "text/plain": [
       "0.066936171954696"
      ]
     },
     "execution_count": 23,
     "metadata": {},
     "output_type": "execute_result"
    }
   ],
   "source": [
    "alpha=0.01\n",
    "n1=6\n",
    "df1=n1-1\n",
    "n2=6\n",
    "df2=n2-1\n",
    "crit_val = stats.f.ppf(alpha/2, df1, df2)\n",
    "crit_val"
   ]
  },
  {
   "cell_type": "code",
   "execution_count": 24,
   "id": "0b418643-d103-4284-8b3f-c166f54099e2",
   "metadata": {},
   "outputs": [
    {
     "name": "stdout",
     "output_type": "stream",
     "text": [
      "Fail to reject the null hypothesis\n"
     ]
    }
   ],
   "source": [
    "if f_test < crit_val or f_test > 1/crit_val:\n",
    "    print(\"Reject the null hypothesis\")\n",
    "else:\n",
    "    print(\"Fail to reject the null hypothesis\")"
   ]
  },
  {
   "cell_type": "code",
   "execution_count": null,
   "id": "b3af225a-b8c7-4d66-8f01-10df1e338c1e",
   "metadata": {},
   "outputs": [],
   "source": []
  }
 ],
 "metadata": {
  "kernelspec": {
   "display_name": "Python 3 (ipykernel)",
   "language": "python",
   "name": "python3"
  },
  "language_info": {
   "codemirror_mode": {
    "name": "ipython",
    "version": 3
   },
   "file_extension": ".py",
   "mimetype": "text/x-python",
   "name": "python",
   "nbconvert_exporter": "python",
   "pygments_lexer": "ipython3",
   "version": "3.10.8"
  }
 },
 "nbformat": 4,
 "nbformat_minor": 5
}
