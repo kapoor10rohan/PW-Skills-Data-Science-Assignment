{
 "cells": [
  {
   "cell_type": "markdown",
   "id": "175dd8a2-fde1-4c4f-9e24-3c7c82fd526b",
   "metadata": {},
   "source": [
    "Q1. What is a projection and how is it used in PCA?"
   ]
  },
  {
   "cell_type": "markdown",
   "id": "0443d6b9-d168-426f-baca-512c6d9fd4ff",
   "metadata": {},
   "source": [
    "A projection is a mathematical operation that involves mapping data from a higher-dimensional space to a lower-dimensional space. In PCA (Principal Component Analysis), a projection is used to transform the data from its original high-dimensional space to a lower-dimensional space that captures the most important patterns and structures in the data.\n",
    "\n"
   ]
  },
  {
   "cell_type": "markdown",
   "id": "a73412ce-34b0-46b9-978b-18d2f9acccd8",
   "metadata": {},
   "source": [
    "Q2. How does the optimization problem in PCA work, and what is it trying to achieve?\n"
   ]
  },
  {
   "cell_type": "markdown",
   "id": "c8692740-d25e-4b0e-a31c-aa05c0ddde96",
   "metadata": {},
   "source": [
    "Principal Component Analysis (PCA) is a dimensionality reduction technique commonly used in various fields, including statistics, machine learning, and data analysis. Its main goal is to transform a high-dimensional dataset into a lower-dimensional one while preserving as much of the original variance as possible. In other words, PCA aims to find a new coordinate system (new set of axes) in which the data can be expressed more efficiently.\n",
    "\n",
    "The optimization problem in PCA can be framed as follows:\n",
    "\n",
    "Given a dataset with \\(n\\) data points, each consisting of \\(d\\) features (dimensions), the goal is to find a set of \\(k\\) orthogonal unit vectors (principal components) in the \\(d\\)-dimensional space, such that projecting the data onto these vectors maximally retains the variance.\n",
    "\n",
    "Here's how the optimization problem works:\n",
    "\n",
    "1. **Covariance Matrix Calculation:** The first step is to compute the covariance matrix of the given dataset. The covariance matrix provides information about the relationships and variances among the different features.\n",
    "\n",
    "2. **Eigenvector-Eigenvalue Decomposition:** The next step is to perform an eigenvector-eigenvalue decomposition on the covariance matrix. This decomposition yields a set of eigenvectors (principal components) and their corresponding eigenvalues. Eigenvectors are the directions along which the data varies the most, and eigenvalues represent the amount of variance along these directions.\n",
    "\n",
    "3. **Selection of Principal Components:** The eigenvectors are ranked based on their corresponding eigenvalues in descending order. The eigenvector with the highest eigenvalue represents the direction of maximum variance and is called the first principal component. The subsequent eigenvectors are the second, third, and so on.\n",
    "\n",
    "4. **Dimension Reduction:** To achieve dimensionality reduction, you can select the top \\(k\\) eigenvectors (principal components) that correspond to the highest eigenvalues. These \\(k\\) eigenvectors form a new lower-dimensional subspace.\n",
    "\n",
    "5. **Projection:** Finally, you can project the original data onto the new subspace formed by the selected principal components. Each data point's projection onto this subspace gives you its representation in terms of the most informative directions, and you've effectively reduced the dimensionality of the data while retaining as much variance as possible.\n",
    "\n",
    "The optimization aspect of PCA involves finding the eigenvectors and eigenvalues of the covariance matrix. This can be done using numerical techniques, and various libraries and algorithms are available to perform this calculation efficiently.\n",
    "\n",
    "In summary, PCA's optimization problem aims to find the most informative directions (principal components) along which the data varies the most. By reducing the dimensionality of the data while retaining as much variance as possible, PCA helps in simplifying the dataset, removing noise, and improving computational efficiency in subsequent analyses or machine learning tasks."
   ]
  },
  {
   "cell_type": "markdown",
   "id": "1539832a-3e08-4610-a15f-211f6bafb7ae",
   "metadata": {},
   "source": [
    "Q3. What is the relationship between covariance matrices and PCA?\n"
   ]
  },
  {
   "cell_type": "markdown",
   "id": "08156a19-6583-446e-a254-8100fbc64686",
   "metadata": {},
   "source": [
    "The relationship between covariance matrices and Principal Component Analysis (PCA) is fundamental to understanding how PCA works and how it achieves its goal of dimensionality reduction while preserving variance. Here's how covariance matrices are connected to PCA:\n",
    "\n",
    "1. **Covariance Matrix Calculation:** In PCA, the first step is to calculate the covariance matrix of the original high-dimensional dataset. The covariance between two features (variables) \\(X_i\\) and \\(X_j\\) is a measure of how they vary together. If the covariance is positive, it indicates that when one feature is above its mean, the other feature tends to be above its mean as well. If the covariance is negative, it indicates an inverse relationship.\n",
    "\n",
    "   The covariance between \\(X_i\\) and \\(X_j\\) is calculated as:\n",
    "\n",
    "   \\[ \\text{cov}(X_i, X_j) = \\frac{1}{n-1} \\sum_{k=1}^{n} (X_i^{(k)} - \\bar{X_i})(X_j^{(k)} - \\bar{X_j}) \\]\n",
    "\n",
    "   Where:\n",
    "   - \\(n\\) is the number of data points.\n",
    "   - \\(X_i^{(k)}\\) is the value of the \\(i\\)th feature in the \\(k\\)th data point.\n",
    "   - \\(\\bar{X_i}\\) is the mean of the \\(i\\)th feature across all data points.\n",
    "\n",
    "2. **Covariance Matrix Representation:** Once the covariances between all pairs of features are computed, they are arranged in a matrix known as the covariance matrix. In a dataset with \\(d\\) features, the covariance matrix is a \\(d \\times d\\) symmetric matrix where the element at row \\(i\\) and column \\(j\\) represents the covariance between features \\(X_i\\) and \\(X_j\\).\n",
    "\n",
    "   Mathematically, the covariance matrix \\(C\\) can be written as:\n",
    "\n",
    "   \\[ C = \\begin{bmatrix}\n",
    "            \\text{cov}(X_1, X_1) & \\text{cov}(X_1, X_2) & \\cdots & \\text{cov}(X_1, X_d) \\\\\n",
    "            \\text{cov}(X_2, X_1) & \\text{cov}(X_2, X_2) & \\cdots & \\text{cov}(X_2, X_d) \\\\\n",
    "            \\vdots & \\vdots & \\ddots & \\vdots \\\\\n",
    "            \\text{cov}(X_d, X_1) & \\text{cov}(X_d, X_2) & \\cdots & \\text{cov}(X_d, X_d)\n",
    "         \\end{bmatrix}\n",
    "   \\]\n",
    "\n",
    "3. **PCA and Eigenvector-Eigenvalue Decomposition:** The connection between the covariance matrix and PCA becomes clear during the eigenvector-eigenvalue decomposition step. The eigenvectors of the covariance matrix represent the directions (principal components) along which the data varies the most. The eigenvalues associated with these eigenvectors indicate the amount of variance in the data along those directions.\n",
    "\n",
    "   When you compute the eigenvectors and eigenvalues of the covariance matrix, the eigenvectors give you the principal components, and the eigenvalues tell you how much of the total variance in the data is explained by each principal component.\n",
    "\n",
    "In summary, the covariance matrix provides crucial information about the relationships and variances between features in the dataset. PCA leverages this information by finding the eigenvectors and eigenvalues of the covariance matrix, which in turn determine the directions of maximum variance (principal components) in the data. By selecting a subset of these principal components, PCA achieves dimensionality reduction while retaining as much variance as possible."
   ]
  },
  {
   "cell_type": "markdown",
   "id": "68ff7fb0-a782-485e-8ba6-cfa28778a9e3",
   "metadata": {},
   "source": [
    "Q4. How does the choice of number of principal components impact the performance of PCA?\n"
   ]
  },
  {
   "cell_type": "markdown",
   "id": "cca8ded8-a1e9-42a5-8483-590d762d782b",
   "metadata": {},
   "source": [
    "The choice of the number of principal components in PCA has a significant impact on the performance and outcomes of the technique. It influences how much variance is retained, the dimensionality reduction achieved, and the quality of the representation of the original data. Here's how different choices of the number of principal components can impact PCA's performance:\n",
    "\n",
    "1. **Variance Retention:** The primary goal of PCA is to retain as much variance as possible while reducing dimensionality. Each principal component captures a certain amount of variance in the original data. The cumulative sum of the eigenvalues associated with the principal components gives you the proportion of total variance explained by the first \\(k\\) components. By choosing a higher number of principal components, you retain more variance in the data. Conversely, choosing fewer components results in a loss of information.\n",
    "\n",
    "2. **Dimensionality Reduction:** The number of principal components you choose determines the dimensionality of the reduced dataset. If you choose \\(k\\) principal components, the transformed data will have \\(k\\) dimensions. Reducing dimensionality can be beneficial for visualization, noise reduction, and improving computational efficiency. However, choosing too few components might lead to underrepresentation of complex data patterns.\n",
    "\n",
    "3. **Overfitting and Generalization:** Selecting too many principal components, especially when they capture noise or minor variations, can lead to overfitting in subsequent analysis or modeling tasks. Overfitting occurs when the model captures noise in the training data and fails to generalize well to new, unseen data. It's important to strike a balance between retaining useful information and avoiding overfitting.\n",
    "\n",
    "4. **Interpretability and Visualization:** A smaller number of principal components can often be easier to interpret and visualize. They represent the most salient directions of variation in the data. For example, if you're dealing with data about human faces, the first few principal components might correspond to features like pose, lighting, and expression.\n",
    "\n",
    "5. **Computational Efficiency:** Using fewer principal components reduces the computational cost of subsequent analyses and modeling. This is particularly important when working with large datasets, as calculations involving high-dimensional data can be time-consuming and resource-intensive.\n",
    "\n",
    "6. **Trade-off and Information Loss:** There's a trade-off between retaining variance and reducing dimensionality. Selecting a higher number of principal components retains more information but might lead to a less efficient reduction in dimensionality. Conversely, choosing fewer components reduces the dimensionality more aggressively but might lead to higher information loss.\n",
    "\n",
    "In practice, the choice of the number of principal components often involves a combination of techniques and considerations:\n",
    "\n",
    "- **Scree Plot:** A scree plot shows the eigenvalues in decreasing order. A sharp drop-off in the eigenvalues might indicate an optimal point to stop adding more components.\n",
    "\n",
    "- **Explained Variance Threshold:** You can set a threshold for the proportion of variance you want to retain (e.g., 95% or 99%). Choose the smallest number of principal components that explain this threshold of variance.\n",
    "\n",
    "- **Cross-Validation:** In cases where PCA is used as a preprocessing step for machine learning, cross-validation can help you determine the number of components that yield the best generalization performance on a validation set.\n",
    "\n",
    "In summary, the choice of the number of principal components in PCA involves a careful consideration of trade-offs between variance retention, dimensionality reduction, interpretability, computational efficiency, and potential overfitting. The optimal number of components depends on the specific dataset, the goals of analysis, and the downstream tasks."
   ]
  },
  {
   "cell_type": "markdown",
   "id": "a38615ef-995a-4d17-b174-f45c715209e0",
   "metadata": {},
   "source": [
    "Q5. How can PCA be used in feature selection, and what are the benefits of using it for this purpose?\n"
   ]
  },
  {
   "cell_type": "markdown",
   "id": "e52d713e-b28f-46a6-8c31-725a36cd874a",
   "metadata": {},
   "source": [
    "PCA can be used as a feature selection technique to reduce the dimensionality of a dataset while retaining the most important information. While PCA is primarily a dimensionality reduction method, it indirectly performs feature selection by identifying and retaining the most informative dimensions (principal components) of the data. Here's how PCA can be used for feature selection and its benefits:\n",
    "\n",
    "**Using PCA for Feature Selection:**\n",
    "\n",
    "1. **Compute Principal Components:** Perform PCA on the original dataset to compute the principal components. Each principal component is a linear combination of the original features, where the weights are determined by the eigenvectors of the covariance matrix.\n",
    "\n",
    "2. **Select Principal Components:** Rank the principal components based on their associated eigenvalues. The higher the eigenvalue, the more variance the principal component explains. You can choose to keep the top \\(k\\) principal components that collectively explain a significant portion of the total variance in the data.\n",
    "\n",
    "3. **Reconstruct Data:** Transform the original data using the selected principal components. This transformation involves projecting the data onto the new subspace defined by the principal components. This effectively reduces the dimensionality of the data.\n",
    "\n",
    "4. **Inverse Transformation (Optional):** If needed, you can perform an inverse transformation to map the reduced-dimensional data back to the original feature space. However, note that this reconstruction might not be perfect due to the dimensionality reduction process.\n",
    "\n",
    "**Benefits of Using PCA for Feature Selection:**\n",
    "\n",
    "1. **Noise Reduction:** By retaining only the most significant principal components, which capture the directions of maximum variance, PCA inherently filters out noisy and less informative dimensions. This can improve the quality of the data and subsequently the performance of models.\n",
    "\n",
    "2. **Collinearity Handling:** If there are highly correlated features in the original dataset, PCA can help reduce multicollinearity by creating orthogonal principal components. This can lead to more stable and interpretable models.\n",
    "\n",
    "3. **Improved Model Performance:** Using fewer dimensions can lead to more efficient and faster training of machine learning models. It can also reduce the risk of overfitting, especially when the original feature space is high-dimensional.\n",
    "\n",
    "4. **Visualization:** PCA can be used to project data into a lower-dimensional space that can be easily visualized (e.g., 2D or 3D). This is especially helpful for exploratory data analysis and understanding data patterns.\n",
    "\n",
    "5. **Interpretability:** In some cases, the principal components might have meaningful interpretations. For example, in certain scientific domains, the first few principal components could correspond to underlying physical or biological factors.\n",
    "\n",
    "6. **Simpler Models:** Using fewer features can lead to simpler and more interpretable models, which can be advantageous for communicating results to non-technical stakeholders.\n",
    "\n",
    "It's important to note that while PCA can provide benefits in terms of dimensionality reduction and feature selection, it might not always be the best choice for all datasets and tasks. In some cases, domain knowledge and the specific goals of analysis should guide the decision of whether to use PCA for feature selection or explore other techniques such as mutual information-based methods, L1 regularization (Lasso), or tree-based feature importance."
   ]
  },
  {
   "cell_type": "markdown",
   "id": "9d7eb82d-1613-4e56-8b3e-fcfc90cbe7c6",
   "metadata": {},
   "source": [
    "Q6. What are some common applications of PCA in data science and machine learning?\n"
   ]
  },
  {
   "cell_type": "markdown",
   "id": "5f06753a-428d-4087-b001-7952d0c55eb7",
   "metadata": {},
   "source": [
    "Principal Component Analysis (PCA) is a versatile technique that finds applications in various aspects of data science and machine learning. Some common applications of PCA include:\n",
    "\n",
    "1. **Dimensionality Reduction:** The most fundamental application of PCA is reducing the dimensionality of high-dimensional datasets. By transforming data into a lower-dimensional space while retaining the most important information, PCA can simplify analysis, visualization, and modeling tasks. This is especially valuable when dealing with data with a large number of features.\n",
    "\n",
    "2. **Data Visualization:** PCA is often used to project high-dimensional data onto a lower-dimensional space (e.g., 2D or 3D) for visualization. It helps visualize clusters, patterns, and relationships between data points, making it easier to interpret complex datasets.\n",
    "\n",
    "3. **Noise Reduction:** PCA can help reduce noise in data by capturing the dominant patterns and filtering out less significant variations. This can improve the quality of data for subsequent analyses and modeling.\n",
    "\n",
    "4. **Feature Engineering:** PCA can be used as a form of feature engineering by creating new features that are linear combinations of the original features. These new features might capture more informative patterns, leading to better model performance.\n",
    "\n",
    "5. **Preprocessing for Machine Learning:** PCA can serve as a preprocessing step to enhance the performance of machine learning algorithms. By reducing the dimensionality of the input data, it can lead to faster training times, lower risk of overfitting, and improved generalization.\n",
    "\n",
    "6. **Collinearity Detection and Handling:** PCA can identify and mitigate multicollinearity issues in datasets where features are highly correlated. By transforming correlated features into orthogonal principal components, PCA can lead to more stable model training.\n",
    "\n",
    "7. **Image and Video Compression:** In image and video processing, PCA can be used for compression by representing images/videos in terms of a smaller number of principal components. This reduces storage requirements without severely compromising visual quality.\n",
    "\n",
    "8. **Genomics and Bioinformatics:** PCA is employed to analyze gene expression data and identify underlying patterns in large genomic datasets. It helps in clustering samples with similar gene expression profiles and in identifying key genes responsible for variations.\n",
    "\n",
    "9. **Signal Processing:** PCA is used to extract signal components from noisy data in various domains, such as audio processing and speech recognition.\n",
    "\n",
    "10. **Quality Control and Anomaly Detection:** PCA can be used to monitor manufacturing processes and detect anomalies by comparing data points to the expected distribution of principal components.\n",
    "\n",
    "11. **Recommendation Systems:** In collaborative filtering-based recommendation systems, PCA can help reduce the dimensionality of user-item interaction matrices, leading to faster and more efficient recommendation algorithms.\n",
    "\n",
    "12. **Chemoinformatics:** In drug discovery and molecular modeling, PCA is used to analyze molecular descriptors and explore structure-activity relationships.\n",
    "\n",
    "13. **Text Analysis:** In natural language processing, PCA can be used to reduce the dimensionality of text data representations, making them more suitable for modeling.\n",
    "\n",
    "14. **Quantitative Finance:** PCA is used to analyze and model financial time series data, extract factors influencing asset prices, and manage risk.\n"
   ]
  },
  {
   "cell_type": "markdown",
   "id": "fdb36f68-a59f-4ce6-b2bc-64abc5771006",
   "metadata": {},
   "source": [
    "Q7.What is the relationship between spread and variance in PCA?\n"
   ]
  },
  {
   "cell_type": "markdown",
   "id": "b78fad0b-1575-442f-ac1d-1a28fd3cc5e7",
   "metadata": {},
   "source": [
    "In the context of Principal Component Analysis (PCA), both spread and variance play crucial roles, and they are closely related concepts that are used to describe the distribution of data in different dimensions.\n",
    "\n",
    "**Variance:**\n",
    "Variance is a statistical measure that quantifies the average squared deviation of data points from their mean. In PCA, the variance of a set of data points along a specific axis (dimension) indicates how much the data points vary from the mean along that axis. Higher variance suggests more spread-out data points along that dimension.\n",
    "\n",
    "**Spread:**\n",
    "Spread refers to the extent or range of values that data points cover along a particular dimension. In the context of PCA, spread can be thought of as how widely the data points are distributed in a certain direction. A larger spread indicates that data points are distributed over a larger range along that dimension.\n",
    "\n",
    "**Relationship:**\n",
    "The relationship between spread and variance in PCA is as follows:\n",
    "\n",
    "- When the spread of data points along a particular direction (dimension) is high, it means that the values of the data points cover a wide range. This corresponds to a higher variance along that direction.\n",
    "- Conversely, when the spread of data points along a dimension is low, it means that the values of the data points are clustered closely together. This corresponds to a lower variance along that direction.\n",
    "\n"
   ]
  },
  {
   "cell_type": "markdown",
   "id": "6e8ffe3f-ea70-4a5e-b928-486becd31b38",
   "metadata": {},
   "source": [
    "Q8. How does PCA use the spread and variance of the data to identify principal components?"
   ]
  },
  {
   "cell_type": "markdown",
   "id": "29c77e2a-f41c-4fd2-a34d-ccb600227413",
   "metadata": {},
   "source": [
    "PCA uses the spread and variance of the data to identify principal components by seeking the directions (axes) along which the spread or variance of the data is maximized. The principal components are orthogonal unit vectors that point in these directions. Here's how the spread and variance are utilized in the PCA process to identify principal components:\n",
    "\n",
    "1. **Calculate the Covariance Matrix:** The first step in PCA involves calculating the covariance matrix of the original high-dimensional dataset. The covariance matrix provides information about the relationships and variances between different pairs of features (dimensions).\n",
    "\n",
    "2. **Eigenvector-Eigenvalue Decomposition:** After obtaining the covariance matrix, the next step is to perform an eigenvector-eigenvalue decomposition on the matrix. This decomposition yields a set of eigenvectors and their corresponding eigenvalues.\n",
    "\n",
    "3. **Identify Principal Components:** The eigenvectors of the covariance matrix are the directions along which the data has the highest spread or variance. These eigenvectors are also known as the principal components. The eigenvalues associated with the eigenvectors indicate the amount of variance explained by each principal component.\n",
    "\n",
    "   The eigenvector with the highest eigenvalue corresponds to the direction of maximum variance (spread) in the data and becomes the first principal component. The eigenvector with the second-highest eigenvalue corresponds to the second-highest spread, and so on.\n",
    "\n",
    "4. **Orthogonality of Principal Components:** The principal components are orthogonal to each other, meaning they are perpendicular. This orthogonality property ensures that the principal components capture uncorrelated directions of spread in the data.\n",
    "\n",
    "5. **Projection onto Principal Components:** To reduce the dimensionality of the data, you can project the original data points onto the lower-dimensional subspace defined by the principal components. Each data point's projection onto this subspace is represented as a combination of the principal components' coordinates.\n",
    "\n",
    "In summary, PCA leverages the spread and variance of the data to identify the directions of maximum variance (principal components) through the eigenvector-eigenvalue decomposition of the covariance matrix. These principal components serve as a new coordinate system that captures the most important information in the data. By selecting a subset of these principal components, you can effectively reduce the dimensionality of the data while retaining as much variance as possible."
   ]
  },
  {
   "cell_type": "markdown",
   "id": "47b6faf7-375b-4573-9400-6b9139dee863",
   "metadata": {},
   "source": [
    "\n",
    "Q9. How does PCA handle data with high variance in some dimensions but low variance in others?"
   ]
  },
  {
   "cell_type": "markdown",
   "id": "d6da7f26-bf64-4af9-b641-f1f32384ae01",
   "metadata": {},
   "source": [
    "PCA is well-suited to handle data with high variance in some dimensions and low variance in others. In fact, one of the key strengths of PCA is its ability to capture and emphasize the directions of maximum variance, while effectively reducing the impact of dimensions with low variance. Here's how PCA handles data with varying levels of variance across dimensions:\n",
    "\n",
    "1. **Identifying Principal Components:** In PCA, the directions of maximum variance are the directions along which the data varies the most. When some dimensions have high variance while others have low variance, the principal components will naturally align with the high-variance dimensions, as these dimensions contribute more to the overall variance in the data.\n",
    "\n",
    "2. **Relative Contribution of Dimensions:** In the eigenvector-eigenvalue decomposition of the covariance matrix, the eigenvalues associated with the principal components indicate the amount of variance captured by each component. Dimensions with high variance will have corresponding eigenvalues that are relatively large, whereas dimensions with low variance will have smaller eigenvalues.\n",
    "\n",
    "3. **Dimension Weighting:** During the transformation of data into the principal component space, PCA effectively \"weights\" dimensions based on their variance. Dimensions with high variance will have a larger impact on the principal components, while dimensions with low variance will have a smaller impact. This allows PCA to prioritize the dimensions that contribute the most to the data's overall variance.\n",
    "\n",
    "4. **Dimension Reduction:** Since PCA places emphasis on capturing maximum variance, the principal components that align with high-variance dimensions will be retained, while those corresponding to low-variance dimensions will have smaller eigenvalues and therefore contribute less to the final representation of the data.\n",
    "\n",
    "5. **Dimensional Collapse:** In cases where certain dimensions have extremely low variance (essentially constant values), PCA can even effectively \"collapse\" those dimensions, as their contribution to variance is negligible. This can help in reducing dimensionality without losing much information.\n",
    "\n",
    "In summary, PCA handles data with varying levels of variance across dimensions by emphasizing the directions of maximum variance while de-emphasizing dimensions with low variance. This behavior is inherent to the way PCA works, and it allows PCA to capture the most meaningful patterns in the data, even when there are disparities in variance among dimensions. As a result, PCA can be effective in reducing dimensionality and retaining essential information, especially when dealing with datasets that have varying degrees of variance across features."
   ]
  },
  {
   "cell_type": "code",
   "execution_count": null,
   "id": "7767b69e-ed4b-48ea-ad99-6fae05781ecc",
   "metadata": {},
   "outputs": [],
   "source": []
  }
 ],
 "metadata": {
  "kernelspec": {
   "display_name": "Python 3 (ipykernel)",
   "language": "python",
   "name": "python3"
  },
  "language_info": {
   "codemirror_mode": {
    "name": "ipython",
    "version": 3
   },
   "file_extension": ".py",
   "mimetype": "text/x-python",
   "name": "python",
   "nbconvert_exporter": "python",
   "pygments_lexer": "ipython3",
   "version": "3.10.8"
  }
 },
 "nbformat": 4,
 "nbformat_minor": 5
}
