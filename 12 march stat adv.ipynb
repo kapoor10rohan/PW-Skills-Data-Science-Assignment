{
 "cells": [
  {
   "cell_type": "markdown",
   "id": "706f02f7-2ae7-4e10-8bd5-8e45f72b2ea9",
   "metadata": {},
   "source": [
    "Q1. Calculate the 95% confidence interval for a sample of data with a mean of 50 and a standard deviation\n",
    "of 5 using Python. Interpret the results."
   ]
  },
  {
   "cell_type": "code",
   "execution_count": 1,
   "id": "e57dc3c3-e034-4029-a120-ddae8e94261c",
   "metadata": {},
   "outputs": [
    {
     "name": "stdout",
     "output_type": "stream",
     "text": [
      "We are 95% confident that population mean is between 48.450483946517494 and 51.549516053482506\n"
     ]
    }
   ],
   "source": [
    "# Sample mean\n",
    "x_=50\n",
    "# Sample std \n",
    "s=5\n",
    "# ci is 95%\n",
    "alpha=0.05\n",
    "# z of alpha/2\n",
    "z=1.96\n",
    "# Assume sample to be 40\n",
    "n=40\n",
    "\n",
    "lower_ci= x_ - (z*s)/n**0.5\n",
    "upper_ci= x_ + (z*s)/n**0.5\n",
    "print(f\"We are 95% confident that population mean is between {lower_ci} and {upper_ci}\")"
   ]
  },
  {
   "cell_type": "markdown",
   "id": "adb81cc8-7e53-492d-a08e-25573f65f369",
   "metadata": {},
   "source": [
    "Q2. Conduct a chi-square goodness of fit test to determine if the distribution of colors of M&Ms in a bag\n",
    "matches the expected distribution of 20% blue, 20% orange, 20% green, 10% yellow, 10% red, and 20%\n",
    "brown. Use Python to perform the test with a significance level of 0.05."
   ]
  },
  {
   "cell_type": "code",
   "execution_count": 15,
   "id": "b4164509-e199-44da-ad60-4d7c144f5c13",
   "metadata": {},
   "outputs": [],
   "source": [
    "import scipy.stats as stat\n",
    "import numpy as np\n",
    "observed = [20, 30, 23, 18, 15, 24]  # observed counts of each color\n",
    "expected = [0.2, 0.2, 0.2, 0.1, 0.1, 0.2]  # expected proportions of each color"
   ]
  },
  {
   "cell_type": "code",
   "execution_count": 16,
   "id": "d89f0da3-3359-430f-93f2-f1e162f8599f",
   "metadata": {},
   "outputs": [
    {
     "name": "stdout",
     "output_type": "stream",
     "text": [
      "Total M&M are: 130\n"
     ]
    }
   ],
   "source": [
    "total_value=sum(observed)\n",
    "print(\"Total M&M are:\",total_value)\n",
    "expected=[expected[i]*total_value for i in range(len(expected))]"
   ]
  },
  {
   "cell_type": "code",
   "execution_count": 19,
   "id": "f59c532f-caf0-45fa-87bf-010b5b1e8d05",
   "metadata": {},
   "outputs": [],
   "source": [
    "chisquare_test_statistics,p_value=stat.chisquare(observed,expected)"
   ]
  },
  {
   "cell_type": "code",
   "execution_count": 20,
   "id": "e77e81b9-d5df-4bc3-90e7-77ce73debdba",
   "metadata": {},
   "outputs": [
    {
     "data": {
      "text/plain": [
       "4.730769230769231"
      ]
     },
     "execution_count": 20,
     "metadata": {},
     "output_type": "execute_result"
    }
   ],
   "source": [
    "chisquare_test_statistics"
   ]
  },
  {
   "cell_type": "code",
   "execution_count": 21,
   "id": "b0555cba-7f3a-4147-809c-c58732c5e051",
   "metadata": {},
   "outputs": [
    {
     "data": {
      "text/plain": [
       "0.4496127597819496"
      ]
     },
     "execution_count": 21,
     "metadata": {},
     "output_type": "execute_result"
    }
   ],
   "source": [
    "p_value"
   ]
  },
  {
   "cell_type": "code",
   "execution_count": 25,
   "id": "d1956d1d-7266-404e-a66d-8ff4c510558a",
   "metadata": {},
   "outputs": [
    {
     "data": {
      "text/plain": [
       "11.070497693516351"
      ]
     },
     "execution_count": 25,
     "metadata": {},
     "output_type": "execute_result"
    }
   ],
   "source": [
    "## find the critical value\n",
    "significance=0.05\n",
    "dof=len(observed)-1\n",
    "critical_value=stat.chi2.ppf(1-significance,dof)\n",
    "critical_value"
   ]
  },
  {
   "cell_type": "code",
   "execution_count": 27,
   "id": "bdac903c-15e0-468b-86ba-bee3f64b34f4",
   "metadata": {},
   "outputs": [
    {
     "name": "stdout",
     "output_type": "stream",
     "text": [
      "The difference is not that significant so Accept the null hypothesis\n"
     ]
    }
   ],
   "source": [
    "if chisquare_test_statistics > critical_value:\n",
    "    print(\"The difference is significant so Reject the null hypothesis\")\n",
    "else:\n",
    "    print(\"The difference is not that significant so Accept the null hypothesis\")"
   ]
  },
  {
   "cell_type": "markdown",
   "id": "08c9b926-0945-4f0c-ba21-72c6336bc4e7",
   "metadata": {},
   "source": [
    "Q3. Use Python to calculate the chi-square statistic and p-value for a contingency table with the following\n",
    "data:\n",
    "\n",
    "Group A Group B\n",
    "\n",
    "Outcome 1 20 15\n",
    "\n",
    "Outcome 2 10 25\n",
    "\n",
    "Outcome 3 15 20\n",
    "\n",
    "Interpret the results of the test."
   ]
  },
  {
   "cell_type": "code",
   "execution_count": 28,
   "id": "2fab2a2c-790d-4d25-8b36-eabde52aae62",
   "metadata": {},
   "outputs": [
    {
     "name": "stdout",
     "output_type": "stream",
     "text": [
      "Chi-square statistic: 5.833333333333334\n",
      "P-value: 0.05411376622282158\n"
     ]
    }
   ],
   "source": [
    "import numpy as np\n",
    "from scipy.stats import chi2_contingency\n",
    "\n",
    "observed = np.array([[20, 15], [10, 25], [15, 20]])\n",
    "chi2, p, dof, expected = chi2_contingency(observed)\n",
    "\n",
    "print(\"Chi-square statistic:\", chi2)\n",
    "print(\"P-value:\", p)"
   ]
  },
  {
   "cell_type": "markdown",
   "id": "4a416c40-f77d-4d4d-b200-3dba5c5ca746",
   "metadata": {},
   "source": [
    "Q4. A study of the prevalence of smoking in a population of 500 individuals found that 60 individuals\n",
    "smoked. Use Python to calculate the 95% confidence interval for the true proportion of individuals in the\n",
    "population who smoke."
   ]
  },
  {
   "cell_type": "code",
   "execution_count": 31,
   "id": "6bbc0891-0027-429f-a4ff-9f86e050f44b",
   "metadata": {},
   "outputs": [
    {
     "name": "stdout",
     "output_type": "stream",
     "text": [
      "We are 95% confident that people who smoke is 0.09151638887130706 and 0.14848361112869293\n"
     ]
    }
   ],
   "source": [
    "from statsmodels.stats.proportion import proportion_confint\n",
    "p=60/500\n",
    "q=1-p\n",
    "z=1.96\n",
    "n=500\n",
    "lower, upper = proportion_confint(p*n, n, alpha=0.05)\n",
    "print(f\"We are 95% confident that people who smoke is {lower} and {upper}\")"
   ]
  },
  {
   "cell_type": "markdown",
   "id": "5d53101a-3bff-4460-9ac3-82da8890472a",
   "metadata": {},
   "source": [
    "Q5. Calculate the 90% confidence interval for a sample of data with a mean of 75 and a standard deviation\n",
    "of 12 using Python. Interpret the results."
   ]
  },
  {
   "cell_type": "code",
   "execution_count": 35,
   "id": "9c5d7a5b-d08c-41cc-9631-441d044117c6",
   "metadata": {},
   "outputs": [
    {
     "name": "stdout",
     "output_type": "stream",
     "text": [
      "We are 95% confident that population mean is between 73.02617564765823 and 76.97382435234177\n"
     ]
    }
   ],
   "source": [
    "import scipy.stats as stats\n",
    "# Sample mean\n",
    "x_=75\n",
    "# Sample std \n",
    "s=12\n",
    "# ci is 90%\n",
    "alpha=0.1\n",
    "# z of alpha/2\n",
    "z=1.96\n",
    "# Assume sample to be 40\n",
    "n=100\n",
    "z = stats.norm.ppf(0.95)\n",
    "lower_ci= x_ - (z*s)/n**0.5\n",
    "upper_ci= x_ + (z*s)/n**0.5\n",
    "print(f\"We are 95% confident that population mean is between {lower_ci} and {upper_ci}\")"
   ]
  },
  {
   "cell_type": "markdown",
   "id": "5d7623a4-818a-4667-9089-2049c02645b5",
   "metadata": {},
   "source": [
    "Q6. Use Python to plot the chi-square distribution with 10 degrees of freedom. Label the axes and shade the\n",
    "area corresponding to a chi-square statistic of 15."
   ]
  },
  {
   "cell_type": "code",
   "execution_count": 2,
   "id": "34677bbf-9d46-4832-b5b3-59563870348e",
   "metadata": {},
   "outputs": [
    {
     "data": {
      "image/png": "[encoded data removed]",
      "text/plain": [
       "<Figure size 640x480 with 1 Axes>"
      ]
     },
     "metadata": {},
     "output_type": "display_data"
    }
   ],
   "source": [
    "import numpy as np\n",
    "import matplotlib.pyplot as plt\n",
    "import scipy.stats as stats\n",
    "\n",
    "df = 10  # degrees of freedom\n",
    "x = np.linspace(0, 30, 1000)  # range of chi-square values to plot\n",
    "y = stats.chi2.pdf(x, df)  # chi-square PDF values for each value of x\n",
    "\n",
    "# Plot the chi-square distribution\n",
    "plt.plot(x, y, label=\"df=10\")\n",
    "\n",
    "# Shade the area corresponding to a chi-square statistic of 15\n",
    "x_shade = np.linspace(15, 30, 1000)\n",
    "y_shade = stats.chi2.pdf(x_shade, df)\n",
    "plt.fill_between(x_shade, y_shade, color=\"red\", alpha=0.5)\n",
    "\n",
    "# Add labels to the plot\n",
    "plt.xlabel(\"Chi-Square Value\")\n",
    "plt.ylabel(\"Probability Density\")\n",
    "plt.title(\"Chi-Square Distribution with df=10\")\n",
    "plt.legend()\n",
    "\n",
    "# Display the plot\n",
    "plt.show()"
   ]
  },
  {
   "cell_type": "markdown",
   "id": "225a06d9-3a1d-4797-bd5a-e28b244719ff",
   "metadata": {},
   "source": [
    "Q7. A random sample of 1000 people was asked if they preferred Coke or Pepsi. Of the sample, 520\n",
    "preferred Coke. Calculate a 99% confidence interval for the true proportion of people in the population who\n",
    "prefer Coke."
   ]
  },
  {
   "cell_type": "code",
   "execution_count": 36,
   "id": "1abf7a49-da21-4caf-9a69-0aa7426baf0d",
   "metadata": {},
   "outputs": [
    {
     "name": "stdout",
     "output_type": "stream",
     "text": [
      "2.5758293035489004\n",
      "We are 95% confident that people who smoke is 0.48903505011072596 and 0.5509649498892741\n"
     ]
    }
   ],
   "source": [
    "from statsmodels.stats.proportion import proportion_confint\n",
    "import scipy.stats as stats\n",
    "p=520/1000\n",
    "q=1-p\n",
    "z = stats.norm.ppf(0.995)\n",
    "print(z)\n",
    "n=1000\n",
    "lower, upper = proportion_confint(p*n, n, alpha=0.05)\n",
    "print(f\"We are 95% confident that people who smoke is {lower} and {upper}\")"
   ]
  },
  {
   "cell_type": "markdown",
   "id": "4dda8fb3-6066-4d60-81bd-067d103372aa",
   "metadata": {},
   "source": [
    "Q8. A researcher hypothesizes that a coin is biased towards tails. They flip the coin 100 times and observe\n",
    "45 tails. Conduct a chi-square goodness of fit test to determine if the observed frequencies match the\n",
    "expected frequencies of a fair coin. Use a significance level of 0.05."
   ]
  },
  {
   "cell_type": "markdown",
   "id": "568f2c2a-3261-46b6-851b-35df14ab3832",
   "metadata": {},
   "source": [
    "H0: Coin is not biased towards tail\n",
    "\n",
    "H1: Coin biased towards tail"
   ]
  },
  {
   "cell_type": "code",
   "execution_count": 4,
   "id": "68393c63-ca49-4d0c-bc9e-051466ffc1eb",
   "metadata": {},
   "outputs": [
    {
     "name": "stdout",
     "output_type": "stream",
     "text": [
      "1.0\n",
      "0.31731050786291115\n"
     ]
    }
   ],
   "source": [
    "import scipy.stats as stats\n",
    "observed = [45, 55]  # tails, heads\n",
    "expected = [50, 50]  # assuming a fair coin\n",
    "chi2, p_value = stats.chisquare(f_obs=observed, f_exp=expected)\n",
    "print(chi2)\n",
    "print(p_value)"
   ]
  },
  {
   "cell_type": "code",
   "execution_count": 6,
   "id": "86bd8a23-3354-452e-b688-caad0cfd6ff3",
   "metadata": {},
   "outputs": [
    {
     "name": "stdout",
     "output_type": "stream",
     "text": [
      "3.841458820694124\n",
      "Accept the null hypothesis\n"
     ]
    }
   ],
   "source": [
    "import scipy.stats as stat\n",
    "## find the critical value\n",
    "significance = 0.05\n",
    "dof = len(observed) -1\n",
    "critical_value = stat.chi2.ppf(1-significance,dof)\n",
    "print(critical_value)\n",
    "if chi2 > critical_value:\n",
    "    print(\"Reject the null hypothesis\")\n",
    "else:\n",
    "    print(\"Accept the null hypothesis\")"
   ]
  },
  {
   "cell_type": "markdown",
   "id": "90fbc63c-e425-4ae5-8a80-f0bf02971973",
   "metadata": {},
   "source": [
    "Q9. A study was conducted to determine if there is an association between smoking status (smoker or\n",
    "non-smoker) and lung cancer diagnosis (yes or no). The results are shown in the contingency table below.\n",
    "Conduct a chi-square test for independence to determine if there is a significant association between\n",
    "smoking status and lung cancer diagnosis.\n",
    "\n",
    "Use a significance level of 0.05.\n",
    "\n",
    "Lung Cancer: Yes\n",
    "\n",
    "Smoker 60 140\n",
    "Non-smoker 30 170"
   ]
  },
  {
   "cell_type": "markdown",
   "id": "fbf20a89-bf29-46d5-b4cf-15151963dfe7",
   "metadata": {},
   "source": [
    "H0: No significance association\n",
    "H1: Significant association"
   ]
  },
  {
   "cell_type": "code",
   "execution_count": 11,
   "id": "9d9ac7fa-01fe-4374-860d-2d6d8f0fefae",
   "metadata": {},
   "outputs": [
    {
     "name": "stdout",
     "output_type": "stream",
     "text": [
      "Chi-square statistic: 12.057347670250895\n",
      "P-value: 0.0005158863863703744\n"
     ]
    }
   ],
   "source": [
    "import numpy as np\n",
    "from scipy.stats import chi2_contingency\n",
    "\n",
    "observed = np.array([[60,140], [30, 170]])\n",
    "chi2, p, dof, expected = chi2_contingency(observed)\n",
    "\n",
    "print(\"Chi-square statistic:\", chi2)\n",
    "print(\"P-value:\", p)"
   ]
  },
  {
   "cell_type": "code",
   "execution_count": 12,
   "id": "3661dbb5-8ad5-4875-8d03-1b2d708e40d9",
   "metadata": {},
   "outputs": [
    {
     "name": "stdout",
     "output_type": "stream",
     "text": [
      "The critical value is: 3.841458820694124\n",
      "The chi-sqaure statistic is: 12.057347670250895\n",
      "Reject the null hypothesis\n"
     ]
    }
   ],
   "source": [
    "#calculating critical value\n",
    "significance = 0.05\n",
    "critical_value = stat.chi2.ppf(1-significance,dof) #critical limit for null hypothesis\n",
    "print(\"The critical value is:\",critical_value)\n",
    "print(\"The chi-sqaure statistic is:\",chi2)\n",
    "if chi2 > critical_value:\n",
    "    print(\"Reject the null hypothesis\")\n",
    "else:\n",
    "    print(\"Accept the null hypothesis\")"
   ]
  },
  {
   "cell_type": "markdown",
   "id": "fa2f7b29-ffbf-462c-b0d1-b0364185c051",
   "metadata": {},
   "source": [
    "\n",
    "Q10. A study was conducted to determine if the proportion of people who prefer milk chocolate, dark\n",
    "chocolate, or white chocolate is different in the U.S. versus the U.K. A random sample of 500 people from\n",
    "the U.S. and a random sample of 500 people from the U.K. were surveyed. The results are shown in the\n",
    "contingency table below. Conduct a chi-square test for independence to determine if there is a significant\n",
    "association between chocolate preference and country of origin.\n",
    "Milk Chocolate\n",
    "\n",
    "U.S. (n=500) 200 150 150\n",
    "U.K. (n=500) 225 175 100\n",
    "Dark Chocolate White Chocolate\n",
    "\n",
    "Use a significance level of 0.01."
   ]
  },
  {
   "cell_type": "code",
   "execution_count": 15,
   "id": "99b26c4d-f20a-48a0-b375-1c2785821f01",
   "metadata": {},
   "outputs": [
    {
     "name": "stdout",
     "output_type": "stream",
     "text": [
      "The chi-sqaure statistic is: 13.393665158371041 \n",
      " The p-value is: 0.0012348168997745918\n"
     ]
    }
   ],
   "source": [
    "#H0: There is no association between chocolate preference and country of origin\n",
    "#Ha: There is a significant association between chocolate preference and country of origin\n",
    "#significance assumed = 0.01\n",
    "significance = 0.01\n",
    "\n",
    "import pandas as pd\n",
    "import scipy.stats as stat\n",
    "from scipy.stats import chi2_contingency\n",
    "\n",
    "df = pd.DataFrame({\"Milk Chocolate\":[200,225],\"Dark Chocolate\":[150,175],\"White Chocolate\":[150,100]},index=[\"US\",\"UK\"])\n",
    "c, p, dof, expected = chi2_contingency(df)\n",
    "print(\"The chi-sqaure statistic is:\",c,\"\\n\",\"The p-value is:\",p)"
   ]
  },
  {
   "cell_type": "code",
   "execution_count": 16,
   "id": "38a0db74-6914-42fc-b696-e732cebb1b25",
   "metadata": {},
   "outputs": [
    {
     "name": "stdout",
     "output_type": "stream",
     "text": [
      "The critical value is: 9.21034037197618\n",
      "The chi-sqaure statistic is: 13.393665158371041\n",
      "Reject the null hypothesis\n"
     ]
    }
   ],
   "source": [
    "#calculating critical value\n",
    "significance = 0.01\n",
    "critical_value = stat.chi2.ppf(1-significance,dof) #critical limit for null hypothesis\n",
    "print(\"The critical value is:\",critical_value)\n",
    "print(\"The chi-sqaure statistic is:\",c)\n",
    "if c > critical_value:\n",
    "    print(\"Reject the null hypothesis\")\n",
    "else:\n",
    "    print(\"Accept the null hypothesis\")"
   ]
  },
  {
   "cell_type": "markdown",
   "id": "ec90c5ef-d0ec-4e36-bbe2-a7524ce55b76",
   "metadata": {},
   "source": [
    "Q11. A random sample of 30 people was selected from a population with an unknown mean and standard\n",
    "deviation. The sample mean was found to be 72 and the sample standard deviation was found to be 10.\n",
    "Conduct a hypothesis test to determine if the population mean is significantly different from 70. Use a\n",
    "significance level of 0.05."
   ]
  },
  {
   "cell_type": "markdown",
   "id": "fa1ca779-6161-42a7-9b22-d1ec63b68449",
   "metadata": {},
   "source": [
    "H0: population mean = 70\n",
    "H1: population mean != 70"
   ]
  },
  {
   "cell_type": "code",
   "execution_count": 3,
   "id": "f7a3ebb2-a1ab-4a99-810a-8cc1f32ad07e",
   "metadata": {},
   "outputs": [
    {
     "data": {
      "text/plain": [
       "1.0954451150103321"
      ]
     },
     "execution_count": 3,
     "metadata": {},
     "output_type": "execute_result"
    }
   ],
   "source": [
    "# T = (X̄ – μ) / S/√n\n",
    "t=(72-70)/(10/30**0.5)\n",
    "t"
   ]
  },
  {
   "cell_type": "markdown",
   "id": "5fe1f194-9885-4a6a-b64e-19b571a5d3d9",
   "metadata": {},
   "source": [
    "X̄ = 72, μ = 70, S = 10 , n = 30 , dof = 30-1 = 29 <br>\n",
    "t_critical is -2.045 and +2.045 <br>\n",
    "Since T (1.0954) is less than 2.045 the test fails to reject the null hypothesis <br>\n",
    "<br>\n",
    "Inference: The population mean is not significantly different from 70"
   ]
  }
 ],
 "metadata": {
  "kernelspec": {
   "display_name": "Python 3 (ipykernel)",
   "language": "python",
   "name": "python3"
  },
  "language_info": {
   "codemirror_mode": {
    "name": "ipython",
    "version": 3
   },
   "file_extension": ".py",
   "mimetype": "text/x-python",
   "name": "python",
   "nbconvert_exporter": "python",
   "pygments_lexer": "ipython3",
   "version": "3.10.8"
  }
 },
 "nbformat": 4,
 "nbformat_minor": 5
}
