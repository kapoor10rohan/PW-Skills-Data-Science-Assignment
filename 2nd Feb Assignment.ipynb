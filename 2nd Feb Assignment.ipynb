{
 "cells": [
  {
   "cell_type": "markdown",
   "id": "3719ccfd-50ca-4466-b160-38a024a1333c",
   "metadata": {},
   "source": [
    "### 2nd Feb Assignment\n",
    "#### Tuple, Set & Dict Assignment"
   ]
  },
  {
   "cell_type": "markdown",
   "id": "007bfe0d-2d1c-4fc0-a519-c1abef08025b",
   "metadata": {},
   "source": [
    "Q1. What are the characteristics of the tuples? Is tuple immutable? <br>\n",
    "Tuples are immutable. They're indexed and ordered data structure."
   ]
  },
  {
   "cell_type": "markdown",
   "id": "6b55e6ad-d538-4650-8558-5d734d83bd69",
   "metadata": {},
   "source": [
    "Q2. What are the two tuple methods in python? Give an example of each method. Give a reason why tuples have only two in-built methods as compared to Lists."
   ]
  },
  {
   "cell_type": "markdown",
   "id": "457afa52-050f-4e58-a026-2c06e6643527",
   "metadata": {},
   "source": [
    "\n",
    "-Tuple has 2 functions: count() and index() <br>\n",
    "-Count() gives total occurences of a specific element <br>\n",
    "-Index() will give location of first occurence of an element <br>\n",
    "-Tuples has only two methods as it is immutable so methods like adding, \n",
    "deleting, updating etc are not available for tuples"
   ]
  },
  {
   "cell_type": "code",
   "execution_count": 13,
   "id": "5915f074-3c0d-4059-8051-0e846b0f941f",
   "metadata": {},
   "outputs": [],
   "source": [
    "''' E.g. of tuple methods '''\n",
    "tuple1=(1,1,3,2,2,4)"
   ]
  },
  {
   "cell_type": "code",
   "execution_count": 14,
   "id": "e76d3b18-ceb8-4272-9a18-9aa637147292",
   "metadata": {},
   "outputs": [
    {
     "data": {
      "text/plain": [
       "2"
      ]
     },
     "execution_count": 14,
     "metadata": {},
     "output_type": "execute_result"
    }
   ],
   "source": [
    "tuple1.count(2)"
   ]
  },
  {
   "cell_type": "code",
   "execution_count": 15,
   "id": "bd79e5cd-bec7-4ece-b5f7-dcb0b914cb2b",
   "metadata": {},
   "outputs": [
    {
     "data": {
      "text/plain": [
       "3"
      ]
     },
     "execution_count": 15,
     "metadata": {},
     "output_type": "execute_result"
    }
   ],
   "source": [
    "tuple1.index(2)"
   ]
  },
  {
   "cell_type": "code",
   "execution_count": 31,
   "id": "9acef1b6-9077-4e88-86a7-1986f98ec133",
   "metadata": {},
   "outputs": [],
   "source": [
    "# Q3. Which collection datatypes in python do not allow duplicate items? Write a code using a set to remove duplicates from the given list.\n",
    "List = [1, 1, 1, 2, 1, 3, 1, 4, 2, 1, 2, 2, 2, 3, 2, 4, 3, 1, 3, 2, 3, 3, 3, 4, 4, 1, 4, 2, 4, 3, 4, 4]"
   ]
  },
  {
   "cell_type": "code",
   "execution_count": 19,
   "id": "becc718c-5159-42a3-b16b-76d41cb9ff0d",
   "metadata": {},
   "outputs": [
    {
     "data": {
      "text/plain": [
       "{1, 2, 3, 4}"
      ]
     },
     "execution_count": 19,
     "metadata": {},
     "output_type": "execute_result"
    }
   ],
   "source": [
    "''' Set is a datatype which doesn't alllow duplicate itmes '''\n",
    "set1 = set(List)\n",
    "set1"
   ]
  },
  {
   "cell_type": "code",
   "execution_count": 20,
   "id": "6d49a632-5ccd-4fc6-aef4-b2614dbb93f1",
   "metadata": {},
   "outputs": [
    {
     "data": {
      "text/plain": [
       "[1, 2, 3, 4]"
      ]
     },
     "execution_count": 20,
     "metadata": {},
     "output_type": "execute_result"
    }
   ],
   "source": [
    "list(set1)"
   ]
  },
  {
   "cell_type": "markdown",
   "id": "55aaafe2-0083-48c7-a38f-76bb6ec6acb2",
   "metadata": {},
   "source": [
    "Q4. Explain the difference between the union() and update() methods for a set. Give an example of each method."
   ]
  },
  {
   "cell_type": "markdown",
   "id": "bd96eb6f-6f58-46f1-8bbc-a6bff425011d",
   "metadata": {},
   "source": [
    "The update() method updates the original set by adding items from all the specified sets, with no duplicates whereas set. union() creates a new set and returns a copy."
   ]
  },
  {
   "cell_type": "code",
   "execution_count": 25,
   "id": "f1301b72-df79-4fea-9cb4-7d3ee8026f24",
   "metadata": {},
   "outputs": [],
   "source": [
    "set1={1,2,3,4,5}\n",
    "set2={4,5,6,7,8}"
   ]
  },
  {
   "cell_type": "code",
   "execution_count": 26,
   "id": "95f18084-bc39-4b9a-9664-2bc911b052a1",
   "metadata": {},
   "outputs": [
    {
     "data": {
      "text/plain": [
       "{1, 2, 3, 4, 5, 6, 7, 8}"
      ]
     },
     "execution_count": 26,
     "metadata": {},
     "output_type": "execute_result"
    }
   ],
   "source": [
    "set1.update(set2)\n",
    "set1"
   ]
  },
  {
   "cell_type": "code",
   "execution_count": 29,
   "id": "947d0204-3197-4c1f-a0d8-cf2c6b4fc3bf",
   "metadata": {},
   "outputs": [
    {
     "data": {
      "text/plain": [
       "{1, 2, 3, 4, 5, 6, 7, 8}"
      ]
     },
     "execution_count": 29,
     "metadata": {},
     "output_type": "execute_result"
    }
   ],
   "source": [
    "set3=set1.union(set2)\n",
    "set3"
   ]
  },
  {
   "cell_type": "markdown",
   "id": "4cc31563-ac24-478c-a29a-20754812790a",
   "metadata": {},
   "source": [
    "Q5. What is a dictionary? Give an example. Also, state whether a dictionary is ordered or unordered."
   ]
  },
  {
   "cell_type": "markdown",
   "id": "918081aa-a9ab-45b9-9e2d-0ed1c444ba76",
   "metadata": {},
   "source": [
    "Dictionary is a data structure which stores data in the form of key value pairs. <br>\n",
    "It is ordered"
   ]
  },
  {
   "cell_type": "code",
   "execution_count": 32,
   "id": "0ff95416-2d54-40d9-ae2a-1edc44ed439e",
   "metadata": {},
   "outputs": [
    {
     "data": {
      "text/plain": [
       "{1: 'a', 2: 'b', 3: 'c'}"
      ]
     },
     "execution_count": 32,
     "metadata": {},
     "output_type": "execute_result"
    }
   ],
   "source": [
    "# E.g\n",
    "dict1={1:'a',2:'b',3:'c'}\n",
    "dict1"
   ]
  },
  {
   "cell_type": "markdown",
   "id": "96e2fa15-74b8-4deb-bcd8-1abc84e8ebdc",
   "metadata": {},
   "source": [
    "Q6. Can we create a nested dictionary? If so, please give an example by creating a simple one-level\n",
    "nested dictionary."
   ]
  },
  {
   "cell_type": "markdown",
   "id": "bf85e0a0-f069-471c-8948-df946fbb502e",
   "metadata": {},
   "source": [
    "Yes, we can create nested dictionary"
   ]
  },
  {
   "cell_type": "code",
   "execution_count": 34,
   "id": "0da58a95-d11d-4a6c-a811-68c49845182f",
   "metadata": {},
   "outputs": [
    {
     "data": {
      "text/plain": [
       "{1: {'a': 'A'}, 2: {'b': 'B'}}"
      ]
     },
     "execution_count": 34,
     "metadata": {},
     "output_type": "execute_result"
    }
   ],
   "source": [
    "# E.g\n",
    "dict1={1:{'a':'A'},2:{'b':'B'}}\n",
    "dict1"
   ]
  },
  {
   "cell_type": "markdown",
   "id": "4ca2a0b0-309a-450e-99a3-80f82cb1a594",
   "metadata": {},
   "source": [
    "Q7. Using setdefault() method, create key named topics in the given dictionary and also add the value of\n",
    "the key as this list ['Python', 'Machine Learning’, 'Deep Learning'] dict1 = {'language' : 'Python', 'course': 'Data Science Masters'}"
   ]
  },
  {
   "cell_type": "code",
   "execution_count": 36,
   "id": "cdf6d6fb-7d0d-405b-afc6-562ec948e0c6",
   "metadata": {},
   "outputs": [
    {
     "data": {
      "text/plain": [
       "{'language': 'Python', 'course': 'Data Science Masters'}"
      ]
     },
     "execution_count": 36,
     "metadata": {},
     "output_type": "execute_result"
    }
   ],
   "source": [
    "dict1 = {'language' : 'Python', 'course': 'Data Science Masters'}\n",
    "dict1"
   ]
  },
  {
   "cell_type": "code",
   "execution_count": 39,
   "id": "a05d336a-dfdc-4033-adc2-6e21bd46004b",
   "metadata": {},
   "outputs": [
    {
     "data": {
      "text/plain": [
       "{'language': 'Python',\n",
       " 'course': 'Data Science Masters',\n",
       " 'Topics': ['Python', 'Machine Learning', 'Deep Learning']}"
      ]
     },
     "execution_count": 39,
     "metadata": {},
     "output_type": "execute_result"
    }
   ],
   "source": [
    "dict1.setdefault('Topics')\n",
    "dict1['Topics']=['Python', 'Machine Learning', 'Deep Learning']\n",
    "dict1    "
   ]
  },
  {
   "cell_type": "markdown",
   "id": "f6986078-ccff-4c43-a543-0c805bf30131",
   "metadata": {},
   "source": [
    "<br> Q8. What are the three view objects in dictionaries? Use the three in-built methods in python to display\n",
    "these three view objects for the given dictionary.\n",
    "dict1 = {'Sport': 'Cricket' , 'Teams': ['India', 'Australia', 'England', 'South Africa', 'Sri Lanka', 'New Zealand']}"
   ]
  },
  {
   "cell_type": "code",
   "execution_count": 42,
   "id": "45211619-21f2-4863-85e7-b6fe18fe4ef8",
   "metadata": {},
   "outputs": [
    {
     "data": {
      "text/plain": [
       "{'Sport': 'Cricket',\n",
       " 'Teams': ['India',\n",
       "  'Australia',\n",
       "  'England',\n",
       "  'South Africa',\n",
       "  'Sri Lanka',\n",
       "  'New Zealand']}"
      ]
     },
     "execution_count": 42,
     "metadata": {},
     "output_type": "execute_result"
    }
   ],
   "source": [
    "# 3 view objects are key, value, items\n",
    "dict1 = {'Sport': 'Cricket' , 'Teams': ['India', 'Australia', 'England', 'South Africa', 'Sri Lanka', 'New Zealand']}\n",
    "dict1"
   ]
  },
  {
   "cell_type": "code",
   "execution_count": 43,
   "id": "9fd883c2-3241-4ec5-b598-a4a58310fff2",
   "metadata": {},
   "outputs": [
    {
     "data": {
      "text/plain": [
       "dict_keys(['Sport', 'Teams'])"
      ]
     },
     "execution_count": 43,
     "metadata": {},
     "output_type": "execute_result"
    }
   ],
   "source": [
    "dict1.keys()"
   ]
  },
  {
   "cell_type": "code",
   "execution_count": 44,
   "id": "6a10c516-c862-453e-8115-0a343592ef78",
   "metadata": {},
   "outputs": [
    {
     "data": {
      "text/plain": [
       "dict_items([('Sport', 'Cricket'), ('Teams', ['India', 'Australia', 'England', 'South Africa', 'Sri Lanka', 'New Zealand'])])"
      ]
     },
     "execution_count": 44,
     "metadata": {},
     "output_type": "execute_result"
    }
   ],
   "source": [
    "dict1.items()"
   ]
  },
  {
   "cell_type": "code",
   "execution_count": 45,
   "id": "1bc33ff8-5ec7-4576-b2fe-20bebbcd2f76",
   "metadata": {},
   "outputs": [
    {
     "data": {
      "text/plain": [
       "dict_values(['Cricket', ['India', 'Australia', 'England', 'South Africa', 'Sri Lanka', 'New Zealand']])"
      ]
     },
     "execution_count": 45,
     "metadata": {},
     "output_type": "execute_result"
    }
   ],
   "source": [
    "dict1.values()"
   ]
  },
  {
   "cell_type": "code",
   "execution_count": null,
   "id": "f81877b7-7221-4a41-8fee-dc15db4430bd",
   "metadata": {},
   "outputs": [],
   "source": []
  }
 ],
 "metadata": {
  "kernelspec": {
   "display_name": "Python 3 (ipykernel)",
   "language": "python",
   "name": "python3"
  },
  "language_info": {
   "codemirror_mode": {
    "name": "ipython",
    "version": 3
   },
   "file_extension": ".py",
   "mimetype": "text/x-python",
   "name": "python",
   "nbconvert_exporter": "python",
   "pygments_lexer": "ipython3",
   "version": "3.10.8"
  }
 },
 "nbformat": 4,
 "nbformat_minor": 5
}
