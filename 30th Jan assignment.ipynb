{
 "cells": [
  {
   "cell_type": "markdown",
   "id": "0cdd2830-c98c-4619-ba37-15ea48e97e5a",
   "metadata": {},
   "source": [
    "### Assignment 2 \n",
    "30th Jan assignment"
   ]
  },
  {
   "cell_type": "code",
   "execution_count": 10,
   "id": "4caaca9e-9272-42ae-9785-03574aa74a28",
   "metadata": {},
   "outputs": [
    {
     "name": "stdin",
     "output_type": "stream",
     "text": [
      "Enter the percentage for grade 75\n"
     ]
    },
    {
     "name": "stdout",
     "output_type": "stream",
     "text": [
      "75\n",
      "Grade: C\n"
     ]
    }
   ],
   "source": [
    "# 1)\n",
    "percentage= int(input(\"Enter the percentage for grade\"))\n",
    "print(percentage)\n",
    "if percentage<60:\n",
    "    print('Grade: D')\n",
    "elif percentage >=60 and percentage<=80:\n",
    "    print('Grade: C')\n",
    "elif percentage>80 and percentage<=90:\n",
    "    print('Grade: B')\n",
    "elif percentage>90 and percentage<100:\n",
    "    print('Grade: A')\n",
    "else:\n",
    "    print('Invalid!')"
   ]
  },
  {
   "cell_type": "code",
   "execution_count": 18,
   "id": "ce00dc3d-52af-4f56-843e-2808774848d1",
   "metadata": {},
   "outputs": [
    {
     "name": "stdin",
     "output_type": "stream",
     "text": [
      "Enter the cost of bike: Rs 85000\n"
     ]
    },
    {
     "name": "stdout",
     "output_type": "stream",
     "text": [
      "Road tax is Rs 8500.0\n"
     ]
    }
   ],
   "source": [
    "# 2)\n",
    "bike_cost= int(input('Enter the cost of bike: Rs'))\n",
    "if bike_cost> 100000:\n",
    "    road_tax=print('Road tax is Rs '+ str(bike_cost*0.15))\n",
    "elif bike_cost>50000 and bike_cost<=100000:\n",
    "    road_tax=print('Road tax is Rs '+ str(bike_cost*0.10))\n",
    "else:\n",
    "    print('Road tax is Rs '+ str(bike_cost*0.05))"
   ]
  },
  {
   "cell_type": "code",
   "execution_count": 28,
   "id": "bde9c7f7-6fdc-46c6-8c28-7cd1fd9afd54",
   "metadata": {},
   "outputs": [
    {
     "name": "stdin",
     "output_type": "stream",
     "text": [
      "Enter the city name: agra\n"
     ]
    },
    {
     "name": "stdout",
     "output_type": "stream",
     "text": [
      "Taj Mahal is in Agra\n"
     ]
    }
   ],
   "source": [
    "# 3)\n",
    "city=input('Enter the city name:')\n",
    "city=city.lower()\n",
    "if city=='delhi':\n",
    "    print('Red Fort is in {}'.format(city.capitalize()))\n",
    "elif city=='agra':\n",
    "    print('Taj Mahal is in {}'.format(city.capitalize()))\n",
    "elif city=='jaipur':\n",
    "    print('Jal Mahal is in {}'.format(city.capitalize()))   \n",
    "else:\n",
    "    print('Invalid')"
   ]
  },
  {
   "cell_type": "code",
   "execution_count": 36,
   "id": "83511d9b-1850-41b8-bcfc-f4f3cfb38290",
   "metadata": {},
   "outputs": [
    {
     "name": "stdin",
     "output_type": "stream",
     "text": [
      "Enter any number 1000\n"
     ]
    },
    {
     "name": "stdout",
     "output_type": "stream",
     "text": [
      "5\n"
     ]
    }
   ],
   "source": [
    "#4)\n",
    "x= int(input('Enter any number'))\n",
    "count=0\n",
    "while x>=10:\n",
    "    x=x/3\n",
    "    count+=1\n",
    "print(count)    "
   ]
  },
  {
   "cell_type": "code",
   "execution_count": 1,
   "id": "677ea86f-0dfc-4fcc-8e39-d0e2c938bcfe",
   "metadata": {},
   "outputs": [
    {
     "name": "stdout",
     "output_type": "stream",
     "text": [
      "1 \n",
      "1 2 \n",
      "1 2 3 \n",
      "1 2 3 4 \n",
      "1 2 3 4 5 \n"
     ]
    }
   ],
   "source": [
    "i=1\n",
    "while i<=5:\n",
    "    j=1\n",
    "    while j<=i:\n",
    "        print(j,end=\" \")\n",
    "        j=j+1\n",
    "    print(\"\")\n",
    "    i=i+1"
   ]
  },
  {
   "cell_type": "code",
   "execution_count": 1,
   "id": "486d1ae7-b822-404f-be87-e0d6415b4712",
   "metadata": {},
   "outputs": [
    {
     "name": "stdin",
     "output_type": "stream",
     "text": [
      "Enter rows :  4\n"
     ]
    },
    {
     "name": "stdout",
     "output_type": "stream",
     "text": [
      "* * * * \n",
      "* * * \n",
      "* * \n",
      "* \n"
     ]
    }
   ],
   "source": [
    "n = int(input('Enter rows : '))\n",
    " \n",
    "i = 1\n",
    "while i <= n :\n",
    "    j = n\n",
    "    while j >= i:\n",
    "        print(\"*\", end = \" \")\n",
    "        j -= 1\n",
    "    print()\n",
    "    i += 1"
   ]
  },
  {
   "cell_type": "code",
   "execution_count": 4,
   "id": "10f658eb-dc4c-4e32-8ab5-1209b493cdd6",
   "metadata": {},
   "outputs": [
    {
     "name": "stdout",
     "output_type": "stream",
     "text": [
      "        * \n",
      "      * * \n",
      "    * * * \n",
      "  * * * * \n",
      "* * * * * \n"
     ]
    }
   ],
   "source": [
    "rows = 5\n",
    "k = 2 * rows - 2\n",
    "for i in range(0, rows):\n",
    "    for j in range(0, k):\n",
    "        print(end=\" \")\n",
    "    k = k - 2\n",
    "    for j in range(0, i + 1):\n",
    "        print(\"* \", end=\"\")\n",
    "    print(\"\")"
   ]
  },
  {
   "cell_type": "code",
   "execution_count": 3,
   "id": "22045816-e9b3-453e-b066-491625d7cf1f",
   "metadata": {},
   "outputs": [
    {
     "name": "stdout",
     "output_type": "stream",
     "text": [
      "10\n",
      "9\n",
      "8\n",
      "7\n",
      "6\n",
      "5\n",
      "4\n",
      "3\n",
      "2\n",
      "1\n"
     ]
    }
   ],
   "source": [
    "i=10\n",
    "while i>0:\n",
    "    print(i)\n",
    "    i-=1"
   ]
  },
  {
   "cell_type": "code",
   "execution_count": 5,
   "id": "228e029d-a535-45b0-97a5-4b021f197b90",
   "metadata": {},
   "outputs": [
    {
     "name": "stdin",
     "output_type": "stream",
     "text": [
      "Enter the password qwerty\n",
      "Enter the password abc123\n"
     ]
    },
    {
     "name": "stdout",
     "output_type": "stream",
     "text": [
      "Correct!\n"
     ]
    }
   ],
   "source": [
    "'''\n",
    "while loop is used when we are not sure how many times we want to run a particular code\n",
    "It is useful when we are using a boolean code\n",
    "While loop will check the condition before running. \n",
    "If the condition evaluates to True, then the loop will run the code within the loop's body and continue to run the code while the condition remains True.\n",
    "It will keep executing the desired set of code statements until that condition is no longer True.\n",
    "'''\n",
    "# E.g for entering a password\n",
    "password='abc123'\n",
    "enter_password=input('Enter the password')\n",
    "while password!=enter_password:\n",
    "    enter_password=input('Enter the password')\n",
    "else:\n",
    "    print('Correct!')\n",
    "    "
   ]
  },
  {
   "cell_type": "code",
   "execution_count": null,
   "id": "8f1f21c9-322e-46a2-9450-a2047f9a9e9f",
   "metadata": {},
   "outputs": [],
   "source": []
  }
 ],
 "metadata": {
  "kernelspec": {
   "display_name": "Python 3 (ipykernel)",
   "language": "python",
   "name": "python3"
  },
  "language_info": {
   "codemirror_mode": {
    "name": "ipython",
    "version": 3
   },
   "file_extension": ".py",
   "mimetype": "text/x-python",
   "name": "python",
   "nbconvert_exporter": "python",
   "pygments_lexer": "ipython3",
   "version": "3.10.8"
  }
 },
 "nbformat": 4,
 "nbformat_minor": 5
}
