{
 "cells": [
  {
   "cell_type": "markdown",
   "id": "709154d0-87ef-43ce-8653-d6752c853305",
   "metadata": {},
   "source": [
    "Q1. What is multiprocessing in python? Why is it useful?"
   ]
  },
  {
   "cell_type": "markdown",
   "id": "3a18211c-7d95-4540-977d-9e97c9069935",
   "metadata": {},
   "source": [
    "The multiprocessing package supports spawning processes. It refers to a function that loads and executes a new child processes. For the child to terminate or to continue executing concurrent computing,then the current process hasto wait using an API, which is similar to threading module."
   ]
  },
  {
   "cell_type": "markdown",
   "id": "af0b01a6-89e4-4936-ab9f-9416a023dc33",
   "metadata": {},
   "source": [
    "Q2. What are the differences between multiprocessing and multithreading?"
   ]
  },
  {
   "cell_type": "markdown",
   "id": "35345df8-e97b-4bf4-a335-d4dd9ef53814",
   "metadata": {},
   "source": [
    "-In Multiprocessing, CPUs are added for increasing computing power. While In Multithreading, many threads are created of a single process for increasing computing power. <br>\n",
    "-In Multiprocessing, Many processes are executed simultaneously. While in multithreading, many threads of a process are executed simultaneously. <br>\n",
    "-In Multiprocessing, Process creation is a time-consuming process.While in Multithreading, process creation is according to economical. <br>\n",
    "-In Multiprocessing, every process owned a separate address space.While in Multithreading, a common address space is shared by all the threads."
   ]
  },
  {
   "cell_type": "markdown",
   "id": "db93d22e-24c3-4ca2-80d9-c087278a87d0",
   "metadata": {},
   "source": [
    "Q3. Write a python code to create a process using the multiprocessing module."
   ]
  },
  {
   "cell_type": "code",
   "execution_count": 11,
   "id": "e6693b96-e758-4263-8efa-c4eeae7e8efe",
   "metadata": {},
   "outputs": [],
   "source": [
    "import multiprocessing"
   ]
  },
  {
   "cell_type": "code",
   "execution_count": 15,
   "id": "da484d9c-fff9-4ad3-ab03-f27510c05d19",
   "metadata": {},
   "outputs": [
    {
     "name": "stdout",
     "output_type": "stream",
     "text": [
      "this is my main prod\n",
      "this is my multiprocessing prog\n"
     ]
    }
   ],
   "source": [
    "def test():\n",
    "    print(\"this is my multiprocessing prog\")\n",
    "\n",
    "if __name__ == \"__main__\":\n",
    "    m = multiprocessing.Process(target=test)\n",
    "    print(\"this is my main prod\")\n",
    "    m.start()\n",
    "    m.join()"
   ]
  },
  {
   "cell_type": "markdown",
   "id": "935aad20-ef41-4c08-9e0b-74aa1fe8ed92",
   "metadata": {},
   "source": [
    "<br>\n",
    "Q4. What is a multiprocessing pool in python? Why is it used?"
   ]
  },
  {
   "cell_type": "markdown",
   "id": "f78e695d-4d46-4c64-ac31-b9254f3a8697",
   "metadata": {},
   "source": [
    "The multiprocessing.Pool is a flexible and powerful process pool for executing ad hoc CPU-bound tasks in a synchronous or asynchronous manner. <br>\n",
    "Python multiprocessing Pool can be used for parallel execution of a function across multiple input values, distributing the input data across processes (data parallelism)."
   ]
  },
  {
   "cell_type": "markdown",
   "id": "79081cad-28f8-4a69-88e5-890df9853c2d",
   "metadata": {},
   "source": [
    "Q5. How can we create a pool of worker processes in python using the multiprocessing"
   ]
  },
  {
   "cell_type": "code",
   "execution_count": 18,
   "id": "1ef10e6d-50a8-4173-b05c-2c79c1090713",
   "metadata": {},
   "outputs": [
    {
     "name": "stdout",
     "output_type": "stream",
     "text": [
      "<multiprocessing.pool.Pool state=RUN pool_size=64>\n",
      "64\n",
      "64\n"
     ]
    }
   ],
   "source": [
    "from multiprocessing.pool import Pool\n",
    "from multiprocessing import active_children\n",
    " \n",
    "# protect the entry point\n",
    "if __name__ == '__main__':\n",
    "    # create a process pool with the default number of workers\n",
    "    pool = Pool()\n",
    "    # report the status of the process pool\n",
    "    print(pool)\n",
    "    # report the number of processes in the pool\n",
    "    print(pool._processes)\n",
    "    # report the number of active child processes\n",
    "    children = active_children()\n",
    "    print(len(children))"
   ]
  },
  {
   "cell_type": "markdown",
   "id": "02a2da6b-220e-47a7-8ad1-5d4f19772fb1",
   "metadata": {},
   "source": [
    "<br>\n",
    "Q6. Write a python program to create 4 processes, each process should print a different number using the\n",
    "multiprocessing module in python."
   ]
  },
  {
   "cell_type": "code",
   "execution_count": 21,
   "id": "24e8a4e2-4114-4316-b93a-8b7b2ef53352",
   "metadata": {},
   "outputs": [
    {
     "name": "stdout",
     "output_type": "stream",
     "text": [
      " Process ID:  2222 Process ID:   Number: 2225  Number: 1 \n",
      "2 Process ID: \n",
      " 2244 Number:   Process ID: 3 \n",
      "2263 Number:  4\n"
     ]
    }
   ],
   "source": [
    "def print_number(num):\n",
    "    print(\" Process ID: \", multiprocessing.current_process().pid, \"Number: \", num)\n",
    "\n",
    "if __name__ == '__main__':\n",
    "    num_list = [1, 2, 3, 4]\n",
    "    processes = []\n",
    "    for num in num_list:\n",
    "        p = multiprocessing.Process(target=print_number, args=(num,))\n",
    "        processes.append(p)\n",
    "        p.start()\n",
    "\n",
    "    for p in processes:\n",
    "        p.join()"
   ]
  },
  {
   "cell_type": "code",
   "execution_count": null,
   "id": "2c990812-558d-4eea-aa7c-9b7dcd114e5e",
   "metadata": {},
   "outputs": [],
   "source": []
  }
 ],
 "metadata": {
  "kernelspec": {
   "display_name": "Python 3 (ipykernel)",
   "language": "python",
   "name": "python3"
  },
  "language_info": {
   "codemirror_mode": {
    "name": "ipython",
    "version": 3
   },
   "file_extension": ".py",
   "mimetype": "text/x-python",
   "name": "python",
   "nbconvert_exporter": "python",
   "pygments_lexer": "ipython3",
   "version": "3.10.8"
  }
 },
 "nbformat": 4,
 "nbformat_minor": 5
}
