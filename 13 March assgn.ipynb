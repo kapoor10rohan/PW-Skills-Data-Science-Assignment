{
 "cells": [
  {
   "cell_type": "markdown",
   "id": "15330a62-d56c-4a8d-b805-7bd561b047f2",
   "metadata": {},
   "source": [
    "Q1. Explain the assumptions required to use ANOVA and provide examples of violations that could impact\n",
    "the validity of the results.\n"
   ]
  },
  {
   "cell_type": "markdown",
   "id": "924c74b0-262a-4261-93e4-8a31245f1f38",
   "metadata": {},
   "source": [
    "There are three primary assumptions in ANOVA:\n",
    "\n",
    "The responses for each factor level have a normal population distribution. <br>\n",
    "These distributions have the same variance.<br>\n",
    "The data are independent.<br>\n",
    "\n",
    "Potential assumption violations include:\n",
    "\n",
    "Implicit factors: lack of independence within a sample<br>\n",
    "Lack of independence: lack of independence between samples<br>\n",
    "Outliers: apparent nonnormality by a few data points<br>\n",
    "Nonnormality: nonnormality of entire samples<br>\n",
    "Unequal population variances<br>\n",
    "Patterns in plots of data: detecting violation assumptions graphically<br>\n",
    "Special problems with small sample sizes<br>\n",
    "Special problems with unbalanced sample sizes<br>\n",
    "Multiple comparisons: effects of assumption violations on multiple comparison tests"
   ]
  },
  {
   "cell_type": "markdown",
   "id": "82c4e1bf-803a-445a-b29b-b51914a99c78",
   "metadata": {},
   "source": [
    "Q2. What are the three types of ANOVA, and in what situations would each be used?\n"
   ]
  },
  {
   "cell_type": "markdown",
   "id": "7c2180b4-28f0-4d18-a0f0-497b9ba59bab",
   "metadata": {},
   "source": [
    "One-Way ANOVA\n",
    "\n",
    "A one-way ANOVA has just one independent variable. For example, difference in IQ can be assessed by Country, and County can have 2, 20, or more different categories to compare.\n",
    "\n",
    "Two-Way ANOVA\n",
    "\n",
    "A two-way ANOVA (are also called factorial ANOVA) refers to an ANOVA using two independent variables. Expanding the example above, a 2-way ANOVA can examine differences in IQ scores (the dependent variable) by Country (independent variable 1) and Gender (independent variable 2). Two-way ANOVA can be used to examine the interaction between the two independent variables. Interactions indicate that differences are not uniform across all categories of the independent variables. For example, females may have higher IQ scores overall compared to males, but this difference could be greater (or less) in European countries compared to North American countries.\n",
    "\n",
    "N-Way ANOVA\n",
    "\n",
    "A researcher can also use more than two independent variables, and this is an n-way ANOVA (with n being the number of independent variables you have). For example, potential differences in IQ scores can be examined by Country, Gender, Age group, Ethnicity, etc, simultaneously."
   ]
  },
  {
   "cell_type": "markdown",
   "id": "183b5d78-03b8-4efa-af10-4b969ae794bf",
   "metadata": {},
   "source": [
    "Q3. What is the partitioning of variance in ANOVA, and why is it important to understand this concept?\n"
   ]
  },
  {
   "cell_type": "markdown",
   "id": "991e8ac5-6aa9-4aaa-a4c0-d1e539172418",
   "metadata": {},
   "source": [
    "Partitioning of variance in ANOVA refers to hypothesis testing and it is as follows:\n",
    "\n",
    "Null hypothesis (H0) : σ1²=σ2²=σ3²= .......σk² (k = number of levels) \n",
    "\n",
    "Alternate hypothesis (Ha): Atleast one of the sample mean is not equal\n",
    "\n",
    "The test statistic in ANOVA is the F test:\n",
    "\n",
    "F = (Variance between samples) / (Variance within samples)"
   ]
  },
  {
   "cell_type": "markdown",
   "id": "7bfa49ba-c207-4a29-be0d-0a758170f0cc",
   "metadata": {},
   "source": [
    "Q4. How would you calculate the total sum of squares (SST), explained sum of squares (SSE), and residual\n",
    "sum of squares (SSR) in a one-way ANOVA using Python?\n"
   ]
  },
  {
   "cell_type": "code",
   "execution_count": 1,
   "id": "a37ae9d5-1963-4808-bad0-f16e7607722d",
   "metadata": {},
   "outputs": [
    {
     "name": "stdout",
     "output_type": "stream",
     "text": [
      "SST: 151.33333333333331\n",
      "SSE: 151.3333333333332\n",
      "SSR: 6.626431603856499e-29\n"
     ]
    }
   ],
   "source": [
    "import pandas as pd\n",
    "import statsmodels.api as sm\n",
    "from statsmodels.formula.api import ols\n",
    "\n",
    "# Create a sample dataset with a categorical variable and a continuous variable\n",
    "df = pd.DataFrame({'group': ['A', 'B', 'C', 'D', 'E', 'F'],\n",
    "                   'score': [10, 15, 20, 12, 18, 25]})\n",
    "\n",
    "# Fit a one-way ANOVA model\n",
    "model = ols('score ~ group', data=df).fit()\n",
    "\n",
    "# Calculate the total sum of squares (SST)\n",
    "sst = sum((df['score'] - df['score'].mean()) ** 2)\n",
    "\n",
    "# Calculate the explained sum of squares (SSE)\n",
    "sse = sum((model.predict(df) - df['score'].mean()) ** 2)\n",
    "\n",
    "# Calculate the residual sum of squares (SSR)\n",
    "ssr = sum((df['score'] - model.predict(df)) ** 2)\n",
    "\n",
    "print('SST:', sst)\n",
    "print('SSE:', sse)\n",
    "print('SSR:', ssr)"
   ]
  },
  {
   "cell_type": "markdown",
   "id": "14cffd84-ed23-4efa-a91f-ee8cc5a784f5",
   "metadata": {},
   "source": [
    "Q5. In a two-way ANOVA, how would you calculate the main effects and interaction effects using Python?\n"
   ]
  },
  {
   "cell_type": "code",
   "execution_count": 2,
   "id": "7a8db8f8-09c9-44ca-b6f4-ee6fe9e2e182",
   "metadata": {},
   "outputs": [
    {
     "name": "stdout",
     "output_type": "stream",
     "text": [
      "                sum_sq     df         F    PR(>F)\n",
      "sex         231.460310    1.0  3.022685  0.083390\n",
      "time        473.011803    1.0  6.177153  0.013623\n",
      "sex:time      3.371906    1.0  0.044034  0.833968\n",
      "Residual  18377.855945  240.0       NaN       NaN\n"
     ]
    }
   ],
   "source": [
    "import seaborn as sns\n",
    "import pandas as pd\n",
    "import statsmodels.api as sm\n",
    "from statsmodels.formula.api import ols\n",
    "\n",
    "# Load the tips dataset from seaborn\n",
    "tips = sns.load_dataset(\"tips\")\n",
    "\n",
    "# Create a formula for the ANOVA model\n",
    "formula = 'total_bill ~ sex + time + sex:time'\n",
    "\n",
    "# Fit the ANOVA model\n",
    "model = ols(formula, data=tips).fit()\n",
    "\n",
    "# Perform the ANOVA and print the results table\n",
    "anova_table = sm.stats.anova_lm(model, typ=2)\n",
    "print(anova_table)"
   ]
  },
  {
   "cell_type": "markdown",
   "id": "5bb6cf62-5547-4bbd-8641-d58a7917d2b5",
   "metadata": {},
   "source": [
    "Q6. Suppose you conducted a one-way ANOVA and obtained an F-statistic of 5.23 and a p-value of 0.02.\n",
    "What can you conclude about the differences between the groups, and how would you interpret these\n",
    "results?\n"
   ]
  },
  {
   "cell_type": "markdown",
   "id": "22f65cfb-886e-4a23-94dc-25010f6ca4e8",
   "metadata": {},
   "source": [
    "F stat is 5.23 and p is 0.02 so there is significant differnce between the means as p is less than 0.05"
   ]
  },
  {
   "cell_type": "markdown",
   "id": "82b8c560-9e2e-4f36-950f-36aefd8407e5",
   "metadata": {},
   "source": [
    "Q7. In a repeated measures ANOVA, how would you handle missing data, and what are the potential\n",
    "consequences of using different methods to handle missing data?\n"
   ]
  },
  {
   "cell_type": "markdown",
   "id": "8e19fa0e-0917-4304-b37c-460650f03669",
   "metadata": {},
   "source": [
    "Handling missing data in a repeated measures ANOVA can be challenging, as the data is often dependent and the same individuals are measured across multiple time points or conditions. There are different methods to handle missing data, including:\n",
    "\n",
    "Listwise deletion: This method involves excluding all individuals who have missing data on any of the variables. While this method is straightforward, it can lead to a reduction in sample size and loss of statistical power.\n",
    "\n",
    "Mean imputation: This method involves replacing missing values with the mean value for that variable. While this method is easy to implement, it can lead to biased estimates of the means and variances.\n",
    "\n",
    "Maximum likelihood estimation: This method involves using statistical models to estimate the missing values based on the available data. This method can provide unbiased estimates of the means and variances, but it requires a sophisticated statistical model and may not work well for small sample sizes.\n",
    "\n",
    "The consequences of using different methods to handle missing data can vary depending on the amount and pattern of missing data, as well as the method used. In general, using listwise deletion can lead to a reduction in statistical power, while mean imputation can lead to biased estimates of the means and variances. Maximum likelihood estimation can provide unbiased estimates of the means and variances, but it may not work well for small sample sizes or when the missing data is not missing at random. It is important to carefully consider the amount and pattern of missing data and choose a method that is appropriate for the specific research question and data at hand."
   ]
  },
  {
   "cell_type": "markdown",
   "id": "afe96696-0391-4c52-8b84-65ea34445d6f",
   "metadata": {},
   "source": [
    "Q8. What are some common post-hoc tests used after ANOVA, and when would you use each one? Provide\n",
    "an example of a situation where a post-hoc test might be necessary."
   ]
  },
  {
   "cell_type": "markdown",
   "id": "765f4d97-d054-4b36-8f70-d9f360571d3f",
   "metadata": {},
   "source": [
    "Post-hoc tests are used to determine which groups differ significantly from each other after obtaining a significant result from an ANOVA. Some common post-hoc tests include Tukey's HSD, Bonferroni correction, Scheffé's method, and Dunnett's test.\n",
    "\n",
    "Tukey's HSD: This test is used to compare all possible pairs of groups to determine which pairs have a significant difference. It controls the family-wise error rate (FWER), which is the probability of making at least one type I error among all the comparisons. Tukey's HSD is commonly used when there are equal sample sizes and variances across all groups.\n",
    "\n",
    "Bonferroni correction: This test is used to control the FWER by dividing the significance level by the number of pairwise comparisons. For example, if there are four groups, and the significance level is set to 0.05, then the adjusted significance level would be 0.05/6 = 0.0083, since there are six pairwise comparisons. Bonferroni correction is a conservative method, and it is commonly used when there are unequal sample sizes or variances across groups.\n",
    "\n",
    "Scheffé's method: This test is also used to control the FWER, but it is less conservative than Bonferroni correction. It is commonly used when there are unequal sample sizes or variances across groups. Dunnett's test: This test is used to compare each group to a control group. It controls the family-wise error rate for these comparisons. An example of a situation where a post-hoc test might be necessary is in a study comparing the effectiveness of three different types of pain medication. An ANOVA might reveal a significant difference between the groups, but a post-hoc test would be necessary to determine which specific pairs of groups differ significantly from each other."
   ]
  },
  {
   "cell_type": "markdown",
   "id": "d0fdd4fb-19de-4285-aa40-a0fa538f7f09",
   "metadata": {},
   "source": [
    "Q9. A researcher wants to compare the mean weight loss of three diets: A, B, and C. They collect data from\n",
    "50 participants who were randomly assigned to one of the diets. Conduct a one-way ANOVA using Python\n",
    "to determine if there are any significant differences between the mean weight loss of the three diets.\n",
    "Report the F-statistic and p-value, and interpret the results."
   ]
  },
  {
   "cell_type": "code",
   "execution_count": 1,
   "id": "68e8e25d-b5f8-43f3-bdb6-aa883b341c4a",
   "metadata": {},
   "outputs": [],
   "source": [
    "#H0: there is no difference among group means\n",
    "#Ha: there is atleast 1 group difference among the group means\n",
    "import numpy as np\n",
    "import pandas as pd\n",
    "#for convenience a total of 51 observations is assumed for demonstration\n",
    "df = pd.DataFrame({\"diet\":np.repeat([\"A\",\"B\",\"C\"],17),\"weight\":np.random.randint(40,70,51)})"
   ]
  },
  {
   "cell_type": "code",
   "execution_count": 3,
   "id": "10dd0fb7-5338-4be2-a4db-c36105b53dad",
   "metadata": {},
   "outputs": [
    {
     "data": {
      "text/html": [
       "<div>\n",
       "<style scoped>\n",
       "    .dataframe tbody tr th:only-of-type {\n",
       "        vertical-align: middle;\n",
       "    }\n",
       "\n",
       "    .dataframe tbody tr th {\n",
       "        vertical-align: top;\n",
       "    }\n",
       "\n",
       "    .dataframe thead th {\n",
       "        text-align: right;\n",
       "    }\n",
       "</style>\n",
       "<table border=\"1\" class=\"dataframe\">\n",
       "  <thead>\n",
       "    <tr style=\"text-align: right;\">\n",
       "      <th></th>\n",
       "      <th>df</th>\n",
       "      <th>sum_sq</th>\n",
       "      <th>mean_sq</th>\n",
       "      <th>F</th>\n",
       "      <th>PR(&gt;F)</th>\n",
       "    </tr>\n",
       "  </thead>\n",
       "  <tbody>\n",
       "    <tr>\n",
       "      <th>C(diet)</th>\n",
       "      <td>2.0</td>\n",
       "      <td>50.156863</td>\n",
       "      <td>25.078431</td>\n",
       "      <td>0.296597</td>\n",
       "      <td>0.744696</td>\n",
       "    </tr>\n",
       "    <tr>\n",
       "      <th>Residual</th>\n",
       "      <td>48.0</td>\n",
       "      <td>4058.588235</td>\n",
       "      <td>84.553922</td>\n",
       "      <td>NaN</td>\n",
       "      <td>NaN</td>\n",
       "    </tr>\n",
       "  </tbody>\n",
       "</table>\n",
       "</div>"
      ],
      "text/plain": [
       "            df       sum_sq    mean_sq         F    PR(>F)\n",
       "C(diet)    2.0    50.156863  25.078431  0.296597  0.744696\n",
       "Residual  48.0  4058.588235  84.553922       NaN       NaN"
      ]
     },
     "execution_count": 3,
     "metadata": {},
     "output_type": "execute_result"
    }
   ],
   "source": [
    "import statsmodels.api as sm\n",
    "from statsmodels.formula.api import ols\n",
    "  \n",
    "model = ols(\n",
    "    'weight ~ C(diet)', data=df).fit()\n",
    "results = sm.stats.anova_lm(model, typ=1)\n",
    "\n",
    "results"
   ]
  },
  {
   "cell_type": "markdown",
   "id": "7ea0395d-1606-4b81-ba34-749cbb93798a",
   "metadata": {},
   "source": [
    "From the one way anova we got the F = 0.296597 and p-value = 0.744696\n",
    "\n",
    "N = 51 , a = 3 , n = 17 dof(between) = a - 1 = 2 dof (within) = N - a = 48 dof (total) = N - 1 = 50 crtical value of F at alpha = 0.05 is 3.2317 Decision rule: If F > 3.2317 then the null hypothesis will be rejected\n",
    "\n",
    "Inference: Since the F value is less than the critical limit the null hypothesis is accepted so there is no difference in means in atleast one pair of groups"
   ]
  },
  {
   "cell_type": "markdown",
   "id": "a075d372-a19c-4e0f-bdd3-a26552fed9a1",
   "metadata": {},
   "source": [
    "Q10. A company wants to know if there are any significant differences in the average time it takes to complete a task using three different software programs: Program A, Program B, and Program C. They randomly assign 30 employees to one of the programs and record the time it takes each employee to complete the task. Conduct a two-way ANOVA using Python to determine if there are any main effects or interaction effects between the software programs and employee experience level (novice vs. experienced). Report the F-statistics and p-values, and interpret the results."
   ]
  },
  {
   "cell_type": "code",
   "execution_count": 5,
   "id": "dbb0418b-000f-45ef-b343-7a75ffb36f82",
   "metadata": {},
   "outputs": [],
   "source": [
    "#H0: there is no difference among group means\n",
    "#Ha: there is atleast 1 group difference among the group means\n",
    "#import libraries:\n",
    "import numpy as np\n",
    "import pandas as pd\n",
    "# Create a dataframe\n",
    "prog = np.repeat([\"Program A\",\"Program B\",\"Program C\"], 10)\n",
    "np.random.shuffle(prog)\n",
    "exp = np.repeat(['novice', 'experienced'], 15)\n",
    "np.random.shuffle(exp)\n",
    "df = pd.DataFrame({'Program': prog,\n",
    "                          'Exp_lvl':exp,\n",
    "                          'time': np.random.randint(20,60,30)})"
   ]
  },
  {
   "cell_type": "code",
   "execution_count": 6,
   "id": "9311b294-5b37-4d90-b2ad-98d10fb62999",
   "metadata": {},
   "outputs": [
    {
     "data": {
      "text/html": [
       "<div>\n",
       "<style scoped>\n",
       "    .dataframe tbody tr th:only-of-type {\n",
       "        vertical-align: middle;\n",
       "    }\n",
       "\n",
       "    .dataframe tbody tr th {\n",
       "        vertical-align: top;\n",
       "    }\n",
       "\n",
       "    .dataframe thead th {\n",
       "        text-align: right;\n",
       "    }\n",
       "</style>\n",
       "<table border=\"1\" class=\"dataframe\">\n",
       "  <thead>\n",
       "    <tr style=\"text-align: right;\">\n",
       "      <th></th>\n",
       "      <th>sum_sq</th>\n",
       "      <th>df</th>\n",
       "      <th>F</th>\n",
       "      <th>PR(&gt;F)</th>\n",
       "    </tr>\n",
       "  </thead>\n",
       "  <tbody>\n",
       "    <tr>\n",
       "      <th>C(Exp_lvl)</th>\n",
       "      <td>41.128358</td>\n",
       "      <td>1.0</td>\n",
       "      <td>0.313898</td>\n",
       "      <td>0.580491</td>\n",
       "    </tr>\n",
       "    <tr>\n",
       "      <th>C(Program)</th>\n",
       "      <td>146.928358</td>\n",
       "      <td>2.0</td>\n",
       "      <td>0.560690</td>\n",
       "      <td>0.578113</td>\n",
       "    </tr>\n",
       "    <tr>\n",
       "      <th>C(Exp_lvl):C(Program)</th>\n",
       "      <td>381.281166</td>\n",
       "      <td>2.0</td>\n",
       "      <td>1.454998</td>\n",
       "      <td>0.253263</td>\n",
       "    </tr>\n",
       "    <tr>\n",
       "      <th>Residual</th>\n",
       "      <td>3144.590476</td>\n",
       "      <td>24.0</td>\n",
       "      <td>NaN</td>\n",
       "      <td>NaN</td>\n",
       "    </tr>\n",
       "  </tbody>\n",
       "</table>\n",
       "</div>"
      ],
      "text/plain": [
       "                            sum_sq    df         F    PR(>F)\n",
       "C(Exp_lvl)               41.128358   1.0  0.313898  0.580491\n",
       "C(Program)              146.928358   2.0  0.560690  0.578113\n",
       "C(Exp_lvl):C(Program)   381.281166   2.0  1.454998  0.253263\n",
       "Residual               3144.590476  24.0       NaN       NaN"
      ]
     },
     "execution_count": 6,
     "metadata": {},
     "output_type": "execute_result"
    }
   ],
   "source": [
    "# Importing libraries\n",
    "import statsmodels.api as sm\n",
    "from statsmodels.formula.api import ols\n",
    "  \n",
    "# Performing two-way ANOVA\n",
    "model = ols(\n",
    "    'time ~ C(Exp_lvl) + C(Program) +\\\n",
    "    C(Exp_lvl):C(Program)', data=df).fit()\n",
    "results = sm.stats.anova_lm(model, typ=2)\n",
    "#results\n",
    "results"
   ]
  },
  {
   "cell_type": "markdown",
   "id": "a4455b30-0bf4-4ea9-95c2-16c86cb520d3",
   "metadata": {},
   "source": [
    "for exp_lvl the critical value of F = 4.2597 and for program as well as the interaction of experience level with program the critical value of F = 3.4028 Decision rule: If the F statistic is more than the correspond critical limit then null hypothesis is rejected F values from the test are:\n",
    "\n",
    "Exp_lvl = 0.59\n",
    "Program = 0.65\n",
    "Exp_lvl and Program = 1.89\n",
    "Inference: Since none of F statistic is higher than its critical limit the test has failed to reject the null hypothesis Therefore we conclude that the means among all groups are the same"
   ]
  },
  {
   "cell_type": "markdown",
   "id": "789ec612-48fc-4d8b-845c-010d5c677858",
   "metadata": {},
   "source": [
    "Q11. An educational researcher is interested in whether a new teaching method improves student test scores. They randomly assign 100 students to either the control group (traditional teaching method) or the experimental group (new teaching method) and administer a test at the end of the semester. Conduct a two-sample t-test using Python to determine if there are any significant differences in test scores between the two groups. If the results are significant, follow up with a post-hoc test to determine which group(s) differ significantly from each other."
   ]
  },
  {
   "cell_type": "code",
   "execution_count": 7,
   "id": "ad19e743-c15f-49dc-a730-e03a119a338e",
   "metadata": {},
   "outputs": [
    {
     "name": "stdout",
     "output_type": "stream",
     "text": [
      "t-statistic: -2.885705467129249\n",
      "p-value: 0.004338429120937719\n",
      "   Multiple Comparison of Means - Tukey HSD, FWER=0.05   \n",
      "=========================================================\n",
      " group1    group2    meandiff p-adj  lower  upper  reject\n",
      "---------------------------------------------------------\n",
      "control experimental   4.0434 0.0043 1.2802 6.8065   True\n",
      "---------------------------------------------------------\n"
     ]
    }
   ],
   "source": [
    "import numpy as np\n",
    "from scipy.stats import ttest_ind\n",
    "\n",
    "# generate sample data\n",
    "control_scores = np.random.normal(70, 10, 100)\n",
    "experimental_scores = np.random.normal(75, 10, 100)\n",
    "\n",
    "# conduct two-sample t-test\n",
    "t_statistic, p_value = ttest_ind(control_scores, experimental_scores)\n",
    "\n",
    "# print results\n",
    "print(\"t-statistic:\", t_statistic)\n",
    "print(\"p-value:\", p_value)\n",
    "\n",
    "# conduct post-hoc test (Tukey's HSD)\n",
    "from statsmodels.stats.multicomp import pairwise_tukeyhsd\n",
    "\n",
    "tukey_results = pairwise_tukeyhsd(np.concatenate((control_scores, experimental_scores)),\n",
    "                                  np.concatenate((np.repeat('control', 100), np.repeat('experimental', 100))))\n",
    "\n",
    "print(tukey_results)"
   ]
  },
  {
   "cell_type": "markdown",
   "id": "c5d43078-2885-466c-88fa-c47ebbf25285",
   "metadata": {},
   "source": [
    "Q12. A researcher wants to know if there are any significant differences in the average daily sales of three retail stores: Store A, Store B, and Store C. They randomly select 30 days and record the sales for each store on those days. Conduct a repeated measures ANOVA using Python to determine if there are any significant differences in sales between the three stores. If the results are significant, follow up with a post- hoc test to determine which store(s) differ significantly from each other."
   ]
  },
  {
   "cell_type": "code",
   "execution_count": 12,
   "id": "df1b5120-d310-41e2-b900-916fc520b1f5",
   "metadata": {},
   "outputs": [
    {
     "name": "stdout",
     "output_type": "stream",
     "text": [
      "  Source  ddof1  ddof2         F     p-unc      ng2       eps\n",
      "0  store      2     58  1.669709  0.197225  0.03671  0.959348\n"
     ]
    }
   ],
   "source": [
    "import pandas as pd\n",
    "import numpy as np\n",
    "import scipy.stats as stats\n",
    "import pingouin as pg\n",
    "\n",
    "# create a sample dataset\n",
    "np.random.seed(123)\n",
    "data = pd.DataFrame({\n",
    "    'day': np.repeat(range(1, 31), 3),\n",
    "    'store': np.tile(['A', 'B', 'C'], 30),\n",
    "    'sales': np.random.normal(loc=1000, scale=100, size=90)\n",
    "})\n",
    "\n",
    "# conduct repeated measures ANOVA\n",
    "rm_anova = pg.rm_anova(dv='sales', within='store', subject='day', data=data)\n",
    "print(rm_anova)"
   ]
  },
  {
   "cell_type": "code",
   "execution_count": 13,
   "id": "df4def01-a730-41c4-a1bc-d0d02655aaaa",
   "metadata": {},
   "outputs": [
    {
     "name": "stdout",
     "output_type": "stream",
     "text": [
      "  Contrast  A  B  Paired  Parametric         T   dof alternative     p-unc  \\\n",
      "0    store  A  B    True        True -1.740227  29.0   two-sided  0.092423   \n",
      "1    store  A  C    True        True -0.892032  29.0   two-sided  0.379718   \n",
      "2    store  B  C    True        True  0.998930  29.0   two-sided  0.326091   \n",
      "\n",
      "     p-corr p-adjust   BF10    hedges  \n",
      "0  0.277268     bonf  0.742 -0.453587  \n",
      "1  1.000000     bonf   0.28 -0.256064  \n",
      "2  0.978273     bonf  0.307  0.216494  \n"
     ]
    },
    {
     "name": "stderr",
     "output_type": "stream",
     "text": [
      "/opt/conda/lib/python3.10/site-packages/pingouin/pairwise.py:28: UserWarning: pairwise_ttests is deprecated, use pairwise_tests instead.\n",
      "  warnings.warn(\"pairwise_ttests is deprecated, use pairwise_tests instead.\", UserWarning)\n"
     ]
    }
   ],
   "source": [
    "# conduct pairwise t-test with Bonferroni correction\n",
    "posthoc = pg.pairwise_ttests(dv='sales', within='store', subject='day', data=data, padjust='bonf')\n",
    "print(posthoc)"
   ]
  },
  {
   "cell_type": "code",
   "execution_count": null,
   "id": "23070f24-6c0c-4330-9a80-2774fa213c4e",
   "metadata": {},
   "outputs": [],
   "source": []
  }
 ],
 "metadata": {
  "kernelspec": {
   "display_name": "Python 3 (ipykernel)",
   "language": "python",
   "name": "python3"
  },
  "language_info": {
   "codemirror_mode": {
    "name": "ipython",
    "version": 3
   },
   "file_extension": ".py",
   "mimetype": "text/x-python",
   "name": "python",
   "nbconvert_exporter": "python",
   "pygments_lexer": "ipython3",
   "version": "3.10.8"
  }
 },
 "nbformat": 4,
 "nbformat_minor": 5
}
