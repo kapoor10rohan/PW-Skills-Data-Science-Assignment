{
 "cells": [
  {
   "cell_type": "markdown",
   "id": "40992599-4ddf-4651-abb3-4888c7347143",
   "metadata": {},
   "source": [
    "\n"
   ]
  },
  {
   "cell_type": "markdown",
   "id": "9ed21090-f373-45fd-ad3e-1ef41543babd",
   "metadata": {},
   "source": [
    "Q1: What are the Probability Mass Function (PMF) and Probability Density Function (PDF)? Explain with\n",
    "an example."
   ]
  },
  {
   "cell_type": "markdown",
   "id": "a4132acb-c85d-467a-913f-ea25eb5841ae",
   "metadata": {},
   "source": [
    "The PDF is a function that describes the probability of a continuous random variable taking on a certain value. It is a mathematical function that describes the probability that a random variable will fall within a certain range of values.\n",
    "\n",
    "The probability density function is used in the yearly modelling of atmospheric NO concentration levels. Modelling of diesel engine combustion.\n",
    "\n",
    "The PMF is a function that describes the probability of a discrete random variable taking on a certain value. It is a mathematical function that describes the probability that a random variable will take on a specific value rather than falling within a range of values.\n",
    "\n",
    "Suppose a fair coin is tossed twice and the sample space is recorded as S = [HH, HT, TH, TT]. The probability of getting heads needs to be determined. Let X be the random variable that shows how many heads are obtained. X can take on the values 0, 1, 2. The probability that X will be equal to 1 is 0.5. Thus, it can be said that the probability mass function of X evaluated at 1 will be 0.5.\n"
   ]
  },
  {
   "cell_type": "markdown",
   "id": "a8063fbc-8818-43cc-bcbe-ad712e531d50",
   "metadata": {},
   "source": [
    "\n",
    "Q2: What is Cumulative Density Function (CDF)? Explain with an example. Why CDF is used?"
   ]
  },
  {
   "cell_type": "markdown",
   "id": "c0fb6781-0c7a-4937-bde2-e964dbb87218",
   "metadata": {},
   "source": [
    "\n",
    "The CDF is a function that describes the probability that a random variable (continuous or discrete) will take on a value less than or equal to a certain value. It is a mathematical function that describes the probability that a random variable will fall within a certain range of values, up to and including a specific value. EG toss a coin twice.\n",
    "\n",
    "The advantage of the CDF is that it can be defined for any kind of random variable (discrete, continuous, and mixed).\n",
    "\n"
   ]
  },
  {
   "cell_type": "markdown",
   "id": "430efa43-7c2b-4189-bdc4-1a9b091b7909",
   "metadata": {},
   "source": [
    "Q3: What are some examples of situations where the normal distribution might be used as a model?\n",
    "Explain how the parameters of the normal distribution relate to the shape of the distribution."
   ]
  },
  {
   "cell_type": "markdown",
   "id": "f9d1711f-b9ec-4777-accb-929428de7989",
   "metadata": {},
   "source": [
    "The two main parameters of a (normal) distribution are the mean and standard deviation. The parameters determine the shape and probabilities of the distribution. The shape of the distribution changes as the parameter values change.\n",
    "\n",
    "Any changes made to the value of the mean move the curve either to the left or right along the X-axis. A small standard deviation relative to the mean produces a steep curve, while a large standard deviation relative to the mean produces a flatter curve.\n",
    "\n",
    "Some real-life examples of normal distribution include:\n",
    "Heights and weights of people in a population\n",
    "Test scores and IQ scores"
   ]
  },
  {
   "cell_type": "markdown",
   "id": "4497f86d-25e8-413e-9506-8ad5b871496d",
   "metadata": {},
   "source": [
    "\n",
    "Q4: Explain the importance of Normal Distribution. Give a few real-life examples of Normal\n",
    "Distribution."
   ]
  },
  {
   "cell_type": "markdown",
   "id": "9873aee0-5b02-47f7-b713-49cc59c823e6",
   "metadata": {},
   "source": [
    "Importance of normal distribution\n",
    "\n",
    "1)      It has one of the important properties called central theorem. Central theorem means relationship between shape of population distribution and shape of sampling distribution of mean. This means that sampling distribution of mean approaches normal as sample size increase.\n",
    "\n",
    "2)      In case the sample size is large the normal distribution serves as good approximation.\n",
    "\n",
    "3)      Due to its mathematical properties it is more popular and easy to calculate.\n",
    "\n",
    "4)      It is used in statistical quality control in setting up of control limits.\n",
    "\n",
    "5)      The whole theory of sample tests t, f and chi-square test is based on the normal distribution.\n",
    "\n",
    "Some real-life examples of normal distribution include:\n",
    "<br>Heights and weights of people in a population\n",
    "<br>Test scores and IQ scores"
   ]
  },
  {
   "cell_type": "markdown",
   "id": "8d237be6-16ec-40d6-8fc9-7481b91711fe",
   "metadata": {},
   "source": [
    "\n",
    "Q5: What is Bernaulli Distribution? Give an Example. What is the difference between Bernoulli\n",
    "Distribution and Binomial Distribution?\n"
   ]
  },
  {
   "cell_type": "markdown",
   "id": "e6891408-1ca7-439c-98bf-3f9fe463b8c2",
   "metadata": {},
   "source": [
    "The Bernoulli distribution is a discrete probability distribution that models the probability of a single binary event, where the outcome is either success (with probability p) or failure (with probability 1-p)<br>\n",
    "An example of Bernoulli distribution is the probability of flipping a fair coin and getting heads (assuming heads is defined as success)\n",
    "In this case, the probability of success (getting heads) is p=0.5, and the probability of failure (getting tails) is 1-p=0.5 <br>\n",
    "The main difference between Bernoulli distribution and binomial distribution is that Bernoulli distribution models a single binary event, while the binomial distribution models the probability of a certain number of successes in a fixed number of independent binary events"
   ]
  },
  {
   "cell_type": "markdown",
   "id": "13cd00b2-c546-4d47-b758-5a0d13e8010d",
   "metadata": {},
   "source": [
    "Q6. Consider a dataset with a mean of 50 and a standard deviation of 10. If we assume that the dataset\n",
    "is normally distributed, what is the probability that a randomly selected observation will be greater\n",
    "than 60? Use the appropriate formula and show your calculations.\n"
   ]
  },
  {
   "cell_type": "markdown",
   "id": "4a865361-aa60-4d05-9c78-38677da9e10d",
   "metadata": {},
   "source": [
    "z score = (60 - 50)/10 = +1  <br>\n",
    "Using z score table, prob for less than 60: 0.8413 <br>\n",
    "So prob for greater than 60 = 1-0.8413= 0.15869999999999995 <br>\n",
    "Therefore 15.869%"
   ]
  },
  {
   "cell_type": "markdown",
   "id": "83fe939e-4aed-49b2-b42b-caa52ef8fd70",
   "metadata": {},
   "source": [
    "Q7: Explain uniform Distribution with an example.\n"
   ]
  },
  {
   "cell_type": "markdown",
   "id": "9d82f604-5c7f-4c04-8be8-a2b870796e43",
   "metadata": {},
   "source": [
    "In statistics, uniform distribution refers to a type of probability distribution in which all outcomes are equally likely. A deck of cards has within it uniform distributions because the likelihood of drawing a heart, a club, a diamond, or a spade is equally likely. A coin also has a uniform distribution because the probability of getting either heads or tails in a coin toss is the same.\n",
    "\n",
    "The uniform distribution can be visualized as a straight horizontal line, so for a coin flip returning a head or tail, both have a probability p = 0.50 and would be depicted by a line from the y-axis at 0.50."
   ]
  },
  {
   "cell_type": "markdown",
   "id": "c2f5ea54-d43f-46b6-95ca-114a228c1a6d",
   "metadata": {},
   "source": [
    "Q8: What is the z score? State the importance of the z score.\n"
   ]
  },
  {
   "cell_type": "markdown",
   "id": "fabe8370-2ea9-4a5c-968d-f813d45b1e9f",
   "metadata": {},
   "source": [
    "A z-score measures the distance between a data point and the mean using standard deviations. Z-scores can be positive or negative. The sign tells you whether the observation is above or below the mean. For example, a z-score of +2 indicates that the data point falls two standard deviations above the mean, while a -2 signifies it is two standard deviations below the mean. A z-score of zero equals the mean. Statisticians also refer to z-scores as standard scores, and I’ll use those terms interchangeably.\n",
    "\n",
    "Standardizing the raw data by transforming them into z-scores provides the following benefits:\n",
    "\n",
    "Understand where a data point fits into a distribution. <br>\n",
    "Compare observations between dissimilar variables.<br>\n",
    "Identify outliers<br>\n",
    "Calculate probabilities and percentiles using the standard normal distribution.\n"
   ]
  },
  {
   "cell_type": "markdown",
   "id": "80476dd6-fac7-4a0c-bf20-8ae3ea3a0b27",
   "metadata": {},
   "source": [
    "Q9: What is Central Limit Theorem? State the significance of the Central Limit Theorem.\n"
   ]
  },
  {
   "cell_type": "markdown",
   "id": "dc05c6a5-5335-4496-9145-f314af717ef9",
   "metadata": {},
   "source": [
    "\n",
    "The central limit theorem states that if you have a population with mean μ and standard deviation σ and take sufficiently large random samples from the population with replacementtext annotation indicator, then the distribution of the sample means will be approximately normally distributed. This will hold true regardless of whether the source population is normal or skewed, provided the sample size is sufficiently large (usually n > 30). If the population is normal, then the theorem holds true even for samples smaller than 30. In fact, this also holds true even if the population is binomial, provided that min(np, n(1-p))> 5, where n is the sample size and p is the probability of success in the population. This means that we can use the normal probability model to quantify uncertainty when making inferences about a population mean based on the sample mean.\n",
    "\n",
    "The Central Limit Theorem is important for statistics because it allows us to safely assume that the sampling distribution of the mean will be normal in most cases. This means that we can take advantage of statistical techniques that assume a normal distribution. The more data that's gathered, the more accurate the statistical inferences become, meaning more certainty in estimates.\n"
   ]
  },
  {
   "cell_type": "markdown",
   "id": "8eaeacd0-04c9-4f32-a96a-e7bd5954612d",
   "metadata": {},
   "source": [
    "Q10: State the assumptions of the Central Limit Theorem."
   ]
  },
  {
   "cell_type": "markdown",
   "id": "479a61b4-86ec-4801-9fcf-acffeb3cfe66",
   "metadata": {},
   "source": [
    "The data should be sampled randomly. The samples should be independent of each other. The sample size should be sufficiently large but not exceed 10% of the population."
   ]
  },
  {
   "cell_type": "code",
   "execution_count": null,
   "id": "2416c071-82d3-4f24-93e4-9722ddc27da0",
   "metadata": {},
   "outputs": [],
   "source": []
  }
 ],
 "metadata": {
  "kernelspec": {
   "display_name": "Python 3 (ipykernel)",
   "language": "python",
   "name": "python3"
  },
  "language_info": {
   "codemirror_mode": {
    "name": "ipython",
    "version": 3
   },
   "file_extension": ".py",
   "mimetype": "text/x-python",
   "name": "python",
   "nbconvert_exporter": "python",
   "pygments_lexer": "ipython3",
   "version": "3.10.8"
  }
 },
 "nbformat": 4,
 "nbformat_minor": 5
}
