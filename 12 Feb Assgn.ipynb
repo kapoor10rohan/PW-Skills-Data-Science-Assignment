{
 "cells": [
  {
   "cell_type": "code",
   "execution_count": null,
   "id": "04d89c39-e6f0-4157-8a19-d3fcab36d1ef",
   "metadata": {},
   "outputs": [],
   "source": []
  },
  {
   "cell_type": "markdown",
   "id": "f328b713-16b7-48e0-a177-929375070c7a",
   "metadata": {},
   "source": [
    "Q1. What is an Exception in python? Write the difference between Exceptions and syntax errors"
   ]
  },
  {
   "cell_type": "markdown",
   "id": "ed10c374-73f6-4f65-a1f8-f544e0242435",
   "metadata": {},
   "source": [
    "Errors that occur at runtime (after passing the syntax test) are called exceptions or logical errors.\n",
    "<br>\n",
    "For instance, they occur when we\n",
    "<br>\n",
    "try to open a file(for reading) that does not exist (FileNotFoundError) <br>\n",
    "try to divide a number by zero (ZeroDivisionError) <br>\n",
    "try to import a module that does not exist (ImportError) and so on. <br>\n",
    "<br>\n",
    "Errors represent conditions such as compilation error, syntax error, error in the logical part of the code, library incompatibility, infinite recursion, etc.\n",
    "<br>\n",
    "Errors are usually beyond the control of the programmer and we should not try to handle errors.\n",
    "<br>\n",
    "Exceptions can be caught and handled by the program."
   ]
  },
  {
   "cell_type": "markdown",
   "id": "35431f7e-f286-4646-b81d-fd21e649b459",
   "metadata": {},
   "source": [
    "Q2. What happens when an exception is not handled? Explain with\n",
    "an example"
   ]
  },
  {
   "cell_type": "markdown",
   "id": "760c2276-f475-476b-953b-1b64d9b87f1d",
   "metadata": {},
   "source": [
    "Whenever any types of runtime errors occur, Python creates an exception object.\n",
    "\n",
    "If not handled properly, it prints a traceback to that error along with some details about why that error occurred."
   ]
  },
  {
   "cell_type": "code",
   "execution_count": 4,
   "id": "d667ec4b-3e84-45f2-a0f2-c14692a42129",
   "metadata": {},
   "outputs": [
    {
     "ename": "ZeroDivisionError",
     "evalue": "division by zero",
     "output_type": "error",
     "traceback": [
      "\u001b[0;31m---------------------------------------------------------------------------\u001b[0m",
      "\u001b[0;31mZeroDivisionError\u001b[0m                         Traceback (most recent call last)",
      "Cell \u001b[0;32mIn[4], line 1\u001b[0m\n\u001b[0;32m----> 1\u001b[0m \u001b[38;5;241;43m10\u001b[39;49m\u001b[38;5;241;43m/\u001b[39;49m\u001b[38;5;241;43m0\u001b[39;49m\n\u001b[1;32m      2\u001b[0m \u001b[38;5;124;03m'''\u001b[39;00m\n\u001b[1;32m      3\u001b[0m \u001b[38;5;124;03mZeroDivisionError        Traceback (most recent call last)\u001b[39;00m\n\u001b[1;32m      4\u001b[0m \u001b[38;5;124;03mCell In[3], line 1\u001b[39;00m\n\u001b[0;32m   (...)\u001b[0m\n\u001b[1;32m      7\u001b[0m \u001b[38;5;124;03mZeroDivisionError: division by zero\u001b[39;00m\n\u001b[1;32m      8\u001b[0m \u001b[38;5;124;03m'''\u001b[39;00m\n",
      "\u001b[0;31mZeroDivisionError\u001b[0m: division by zero"
     ]
    }
   ],
   "source": [
    "10/0\n",
    "'''\n",
    "ZeroDivisionError        Traceback (most recent call last)\n",
    "Cell In[3], line 1\n",
    "----> 1 10/0\n",
    "\n",
    "ZeroDivisionError: division by zero\n",
    "'''"
   ]
  },
  {
   "cell_type": "markdown",
   "id": "a0a4605f-e2ed-4b1e-ba83-82369ced414d",
   "metadata": {},
   "source": [
    "Q3. Which Python statements are used to catch and handle exception\n",
    "exceptions? Explain with an example"
   ]
  },
  {
   "cell_type": "markdown",
   "id": "bd4a9cd9-b2c7-4e11-a316-c26a332b4db0",
   "metadata": {},
   "source": [
    "The built-in and user-defined exceptions in Python using try, except and finally statements."
   ]
  },
  {
   "cell_type": "code",
   "execution_count": 17,
   "id": "ed687021-5df3-49e3-b24f-7ecfbc95a5ff",
   "metadata": {},
   "outputs": [
    {
     "name": "stdout",
     "output_type": "stream",
     "text": [
      "Exception Error:  division by zero\n",
      "End of code\n"
     ]
    }
   ],
   "source": [
    "try:\n",
    "    10/0\n",
    "except Exception as e:\n",
    "    print('Exception Error: ',e)\n",
    "finally:\n",
    "    print('End of code')"
   ]
  },
  {
   "cell_type": "markdown",
   "id": "2469cef3-3c21-491b-b177-6cad9844ddc9",
   "metadata": {},
   "source": [
    "<br>\n",
    "Q4. Explain with an example:\n",
    "a) try and else\n",
    "b) finally\n",
    "c) raise"
   ]
  },
  {
   "cell_type": "code",
   "execution_count": 20,
   "id": "1a2f452f-0d1a-4479-a1eb-b2cd2b9fbb93",
   "metadata": {},
   "outputs": [
    {
     "name": "stdin",
     "output_type": "stream",
     "text": [
      "Enter number:  a\n"
     ]
    },
    {
     "name": "stdout",
     "output_type": "stream",
     "text": [
      "Not a number\n"
     ]
    }
   ],
   "source": [
    "try:\n",
    "    a=int(input('Enter number: '))\n",
    "except:\n",
    "    print('Not a number')\n",
    "else:\n",
    "    print('Your number is {}'.format(a))    "
   ]
  },
  {
   "cell_type": "code",
   "execution_count": 21,
   "id": "4532b5a7-c340-4da2-9cfd-f8da1f4cd7b2",
   "metadata": {},
   "outputs": [
    {
     "name": "stdin",
     "output_type": "stream",
     "text": [
      "Enter number:  2\n"
     ]
    },
    {
     "name": "stdout",
     "output_type": "stream",
     "text": [
      "Your number is 2\n",
      "End of code\n"
     ]
    }
   ],
   "source": [
    "try:\n",
    "    a=int(input('Enter number: '))\n",
    "except:\n",
    "    print('Not a number')\n",
    "else:\n",
    "    print('Your number is {}'.format(a))\n",
    "finally:\n",
    "    print('End of code')"
   ]
  },
  {
   "cell_type": "code",
   "execution_count": 25,
   "id": "e5d53448-5dfc-4bb9-99d7-42ce2bf2fe89",
   "metadata": {},
   "outputs": [
    {
     "name": "stdin",
     "output_type": "stream",
     "text": [
      "Enter age:  -2\n"
     ]
    },
    {
     "name": "stdout",
     "output_type": "stream",
     "text": [
      "End of code\n"
     ]
    },
    {
     "ename": "Exception",
     "evalue": "Age cannot be negative",
     "output_type": "error",
     "traceback": [
      "\u001b[0;31m---------------------------------------------------------------------------\u001b[0m",
      "\u001b[0;31mException\u001b[0m                                 Traceback (most recent call last)",
      "Cell \u001b[0;32mIn[25], line 4\u001b[0m\n\u001b[1;32m      2\u001b[0m     age\u001b[38;5;241m=\u001b[39m\u001b[38;5;28mint\u001b[39m(\u001b[38;5;28minput\u001b[39m(\u001b[38;5;124m'\u001b[39m\u001b[38;5;124mEnter age: \u001b[39m\u001b[38;5;124m'\u001b[39m))\n\u001b[1;32m      3\u001b[0m     \u001b[38;5;28;01mif\u001b[39;00m age\u001b[38;5;241m<\u001b[39m\u001b[38;5;241m0\u001b[39m:\n\u001b[0;32m----> 4\u001b[0m         \u001b[38;5;28;01mraise\u001b[39;00m \u001b[38;5;167;01mException\u001b[39;00m(\u001b[38;5;124m'\u001b[39m\u001b[38;5;124mAge cannot be negative\u001b[39m\u001b[38;5;124m'\u001b[39m)\n\u001b[1;32m      5\u001b[0m \u001b[38;5;28;01mfinally\u001b[39;00m:\n\u001b[1;32m      6\u001b[0m     \u001b[38;5;28mprint\u001b[39m(\u001b[38;5;124m'\u001b[39m\u001b[38;5;124mEnd of code\u001b[39m\u001b[38;5;124m'\u001b[39m)\n",
      "\u001b[0;31mException\u001b[0m: Age cannot be negative"
     ]
    }
   ],
   "source": [
    "try:\n",
    "    age=int(input('Enter age: '))\n",
    "    if age<0:\n",
    "        raise Exception('Age cannot be negative')\n",
    "finally:\n",
    "    print('End of code')"
   ]
  },
  {
   "cell_type": "code",
   "execution_count": 27,
   "id": "f2147197-698b-46fa-9f1e-8e0ea94678ac",
   "metadata": {},
   "outputs": [
    {
     "name": "stdin",
     "output_type": "stream",
     "text": [
      "Enter age:  5\n"
     ]
    },
    {
     "name": "stdout",
     "output_type": "stream",
     "text": [
      "Your age is 5\n",
      "End of code\n"
     ]
    }
   ],
   "source": [
    "try:\n",
    "    age=int(input('Enter age: '))\n",
    "    if age<0:\n",
    "        raise Exception('Age cannot be negative')\n",
    "except:\n",
    "    print('Not a number')\n",
    "else:\n",
    "    print('Your age is {}'.format(age))\n",
    "finally:\n",
    "    print('End of code')    "
   ]
  },
  {
   "cell_type": "markdown",
   "id": "e034df93-795d-453e-b22f-76c9ea603f7c",
   "metadata": {},
   "source": [
    "<br>\n",
    "What are Custom Exceptions in python? Why do we need Custom Exceptions? Explain with an example"
   ]
  },
  {
   "cell_type": "markdown",
   "id": "a381bb2e-0a4b-4562-b212-560cfae73fc7",
   "metadata": {},
   "source": [
    "Sometimes based on project requirement, a programmer needs to create his own exceptions and raise explicitly for corresponding scenarios. Such types of exceptions are called customized Exceptions or Programmatic Exceptions. We can raise a custom exception by using the keyword ‘raise’"
   ]
  },
  {
   "cell_type": "code",
   "execution_count": 31,
   "id": "03ab4827-f4a5-434b-b075-74d4ecb2fe9a",
   "metadata": {},
   "outputs": [
    {
     "name": "stdout",
     "output_type": "stream",
     "text": [
      "This is my custom exception\n"
     ]
    }
   ],
   "source": [
    "class CustomException(Exception):\n",
    "    \"\"\" my custom exception class \"\"\"\n",
    "\n",
    "\n",
    "try:\n",
    "    raise CustomException('This is my custom exception')\n",
    "except CustomException as ex:\n",
    "    print(ex)"
   ]
  },
  {
   "cell_type": "markdown",
   "id": "66d97014-17d5-4c86-a92a-882d0ed1963e",
   "metadata": {},
   "source": [
    "Q6. Create custom exception class. Use this class to handle\n",
    "ss to h\n",
    "ndle\n",
    "n ex,eption.\n"
   ]
  },
  {
   "cell_type": "code",
   "execution_count": 28,
   "id": "a4c67685-9d47-4066-a547-4754ef503297",
   "metadata": {},
   "outputs": [],
   "source": [
    "class voteage(Exception):\n",
    "    def __init__(self,msg):\n",
    "        self.msg=msg  "
   ]
  },
  {
   "cell_type": "code",
   "execution_count": 29,
   "id": "03598de0-779c-4f16-963f-61e7217d23b6",
   "metadata": {},
   "outputs": [],
   "source": [
    "def vote_age(age):\n",
    "    if age<0:\n",
    "        raise validateage('age cannot be negative')\n",
    "    elif age<18:\n",
    "        raise validateage('Too young to vote')\n",
    "    else:\n",
    "        print('Valid age to vote')"
   ]
  },
  {
   "cell_type": "code",
   "execution_count": 30,
   "id": "323f2f32-118f-4582-bb04-7bc112e45c22",
   "metadata": {},
   "outputs": [
    {
     "name": "stdin",
     "output_type": "stream",
     "text": [
      "Enter age 19\n"
     ]
    },
    {
     "name": "stdout",
     "output_type": "stream",
     "text": [
      "Valid age to vote\n"
     ]
    }
   ],
   "source": [
    "try:\n",
    "    age=int(input('Enter age'))\n",
    "    vote_age(age)\n",
    "except voteage as e:\n",
    "    print(e)"
   ]
  },
  {
   "cell_type": "code",
   "execution_count": null,
   "id": "7d4677fb-ee30-4f1d-a978-d9a6b660f10d",
   "metadata": {},
   "outputs": [],
   "source": []
  }
 ],
 "metadata": {
  "kernelspec": {
   "display_name": "Python 3 (ipykernel)",
   "language": "python",
   "name": "python3"
  },
  "language_info": {
   "codemirror_mode": {
    "name": "ipython",
    "version": 3
   },
   "file_extension": ".py",
   "mimetype": "text/x-python",
   "name": "python",
   "nbconvert_exporter": "python",
   "pygments_lexer": "ipython3",
   "version": "3.10.8"
  }
 },
 "nbformat": 4,
 "nbformat_minor": 5
}
