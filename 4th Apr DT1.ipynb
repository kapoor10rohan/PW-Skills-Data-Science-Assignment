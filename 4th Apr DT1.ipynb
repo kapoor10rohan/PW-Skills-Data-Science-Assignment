{
 "cells": [
  {
   "cell_type": "markdown",
   "id": "bbba306c-7258-4d1e-885b-d22e8b75932a",
   "metadata": {},
   "source": [
    "Q1. Describe the decision tree classifier algorithm and how it works to make predictions.\n"
   ]
  },
  {
   "cell_type": "markdown",
   "id": "8b187552-99eb-4304-b86f-a7e9cbc521c5",
   "metadata": {},
   "source": [
    " A decision tree algorithm is a machine learning algorithm that uses a decision tree to make predictions. It follows a tree-like model of decisions and their possible consequences. The algorithm works by recursively splitting the data into subsets based on the most significant feature at each node of the tree.\n",
    " \n",
    " The purpose of a decision tree is to make decisions or predictions by learning from past data. It helps to understand the relationships between input variables and their outcomes and identify the most significant features that contribute to the final decision."
   ]
  },
  {
   "cell_type": "markdown",
   "id": "5fdf4b2c-df4c-4a76-b179-5951c89d738d",
   "metadata": {},
   "source": [
    "Q2. Provide a step-by-step explanation of the mathematical intuition behind decision tree classification.\n"
   ]
  },
  {
   "cell_type": "markdown",
   "id": "2e143856-3d57-4e3e-bafe-c1a4918f7838",
   "metadata": {},
   "source": [
    "\n",
    "It begins with the original set S as the root node.\n",
    "\n",
    "On each iteration of the algorithm, it iterates through the very unused attribute of the set S and calculates \n",
    "Entropy(H) and Information gain(IG) of this attribute.\n",
    "\n",
    "It then selects the attribute which has the smallest Entropy or Largest Information gain.\n",
    "\n",
    "The set S is then split by the selected attribute to produce a subset of the data.\n",
    "\n",
    "The algorithm continues to recur on each subset, considering only attributes never selected before."
   ]
  },
  {
   "cell_type": "markdown",
   "id": "0491a948-c559-43b7-8de5-37e44d365e3b",
   "metadata": {},
   "source": [
    "Q3. Explain how a decision tree classifier can be used to solve a binary classification problem.\n"
   ]
  },
  {
   "cell_type": "markdown",
   "id": "8e371c2a-0d3b-4b66-a997-e601f7b87bcd",
   "metadata": {},
   "source": [
    "\n",
    " \n",
    "A decision tree is a machine learning technique that can be used for binary classification or multi-class classification. A binary classification problem is one where the goal is to predict the value of a variable where there are only two possibilities. For example, you might want to predict the sex of a person (male or female) based on their age, state where they live, income and political leaning. There are many other techniques for binary classification, but using a decision tree is very common and the technique is considered a fundamental machine learning skill for data scientists.\n",
    "\n"
   ]
  },
  {
   "cell_type": "markdown",
   "id": "1de785f8-3ccb-42b6-a480-80c04cd71125",
   "metadata": {},
   "source": [
    "Q4. Discuss the geometric intuition behind decision tree classification and how it can be used to make\n",
    "predictions.\n"
   ]
  },
  {
   "cell_type": "markdown",
   "id": "d9fcc8f3-4f6a-473e-87ae-da24b301b6ed",
   "metadata": {},
   "source": [
    "Geometrically we see that the decision boundaries are axis parallel & have a decision surface for each leaf node (Yi).\n",
    "\n",
    "The split of a node is required to find a purity of the individual class domination (either Yes/No). Until we arrive at a purity we are supposed to split the data. We have some methods mentioned below to split the data into different nodes based on probability."
   ]
  },
  {
   "cell_type": "markdown",
   "id": "f6f0bfff-33e6-47e4-9b2d-3274bba0838a",
   "metadata": {},
   "source": [
    "Q5. Define the confusion matrix and describe how it can be used to evaluate the performance of a\n",
    "classification model.\n"
   ]
  },
  {
   "cell_type": "markdown",
   "id": "0e5d75c0-b8d2-4405-a5ef-7dbe0ef73316",
   "metadata": {},
   "source": [
    "A confusion matrix is a table that is used to define the performance of a classification algorithm. A confusion matrix visualizes and summarizes the performance of a classification algorithm.\n",
    "\n",
    " It is often used to measure the performance of classification models, which aim to predict a categorical label for each input instance. The matrix displays the number of true positives (TP), true negatives (TN), false positives (FP), and false negatives (FN) produced by the model on the test data.\n",
    " \n",
    " Need for Confusion Matrix in Machine learning\n",
    "\n",
    "It evaluates the performance of the classification models, when they make predictions on test data, and tells how good our classification model is.\n",
    "\n",
    "It not only tells the error made by the classifiers but also the type of errors such as it is either type-I or type-II error.\n",
    "\n",
    "With the help of the confusion matrix, we can calculate the different parameters for the model, such as accuracy, precision, etc."
   ]
  },
  {
   "cell_type": "markdown",
   "id": "8812578b-8660-4c26-9454-6dbb2e3347f4",
   "metadata": {},
   "source": [
    "Q6. Provide an example of a confusion matrix and explain how precision, recall, and F1 score can be\n",
    "calculated from it.\n"
   ]
  },
  {
   "cell_type": "markdown",
   "id": "a34f0b1b-98d3-40b2-baf1-9d18b027d55b",
   "metadata": {},
   "source": [
    " We can understand the confusion matrix using an example.\n",
    "\n",
    "Suppose we are trying to create a model that can predict the result for the disease that is either a person has that disease or not. So, the confusion matrix for this is given as:\n",
    "\n",
    "n = 100\n",
    "Predicted: No\n",
    "Predicted: Yes\n",
    "Actual: No\n",
    "TN: 65\n",
    "FN: 8\n",
    "73\n",
    "Actual: Yes\n",
    "FP: 3\n",
    "TP: 24\n",
    "27\n",
    "\n",
    "\n",
    "From the above example, we can conclude that:\n",
    "\n",
    "The table is given for the two-class classifier, which has two predictions \"Yes\" and \"NO.\" Here, Yes defines that patient has the disease, and No defines that patient does not has that disease.\n",
    "The classifier has made a total of 100 predictions. Out of 100 predictions, 89 are true predictions, and 11 are incorrect predictions.\n",
    "The model has given prediction \"yes\" for 32 times, and \"No\" for 68 times. Whereas the actual \"Yes\" was 27, and actual \"No\" was 73 times.\n",
    "\n",
    "\n",
    "\n",
    "\n",
    "Accuracy:\n",
    "The formula for calculating accuracy, based on the chart above, is (TP+TN)/(TP+FP+FN+TN) or all true positive and true negative cases divided by the number of all cases.\n",
    "Accuracy is commonly used to judge model performance, however, there are a few drawbacks that must be considered before using accuracy liberally. One of these drawbacks deals with unbalanced datasets where one class, either true or false, is more common than the other causing the model to classify observations based on this imbalance. For example, if 90% of cases are false and only 10% are true, there’s a very high possibility of our model having an accuracy score of around 90%. Naively, it may seem like we a have high rate of accuracy, but in actuality, we are just 90% likely to predict the ‘false’ class, so we don’t actually have a good metric. Normally, I wouldn’t use accuracy as a performance metric, I’d rather use precision, recall, or the F1 score.\n",
    "\n",
    "Precision:\n",
    "Precision is the measure of true positives over the number of total positives predicted by your model. The formula for precision can be written as: TP/(TP+FP). What this metric allows you to calculate is the rate of which your positive predictions are actually positive.\n",
    "\n",
    "Recall:\n",
    "Recall (a.k.a sensitivity) is the measure of your true positive over the count of actual positive outcomes. The formula for recall can be expressed as: TP/(TP+FN). Using this formula, we can assess how well our model is able to identify the actual true result.\n",
    "\n",
    "F1 Score:\n",
    "The F1 score is the harmonic mean between precision and recall. The formula for the F1 score can be expressed as: 2(p*r)/(p+r) where ‘p’ is precision and ‘r’ is recall. This score can be used as an overall metric that incorporates both precision and recall. The reason we use the harmonic mean as opposed to the regular mean, is that the harmonic mean punishes values that are further apart."
   ]
  },
  {
   "cell_type": "markdown",
   "id": "a38ef9f1-7eba-4e02-bda7-7ca64b6eef67",
   "metadata": {},
   "source": [
    "Q7. Discuss the importance of choosing an appropriate evaluation metric for a classification problem and\n",
    "explain how this can be done.\n"
   ]
  },
  {
   "cell_type": "markdown",
   "id": "edacd0f5-718b-45dd-9447-eb3f49c183e0",
   "metadata": {},
   "source": [
    "We compare the capability of different approaches concerning their performance on common grounds, which we call evaluation metrics. Research papers also publish the work and compare their results with the benchmarked research papers on standard evaluation metrics.\n",
    "\n",
    "Classification jobs with more than two class labels are referred to as multi-class classification. Multiclass classification in machine learning, unlike binary classification, does not distinguish between normal and pathological results. Instead, examples are assigned to one of a number of pre-defined classes.\n",
    "\n",
    "Classification problems with two class labels are referred to as binary classification. In most binary classification problems, one class represents the normal condition and the other represents the aberrant condition."
   ]
  },
  {
   "cell_type": "markdown",
   "id": "2918c3af-a285-4802-ada4-150ca3f75ee7",
   "metadata": {},
   "source": [
    "Q8. Provide an example of a classification problem where precision is the most important metric, and\n",
    "explain why.\n"
   ]
  },
  {
   "cell_type": "markdown",
   "id": "f190f417-0bb1-44be-8b85-89cd73292898",
   "metadata": {},
   "source": [
    "Precision is very used in marketing campaigns, because a marketing automation campaign is supposed to start an activity on a user when it predicts that they will respond successfully. That’s why we need high precision, which is the probability that our model is correct when it predicts 1. Low values for precision will make our business lose money, because we are contacting customers that are not interested in our commercial offer."
   ]
  },
  {
   "cell_type": "markdown",
   "id": "56e8ad4a-823f-4099-ae6d-a80444da2199",
   "metadata": {},
   "source": [
    "Q9. Provide an example of a classification problem where recall is the most important metric, and explain\n",
    "why."
   ]
  },
  {
   "cell_type": "markdown",
   "id": "a85ff88d-9ec3-4afa-b1c6-53bf68fb7697",
   "metadata": {},
   "source": [
    "Common uses of recall are, as said, fraud detection models or even disease detection on a patient. If somebody is ill, we need to spot their illness avoiding the false negatives. A false negative patient may become contagious and it’s not safe. That’s why, when we have to spot an event that already occurred, we need to work with recall."
   ]
  },
  {
   "cell_type": "code",
   "execution_count": null,
   "id": "408032f5-e9ea-4ee1-9e6c-d55bf8d6f2c2",
   "metadata": {},
   "outputs": [],
   "source": []
  }
 ],
 "metadata": {
  "kernelspec": {
   "display_name": "Python 3 (ipykernel)",
   "language": "python",
   "name": "python3"
  },
  "language_info": {
   "codemirror_mode": {
    "name": "ipython",
    "version": 3
   },
   "file_extension": ".py",
   "mimetype": "text/x-python",
   "name": "python",
   "nbconvert_exporter": "python",
   "pygments_lexer": "ipython3",
   "version": "3.10.8"
  }
 },
 "nbformat": 4,
 "nbformat_minor": 5
}
