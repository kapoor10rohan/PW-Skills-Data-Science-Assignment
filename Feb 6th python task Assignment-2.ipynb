{
 "cells": [
  {
   "cell_type": "markdown",
   "id": "937fda66-c45c-4f61-b263-eed1b72e22ae",
   "metadata": {},
   "source": [
    "### Feb 6th python task Assignment"
   ]
  },
  {
   "cell_type": "markdown",
   "id": "e6dbb398-16c6-4732-a786-e399f26525e4",
   "metadata": {},
   "source": [
    "Q1. Create a function which will take a list as an argument and return the product of all the numbers\n",
    "after creating a flat list.\n",
    "Use the below-given list as an argument for your function.\n",
    "list1 = [1,2,3,4, [44,55,66, True], False, (34,56,78,89,34), {1,2,3,3,2,1}, {1:34, \"key2\": [55, 67, 78, 89], 4: (45,\n",
    "22, 61, 34)}, [56, 'data science'], 'Machine Learning']\n",
    "Note: you must extract numeric keys and values of the dictionary also."
   ]
  },
  {
   "cell_type": "code",
   "execution_count": 113,
   "id": "2f21cd51-421f-4ce0-8110-a12276420828",
   "metadata": {},
   "outputs": [],
   "source": [
    "list1 = [1,2,3,4, [44,55,66, True], False, (34,56,78,89,34), {1,2,3,3,2,1}, {1:34, \"key2\": [55, 67, 78, 89], 4: (45,\n",
    "22, 61, 34)}, [56, 'data science'], 'Machine Learning']"
   ]
  },
  {
   "cell_type": "code",
   "execution_count": 118,
   "id": "a2a1c8a7-4d4a-4fc8-87d4-930e9120ad61",
   "metadata": {},
   "outputs": [],
   "source": [
    "flat_list=[]\n",
    "def prod(i):\n",
    "    if type(i)==int or type(i)==float:\n",
    "            flat_list.append(i)\n",
    "    elif type(i)==list or type(i)==tuple or type(i)==set:\n",
    "            for j in i:\n",
    "                prod(j)\n",
    "    elif type(i)==dict:\n",
    "            for key, value in i.items():\n",
    "                        if type(key)==int or type(key)==float:\n",
    "                                    flat_list.append(key)\n",
    "                        if type(value)==int or type(value)==float:        \n",
    "                                    flat_list.append(value)\n",
    "                        else:\n",
    "                            prod(value)                          "
   ]
  },
  {
   "cell_type": "code",
   "execution_count": 119,
   "id": "e55d8a3e-c4db-4802-bc35-c63cedb55499",
   "metadata": {},
   "outputs": [
    {
     "name": "stdout",
     "output_type": "stream",
     "text": [
      "[1, 2, 3, 4, 44, 55, 66, 34, 56, 78, 89, 34, 1, 2, 3, 1, 34, 55, 67, 78, 89, 4, 45, 22, 61, 34, 56]\n"
     ]
    }
   ],
   "source": [
    "prod(list1)\n",
    "print(flat_list)"
   ]
  },
  {
   "cell_type": "code",
   "execution_count": 120,
   "id": "adb41ead-b0d4-4b3b-8843-135d93bb703b",
   "metadata": {},
   "outputs": [
    {
     "data": {
      "text/plain": [
       "4134711838987085478833841242112000"
      ]
     },
     "execution_count": 120,
     "metadata": {},
     "output_type": "execute_result"
    }
   ],
   "source": [
    "from functools import reduce\n",
    "reduce(lambda x,y:x*y,flat_list)  "
   ]
  },
  {
   "cell_type": "markdown",
   "id": "65bd4da7-29cc-4309-b10f-db2b319cc154",
   "metadata": {},
   "source": [
    "Q2. Write a python program for encrypting a message sent to you by your friend. The logic of encryption\n",
    "should be such that, for a the output should be z. For b, the output should be y. For c, the output should\n",
    "be x respectively. Also, the whitespace should be replaced with a dollar sign. Keep the punctuation\n",
    "marks unchanged.\n",
    "Input Sentence: I want to become a Data Scientist.\n",
    "Encrypt the above input sentence using the program you just created.\n",
    "Note: Convert the given input sentence into lowercase before encrypting. The final output should be\n",
    "lowercase."
   ]
  },
  {
   "cell_type": "code",
   "execution_count": 20,
   "id": "2b769abd-1932-4804-96fe-a70778f38bd0",
   "metadata": {},
   "outputs": [],
   "source": [
    "import string\n",
    "alphabet = list(string.ascii_lowercase)"
   ]
  },
  {
   "cell_type": "code",
   "execution_count": 21,
   "id": "373de38a-20d7-49e1-bded-e862c7912e9b",
   "metadata": {},
   "outputs": [],
   "source": [
    "reverse_alphabet=alphabet[::-1]"
   ]
  },
  {
   "cell_type": "code",
   "execution_count": 38,
   "id": "d0ea9dac-176b-4522-807a-6faaa7b1a1e8",
   "metadata": {},
   "outputs": [],
   "source": [
    "def rev(string):\n",
    "    b=''\n",
    "    string=string.lower()\n",
    "    for i in string:\n",
    "        if i in alphabet:\n",
    "            x=alphabet.index(i)\n",
    "            a=reverse_alphabet[x]\n",
    "            b=b+a\n",
    "        elif i==' ':\n",
    "            i='$'\n",
    "            b=b+i\n",
    "        elif i=='.':\n",
    "            b=b+i\n",
    "    return str(b)       "
   ]
  },
  {
   "cell_type": "code",
   "execution_count": 39,
   "id": "cd485743-e220-4a74-acf0-da43eea25c6e",
   "metadata": {},
   "outputs": [
    {
     "data": {
      "text/plain": [
       "'r$dzmg$gl$yvxlnv$z$wzgz$hxrvmgrhg.'"
      ]
     },
     "execution_count": 39,
     "metadata": {},
     "output_type": "execute_result"
    }
   ],
   "source": [
    "rev(\"I want to become a Data Scientist.\")"
   ]
  }
 ],
 "metadata": {
  "kernelspec": {
   "display_name": "Python 3 (ipykernel)",
   "language": "python",
   "name": "python3"
  },
  "language_info": {
   "codemirror_mode": {
    "name": "ipython",
    "version": 3
   },
   "file_extension": ".py",
   "mimetype": "text/x-python",
   "name": "python",
   "nbconvert_exporter": "python",
   "pygments_lexer": "ipython3",
   "version": "3.10.8"
  }
 },
 "nbformat": 4,
 "nbformat_minor": 5
}
