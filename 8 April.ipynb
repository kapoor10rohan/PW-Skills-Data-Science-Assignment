{
 "cells": [
  {
   "cell_type": "markdown",
   "id": "d649397d-02fa-438a-86a7-aa6dff6400fe",
   "metadata": {},
   "source": [
    "Q1. In order to predict house price based on several characteristics, such as location, square footage,\n",
    "number of bedrooms, etc., you are developing an SVM regression model. Which regression metric in this\n",
    "situation would be the best to employ?\n",
    "Dataset link:\n",
    "https://drive.google.com/file/d/1Z9oLpmt6IDRNw7IeNcHYTGeJRYypRSC0/view?\n"
   ]
  },
  {
   "cell_type": "markdown",
   "id": "14bb7399-114c-4ac1-bffb-1653c3ef868a",
   "metadata": {},
   "source": [
    "MAE can be an intuitive metric for predicting housing prices. By measuring the mean absolute difference between actual and predicted values, it provides a more relatable metric that allows us to understand how much the predictions deviate on average. "
   ]
  },
  {
   "cell_type": "markdown",
   "id": "e72d2548-215e-4568-8421-6d8c591e57f8",
   "metadata": {},
   "source": [
    "Q2. You have built an SVM regression model and are trying to decide between using MSE or R-squared as\n",
    "your evaluation metric. Which metric would be more appropriate if your goal is to predict the actual price\n",
    "of a house as accurately as possible?"
   ]
  },
  {
   "cell_type": "markdown",
   "id": "6fa8bf83-14c5-4fe6-86b6-f3312e1b2f49",
   "metadata": {},
   "source": [
    "In this case, MSE would be more appropriate because it measures the average squared difference between the predicted and actual values, which is directly related to accuracy in terms of predicting the actual price of a house. R-squared measures the proportion of variance in the target variable that can be explained by the model, which is useful for understanding how well the model fits the data but may not be as directly related to accuracy in predicting the actual price of a house."
   ]
  },
  {
   "cell_type": "markdown",
   "id": "18a9b38f-d542-4ed3-add8-777ff8784764",
   "metadata": {},
   "source": [
    "Q3. You have a dataset with a significant number of outliers and are trying to select an appropriate\n",
    "regression metric to use with your SVM model. Which metric would be the most appropriate in this\n",
    "scenario?\n"
   ]
  },
  {
   "cell_type": "markdown",
   "id": "7f1ab851-0ff4-4737-a319-31a8acca4546",
   "metadata": {},
   "source": [
    "If your use case is more concerned with large errors, you are likely to choose metrics like Mean Square Error (MSE), which will harshly penalize the large errors."
   ]
  },
  {
   "cell_type": "markdown",
   "id": "558d81d8-4ca3-4120-a14b-f71335c1b759",
   "metadata": {},
   "source": [
    "Q4. You have built an SVM regression model using a polynomial kernel and are trying to select the best\n",
    "metric to evaluate its performance. You have calculated both MSE and RMSE and found that both values\n",
    "are very close. Which metric should you choose to use in this case?\n"
   ]
  },
  {
   "cell_type": "markdown",
   "id": "4aadcac5-c348-4c89-a627-0c8a1cb2545c",
   "metadata": {},
   "source": [
    "RMSE is better as obtaining an error measure in the same unit as the target variable leads to a more intuitive understanding of the model’s accuracy."
   ]
  },
  {
   "cell_type": "markdown",
   "id": "b9a314dc-e218-4103-a8b5-35bf545ea5c9",
   "metadata": {},
   "source": [
    "Q5. You are comparing the performance of different SVM regression models using different kernels (linear,\n",
    "polynomial, and RBF) and are trying to select the best evaluation metric. Which metric would be most\n",
    "appropriate if your goal is to measure how well the model explains the variance in the target variable?"
   ]
  },
  {
   "cell_type": "markdown",
   "id": "8b9f2f0e-ca23-40ae-9877-34f1f4ca6295",
   "metadata": {},
   "source": [
    "If you want to know how the proportion of the variance of the model’s outcome and its predictor variables are accounting for, you can choose a metric like R-Squared (R2) to discover how well the model fits the dependent variables. The linearity of the data will also play a role in whether the R2 metric can be used to measure model fit."
   ]
  },
  {
   "cell_type": "code",
   "execution_count": null,
   "id": "065dc312-183c-47ac-8996-3b9bd9242129",
   "metadata": {},
   "outputs": [],
   "source": []
  }
 ],
 "metadata": {
  "kernelspec": {
   "display_name": "Python 3 (ipykernel)",
   "language": "python",
   "name": "python3"
  },
  "language_info": {
   "codemirror_mode": {
    "name": "ipython",
    "version": 3
   },
   "file_extension": ".py",
   "mimetype": "text/x-python",
   "name": "python",
   "nbconvert_exporter": "python",
   "pygments_lexer": "ipython3",
   "version": "3.10.8"
  }
 },
 "nbformat": 4,
 "nbformat_minor": 5
}
