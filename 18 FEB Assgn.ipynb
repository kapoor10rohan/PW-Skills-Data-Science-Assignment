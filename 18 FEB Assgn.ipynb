{
 "cells": [
  {
   "cell_type": "markdown",
   "id": "a10e95a7-6054-423c-a4a6-d7bba99a5cdf",
   "metadata": {},
   "source": [
    "\n",
    "\n"
   ]
  },
  {
   "cell_type": "markdown",
   "id": "59db8337-20bb-41c3-9964-694ff4793393",
   "metadata": {},
   "source": [
    "Q1. What is an API? Give an example, where an API is used in real life."
   ]
  },
  {
   "cell_type": "markdown",
   "id": "893ec7a7-7af3-439c-a4c3-dbec8b2b8a3d",
   "metadata": {},
   "source": [
    "An API is the interface that allows two independent software components to exchange information. An API acts as an intermediary between internal software functions and external ones, creating an exchange of information so seamless that it often goes unnoticed by the end user.\n",
    "<br>\n",
    "<br>Using Google Maps in a rideshare app\n",
    "<br>Building chatbots in a messaging service\n",
    "<br>Embedding YouTube videos into a webpage"
   ]
  },
  {
   "cell_type": "markdown",
   "id": "f71c3251-0c73-4c15-be6c-ae5b7202ad9b",
   "metadata": {},
   "source": [
    "<br>\n",
    "Q2. Give advantages and disadvantages of using API."
   ]
  },
  {
   "cell_type": "markdown",
   "id": "7067139e-1018-4073-af35-6cde45148abb",
   "metadata": {},
   "source": [
    "Advantages:\n",
    "<br>Increased Visibility and Traffic\n",
    "<br>Seamless Integration\n",
    "<br>Increased Efficiency\n",
    "<br>Easier Maintenance\n",
    "<br>Reduced Costs\n",
    "<br>Improved Customer Experience\n",
    "<br>\n",
    "Diadvantages:\n",
    "<br>Increased Complexity\n",
    "<br>Limited Functionality\n",
    "<br>Dependency on Third Party Services\n",
    "<br>Security and Privacy Risks"
   ]
  },
  {
   "cell_type": "markdown",
   "id": "9712312a-06ad-4fd9-ba66-09848643e154",
   "metadata": {},
   "source": [
    "<br>\n",
    "Q3. What is a Web API? Differentiate between API and Web API."
   ]
  },
  {
   "cell_type": "markdown",
   "id": "eca9a4d4-6529-4f03-a952-34ea9439bb64",
   "metadata": {},
   "source": [
    "A Web API is an application programming interface for the Web\n",
    "<br>\n",
    "Although APIs perform identical tasks, a Web API provides flexibility to any style of communication\n",
    "<br>\n",
    "As Web APIs are lightweight architecture, they are designed for gadgets constrained to devices like smartphones. In contrast, APIs send and receive data over systems making it a complex architecture.\n",
    "<br>\n",
    "WEB API is a better choice for simpler, light weight services."
   ]
  },
  {
   "cell_type": "markdown",
   "id": "85293b47-ad97-4cae-bc40-11b99ebf7517",
   "metadata": {},
   "source": [
    "<br>\n",
    "Q4. Explain REST and SOAP Architecture. Mention shortcomings of SOAP."
   ]
  },
  {
   "cell_type": "markdown",
   "id": "17a4d359-855a-428f-b807-b6b21b74a211",
   "metadata": {},
   "source": [
    "SOAP is a protocol for the exchange of information in a distributed environment. SOAP messages are encoded as XML documents and can be exchanged using various underlying protocols.\n",
    "<br>\n",
    "The SOAP web services architecture is based on interactions between three components: a service provider, a service requester, and an optional service registry.\n",
    "<br>\n",
    "REST is a software architectural style that defines the set of rules to be used for creating web services. Web services which follow the REST architectural style are known as RESTful web services. It allows requesting systems to access and manipulate web resources by using a uniform and predefined set of rules.\n",
    "<br>\n",
    "It gives a lot of elasticity as it comes to implementation. Therefore, REST defines a set of main, general constraints to follow while developing RESTful APIs\n",
    "<br>\n",
    "<br>\n",
    "Shortcomings of SOAP\n",
    "<br>\n",
    "<br>\n",
    "Resource-consuming. Due to the larger size of an XML-file and a payload created by the massive structure of a message, a SOAP API requires a larger bandwidth, it’s slow to process these strings of tags that XML messages abound with.\n",
    "<br>\n",
    "Hard learning curve. Being protocol-based, building SOAP API servers requires knowledge and understanding of all protocols you may use with it.\n",
    "<br>\n",
    "Lacks flexibility.The rigid SOAP schema requires additional effort to add or remove the message properties on both sides of the communication, the server and the client. It makes updating requests and responses a tedious process and slows down adoption."
   ]
  },
  {
   "cell_type": "markdown",
   "id": "8cfd1126-2427-4e97-9d90-a2136c4fa2b9",
   "metadata": {},
   "source": [
    "<br>\n",
    "Q5. Differentiate between REST and SOAP"
   ]
  },
  {
   "cell_type": "markdown",
   "id": "87df6f71-9426-4be0-b13f-3a00f31df3ed",
   "metadata": {},
   "source": [
    "REST Few operations with many resources\tSOAP Many operations with few resources <br>\n",
    "REST It focuses on scalability and large-scale performance for distributed hypermedia systems\tSOAP It focuses on the design of distributed applications <br>\n",
    "REST HTTP GET, HTTP POST, HTTP PUT, HTTP DEL.\tSOAP SMTP,HTTP POST, MQ <br>\n",
    "REST Self-describing XML\tSOAP Strong typing, XML Schema <br>\n",
    "REST Synchronous\tSOAP Synchronous and Asynchronous <br>\n",
    "REST End to end secure communication SOAP Secure origin to destination communication<br>"
   ]
  },
  {
   "cell_type": "code",
   "execution_count": null,
   "id": "6af68cc2-4541-478e-9331-cef707df25c4",
   "metadata": {},
   "outputs": [],
   "source": []
  }
 ],
 "metadata": {
  "kernelspec": {
   "display_name": "Python 3 (ipykernel)",
   "language": "python",
   "name": "python3"
  },
  "language_info": {
   "codemirror_mode": {
    "name": "ipython",
    "version": 3
   },
   "file_extension": ".py",
   "mimetype": "text/x-python",
   "name": "python",
   "nbconvert_exporter": "python",
   "pygments_lexer": "ipython3",
   "version": "3.10.8"
  }
 },
 "nbformat": 4,
 "nbformat_minor": 5
}
