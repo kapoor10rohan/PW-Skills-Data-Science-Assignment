{
 "cells": [
  {
   "cell_type": "markdown",
   "id": "d283605b-17ee-4a68-82af-1ea7f71f765a",
   "metadata": {},
   "source": [
    "10th Feb Assignment"
   ]
  },
  {
   "cell_type": "markdown",
   "id": "c7a5240d-b38b-4feb-8770-d347460e12fa",
   "metadata": {},
   "source": [
    "Q1. Which function is used to open a file? What are the different modes of opening a file? Explain each mode of file opening.\n",
    "<br>"
   ]
  },
  {
   "cell_type": "markdown",
   "id": "854d7e8a-b11e-47c6-b479-f158888f1f7c",
   "metadata": {},
   "source": [
    "open() function is used to open a file\n",
    "'r'       open for reading (default)\n",
    "'w'       open for writing, truncating the file first\n",
    "'x'       create a new file and open it for writing\n",
    "'a'       open for writing, appending to the end of the file if it exists\n",
    "'b'       binary mode\n",
    "'t'       text mode (default)\n",
    "'+'       open a disk file for updating (reading and writing)\n",
    "'U'       universal newline mode (deprecated)"
   ]
  },
  {
   "cell_type": "markdown",
   "id": "5b5b54c8-8c69-4e1b-8194-249e6a2476e0",
   "metadata": {},
   "source": [
    "Q2. Why close() function is used? Why is it important to close a file?"
   ]
  },
  {
   "cell_type": "markdown",
   "id": "90bde7d8-0980-40be-b6de-c17ceada0760",
   "metadata": {},
   "source": [
    "Close() function is used because files are limited resources managed by the operating system, making sure files are closed after use will protect against hard-to-debug issues like running out of file handles or experiencing corrupted data."
   ]
  },
  {
   "cell_type": "markdown",
   "id": "63a6962f-c80a-4664-b1ee-68741af497d6",
   "metadata": {
    "tags": []
   },
   "source": [
    "Q3. Write a python program to create a text file. Write ‘I want to become a Data Scientist’ in that file. Then close the file. Open this file and read the content of the file.\n",
    "<br>"
   ]
  },
  {
   "cell_type": "code",
   "execution_count": 1,
   "id": "6f03a049-b5ea-40a9-9045-0a461d293d84",
   "metadata": {},
   "outputs": [],
   "source": [
    "f=open('Assignment','w')"
   ]
  },
  {
   "cell_type": "code",
   "execution_count": 2,
   "id": "fb9e9a18-13b6-44fe-a3b1-39ab4a5bf771",
   "metadata": {},
   "outputs": [
    {
     "data": {
      "text/plain": [
       "33"
      ]
     },
     "execution_count": 2,
     "metadata": {},
     "output_type": "execute_result"
    }
   ],
   "source": [
    "f.write('I want to become a Data Scientist')"
   ]
  },
  {
   "cell_type": "code",
   "execution_count": 4,
   "id": "52092c3f-ac84-486d-b3f9-d49f81ada7ef",
   "metadata": {},
   "outputs": [],
   "source": [
    "f.close()"
   ]
  },
  {
   "cell_type": "code",
   "execution_count": 5,
   "id": "9dc834d3-43ac-425d-b90c-6a24323e47ce",
   "metadata": {},
   "outputs": [],
   "source": [
    "data=open('Assignment','r')"
   ]
  },
  {
   "cell_type": "code",
   "execution_count": 6,
   "id": "23e42dcb-1161-4279-8001-35858a203116",
   "metadata": {},
   "outputs": [
    {
     "data": {
      "text/plain": [
       "'I want to become a Data Scientist'"
      ]
     },
     "execution_count": 6,
     "metadata": {},
     "output_type": "execute_result"
    }
   ],
   "source": [
    "data.read()"
   ]
  },
  {
   "cell_type": "markdown",
   "id": "658b3bd5-6daa-4bbd-bf38-f4a3635a7b42",
   "metadata": {},
   "source": [
    "<br>\n",
    "Q4. Explain the following with python code: read(), readline() and readlines()."
   ]
  },
  {
   "cell_type": "markdown",
   "id": "bcc5d94e-6904-492d-a2d0-37fe9cf85b98",
   "metadata": {},
   "source": [
    "Python read() Returns the file content\n",
    "<br>\n",
    "Python readline() method will return a line from the file when called.\n",
    "<br>\n",
    "Python readlines() Return all lines in the file, as a list where each line is an item in the list object.\n",
    "<br>"
   ]
  },
  {
   "cell_type": "code",
   "execution_count": 33,
   "id": "75bcf657-af34-45ac-87c4-9dd811fab15d",
   "metadata": {},
   "outputs": [],
   "source": [
    "f=open('Assignment Q4.txt','w')"
   ]
  },
  {
   "cell_type": "code",
   "execution_count": 34,
   "id": "b96f344f-42e2-4aa5-838f-57e25d5c80ac",
   "metadata": {},
   "outputs": [
    {
     "data": {
      "text/plain": [
       "3"
      ]
     },
     "execution_count": 34,
     "metadata": {},
     "output_type": "execute_result"
    }
   ],
   "source": [
    "f.write('I want to become a Data Scientist\\n')\n",
    "f.write('1\\n')\n",
    "f.write('23\\n')"
   ]
  },
  {
   "cell_type": "code",
   "execution_count": 35,
   "id": "dd116855-d747-4e3f-9df7-91db160c773a",
   "metadata": {},
   "outputs": [],
   "source": [
    "f.close()"
   ]
  },
  {
   "cell_type": "code",
   "execution_count": 36,
   "id": "610a466f-db04-469f-b2e0-cd4453a46eac",
   "metadata": {},
   "outputs": [
    {
     "data": {
      "text/plain": [
       "'I want to become a Data Scientist\\n1\\n23\\n'"
      ]
     },
     "execution_count": 36,
     "metadata": {},
     "output_type": "execute_result"
    }
   ],
   "source": [
    "data=open('Assignment Q4.txt','r')\n",
    "data.read()"
   ]
  },
  {
   "cell_type": "code",
   "execution_count": 37,
   "id": "c78d40ec-5b83-477e-9e51-f814a903ab31",
   "metadata": {},
   "outputs": [
    {
     "data": {
      "text/plain": [
       "'I want to become a Data Scientist\\n'"
      ]
     },
     "execution_count": 37,
     "metadata": {},
     "output_type": "execute_result"
    }
   ],
   "source": [
    "data1=open('Assignment Q4.txt','r')\n",
    "data1.readline()"
   ]
  },
  {
   "cell_type": "code",
   "execution_count": 38,
   "id": "809f924e-07c8-4043-9f13-61d224fbd54b",
   "metadata": {},
   "outputs": [
    {
     "data": {
      "text/plain": [
       "'1\\n'"
      ]
     },
     "execution_count": 38,
     "metadata": {},
     "output_type": "execute_result"
    }
   ],
   "source": [
    "data1.readline()"
   ]
  },
  {
   "cell_type": "code",
   "execution_count": 39,
   "id": "ff2210bd-4893-461e-9283-b91afdf3f0b7",
   "metadata": {},
   "outputs": [
    {
     "data": {
      "text/plain": [
       "['I want to become a Data Scientist\\n', '1\\n', '23\\n']"
      ]
     },
     "execution_count": 39,
     "metadata": {},
     "output_type": "execute_result"
    }
   ],
   "source": [
    "data=open('Assignment Q4.txt','r')\n",
    "data.readlines()"
   ]
  },
  {
   "cell_type": "markdown",
   "id": "8d192484-ec1e-4f6d-b721-9e03596d842b",
   "metadata": {},
   "source": [
    "<br>\n",
    "Q5. Explain why with statement is used with open(). What is the advantage of using with statement and\n",
    "open() together?"
   ]
  },
  {
   "cell_type": "markdown",
   "id": "33d3551e-62c3-446b-9e67-500aa8d1036c",
   "metadata": {},
   "source": [
    "-It simplifies the management of common resources like file streams. The with statement itself ensures proper acquisition and release of resources.\n",
    "<br>\n",
    "-The with statement works with the open() function to open a file. Unlike open() where you have to close the file with the close() method, the with statement closes the file for you without you telling it to. "
   ]
  },
  {
   "cell_type": "markdown",
   "id": "66604ea3-6d28-48f7-8f94-04b31aa6b630",
   "metadata": {},
   "source": [
    "<br>\n",
    "Q6. Explain the write() and writelines() functions. Give a suitable example."
   ]
  },
  {
   "cell_type": "markdown",
   "id": "c1849d72-bd29-4bf0-b684-c4e0da09eefc",
   "metadata": {},
   "source": [
    "write()\tWrites the specified string to the file\n",
    "<br>\n",
    "writelines() Writes a list of strings to the file"
   ]
  },
  {
   "cell_type": "code",
   "execution_count": 43,
   "id": "68e5b3bf-6df9-4040-9c99-e8e6b3403a58",
   "metadata": {},
   "outputs": [],
   "source": [
    "f=open('Assignment Q6.txt','w')"
   ]
  },
  {
   "cell_type": "code",
   "execution_count": 44,
   "id": "e96bb769-9057-46a1-b4ae-8e3706b71f7a",
   "metadata": {},
   "outputs": [
    {
     "data": {
      "text/plain": [
       "1"
      ]
     },
     "execution_count": 44,
     "metadata": {},
     "output_type": "execute_result"
    }
   ],
   "source": [
    "f.write('Line 1\\n')\n",
    "f.write('Line 2')\n",
    "f.write('3')"
   ]
  },
  {
   "cell_type": "code",
   "execution_count": 45,
   "id": "3d7a5782-acf4-42d3-b675-97db9da1c94a",
   "metadata": {},
   "outputs": [],
   "source": [
    "f.close()"
   ]
  },
  {
   "cell_type": "code",
   "execution_count": 46,
   "id": "126a0211-bf97-43ce-ba59-900585f74f77",
   "metadata": {},
   "outputs": [
    {
     "data": {
      "text/plain": [
       "'Line 1\\nLine 23'"
      ]
     },
     "execution_count": 46,
     "metadata": {},
     "output_type": "execute_result"
    }
   ],
   "source": [
    "data1=open('Assignment Q6.txt','r')\n",
    "data1.read()"
   ]
  },
  {
   "cell_type": "code",
   "execution_count": 50,
   "id": "5c50f101-acae-42d1-9323-bddf960ff95a",
   "metadata": {},
   "outputs": [],
   "source": [
    "f=open('Assignment Q6.txt','a')"
   ]
  },
  {
   "cell_type": "code",
   "execution_count": 51,
   "id": "0e48d262-4f62-4a9e-9618-5f5c975b4820",
   "metadata": {},
   "outputs": [],
   "source": [
    "f.writelines([\"Next Line\\n\", \"final line.\"])"
   ]
  },
  {
   "cell_type": "code",
   "execution_count": 52,
   "id": "bcecd1a6-c360-4a46-9c17-0f6bc42e8cac",
   "metadata": {},
   "outputs": [],
   "source": [
    "f.close()"
   ]
  },
  {
   "cell_type": "code",
   "execution_count": 53,
   "id": "64c7bee7-4823-4190-80a9-f9c617038f7f",
   "metadata": {},
   "outputs": [
    {
     "data": {
      "text/plain": [
       "'Line 1\\nLine 23Next Line\\nfinal line.Next Line\\nfinal line.'"
      ]
     },
     "execution_count": 53,
     "metadata": {},
     "output_type": "execute_result"
    }
   ],
   "source": [
    "data2=open('Assignment Q6.txt','r')\n",
    "data2.read()"
   ]
  },
  {
   "cell_type": "code",
   "execution_count": null,
   "id": "610118bf-eed5-4fac-a4a9-ac5c2e9c2900",
   "metadata": {},
   "outputs": [],
   "source": []
  }
 ],
 "metadata": {
  "kernelspec": {
   "display_name": "Python 3 (ipykernel)",
   "language": "python",
   "name": "python3"
  },
  "language_info": {
   "codemirror_mode": {
    "name": "ipython",
    "version": 3
   },
   "file_extension": ".py",
   "mimetype": "text/x-python",
   "name": "python",
   "nbconvert_exporter": "python",
   "pygments_lexer": "ipython3",
   "version": "3.10.8"
  }
 },
 "nbformat": 4,
 "nbformat_minor": 5
}
