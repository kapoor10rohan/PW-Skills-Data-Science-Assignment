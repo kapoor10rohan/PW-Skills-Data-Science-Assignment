{
 "cells": [
  {
   "cell_type": "markdown",
   "id": "3a9cf4af-cba7-4aca-9b6c-622d5294b6f9",
   "metadata": {},
   "source": [
    "Q1. What is hierarchical clustering, and how is it different from other clustering techniques?\n",
    "Q2. What are the two main types of hierarchical clustering algorithms? Describe each in brief.\n",
    "Q3. How do you determine the distance between two clusters in hierarchical clustering, and what are the\n",
    "common distance metrics used?\n",
    "Q4. How do you determine the optimal number of clusters in hierarchical clustering, and what are some\n",
    "common methods used for this purpose?\n",
    "Q5. What are dendrograms in hierarchical clustering, and how are they useful in analyzing the results?\n",
    "Q6. Can hierarchical clustering be used for both numerical and categorical data? If yes, how are the\n",
    "distance metrics different for each type of data?\n",
    "Q7. How can you use hierarchical clustering to identify outliers or anomalies in your data?"
   ]
  },
  {
   "cell_type": "markdown",
   "id": "c3aaf1dd-bf8a-4bb5-911b-7c1060da1f7a",
   "metadata": {},
   "source": [
    "\n",
    "**Q1. What is hierarchical clustering, and how is it different from other clustering techniques?**\n",
    "\n",
    "Hierarchical clustering is a method of cluster analysis that builds a hierarchy of clusters by either merging smaller clusters into larger ones (agglomerative) or splitting larger clusters into smaller ones (divisive). Unlike other clustering techniques like K-Means, hierarchical clustering does not require specifying the number of clusters beforehand. It forms a tree-like structure called a dendrogram, which allows for exploring clusters at different levels of granularity.\n",
    "\n",
    "**Q2. What are the two main types of hierarchical clustering algorithms? Describe each in brief.**\n",
    "\n",
    "The two main types of hierarchical clustering algorithms are:\n",
    "1. **Agglomerative Hierarchical Clustering:** This starts with each data point as a separate cluster and then successively merges clusters based on a chosen linkage criterion (e.g., single, complete, average linkage). It gradually builds larger clusters.\n",
    "2. **Divisive Hierarchical Clustering:** This starts with all data points in one cluster and then recursively divides clusters into smaller ones. It works in a top-down manner.\n",
    "\n",
    "**Q3. How do you determine the distance between two clusters in hierarchical clustering, and what are the common distance metrics used?**\n",
    "\n",
    "The distance between two clusters is determined using distance metrics that quantify the dissimilarity between clusters. Common distance metrics include:\n",
    "- **Single Linkage:** Minimum distance between any pair of points from the two clusters.\n",
    "- **Complete Linkage:** Maximum distance between any pair of points from the two clusters.\n",
    "- **Average Linkage:** Average distance between all pairs of points from the two clusters.\n",
    "- **Euclidean Distance:** Straight-line distance between points in Euclidean space.\n",
    "- **Manhattan Distance:** Sum of absolute differences between coordinates.\n",
    "- **Cosine Similarity:** Measures the cosine of the angle between vectors.\n",
    "\n",
    "**Q4. How do you determine the optimal number of clusters in hierarchical clustering, and what are some common methods used for this purpose?**\n",
    "\n",
    "Determining the optimal number of clusters in hierarchical clustering can involve methods like:\n",
    "- **Dendrogram Inspection:** Identify where the dendrogram shows significant changes in cluster formation, resembling an \"elbow.\"\n",
    "- **Cutting the Dendrogram:** Cutting the dendrogram at a certain height to obtain a specific number of clusters.\n",
    "- **Cophenetic Correlation:** Measures how faithfully the dendrogram preserves pairwise distances between data points.\n",
    "- **Silhouette Score:** Measures how well-separated the clusters are.\n",
    "- **Gap Statistic:** Compares within-cluster dispersion to that of a random distribution.\n",
    "\n",
    "**Q5. What are dendrograms in hierarchical clustering, and how are they useful in analyzing the results?**\n",
    "\n",
    "Dendrograms are tree-like diagrams that display the arrangement of clusters at different levels of linkage. They show the order and distances at which clusters are merged or split. Dendrograms help identify clusters of interest and determine an appropriate number of clusters by inspecting the structure of the tree.\n",
    "\n",
    "**Q6. Can hierarchical clustering be used for both numerical and categorical data? If yes, how are the distance metrics different for each type of data?**\n",
    "\n",
    "Yes, hierarchical clustering can be used for both numerical and categorical data. For numerical data, common distance metrics like Euclidean distance and Manhattan distance can be used. For categorical data, measures like Jaccard distance or Hamming distance are more appropriate.\n",
    "\n",
    "**Q7. How can you use hierarchical clustering to identify outliers or anomalies in your data?**\n",
    "\n",
    "Hierarchical clustering can help identify outliers by analyzing the structure of the dendrogram. Outliers might form their own small branches or be positioned far from other clusters in the tree. By setting a height threshold when cutting the dendrogram, you can isolate clusters that contain potential outliers. However, hierarchical clustering might not be the most robust method for outlier detection, and specialized techniques might be more suitable."
   ]
  },
  {
   "cell_type": "code",
   "execution_count": null,
   "id": "b544bfdc-fa95-49fa-ba36-539c6e0e06da",
   "metadata": {},
   "outputs": [],
   "source": []
  }
 ],
 "metadata": {
  "kernelspec": {
   "display_name": "Python 3 (ipykernel)",
   "language": "python",
   "name": "python3"
  },
  "language_info": {
   "codemirror_mode": {
    "name": "ipython",
    "version": 3
   },
   "file_extension": ".py",
   "mimetype": "text/x-python",
   "name": "python",
   "nbconvert_exporter": "python",
   "pygments_lexer": "ipython3",
   "version": "3.10.8"
  }
 },
 "nbformat": 4,
 "nbformat_minor": 5
}
