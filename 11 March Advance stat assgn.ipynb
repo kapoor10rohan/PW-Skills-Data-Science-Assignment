{
 "cells": [
  {
   "cell_type": "markdown",
   "id": "dfefa0fa-d362-468c-b939-1edb5502bdba",
   "metadata": {},
   "source": [
    "Q1: What is the difference between a t-test and a z-test? Provide an example scenario where you would\n",
    "use each type of test."
   ]
  },
  {
   "cell_type": "markdown",
   "id": "025086ce-29ad-4db2-a8d4-c6d6d4e11459",
   "metadata": {},
   "source": [
    "z tests are a statistical way of testing a Null Hypothesis when either:\n",
    "\n",
    "We know the population variance, or\n",
    "We do not know the population variance, but our sample size is large n ≥ 30\n",
    "If we have a sample size of less than 30 and do not know the population variance, we must use a t-test. This is how we judge when to use the z-test vs the t-test. Further, it is assumed that the z-statistic follows a standard normal distribution. In contrast, the t-statistics follows the t-distribution with a degree of freedom equal to n-1, where n is the sample size.\n",
    "\n",
    "For example, if you want to test whether the mean weight of a sample of apples is different from a known population mean weight of apples, and the population standard deviation of weights is known, then you can use a z-test. On the other hand, if you want to test whether the mean weight of a sample of apples is different from a population mean weight of apples, but the population standard deviation is unknown, you can use a t-test."
   ]
  },
  {
   "cell_type": "markdown",
   "id": "8e0fa633-0a1b-45c7-bc5e-2b1d0b650f85",
   "metadata": {},
   "source": [
    "Q2: Differentiate between one-tailed and two-tailed tests."
   ]
  },
  {
   "cell_type": "markdown",
   "id": "5bc91c15-d74e-484e-b66a-92ebebd4b4d7",
   "metadata": {},
   "source": [
    "A one-tailed ztest allows for the possibility of rejection of the Null Hypothesis in only one direction, whereas a two-tailed ztest tests the possibility of rejection in both directions (left and right)."
   ]
  },
  {
   "cell_type": "markdown",
   "id": "25c02fa2-22ed-4902-81a0-fc424741ee8e",
   "metadata": {},
   "source": [
    "Q3: Explain the concept of Type 1 and Type 2 errors in hypothesis testing. Provide an example scenario for\n",
    "each type of error."
   ]
  },
  {
   "cell_type": "markdown",
   "id": "d4fcbe46-8ce2-4101-93ea-a05048b5a047",
   "metadata": {},
   "source": [
    "In hypothesis testing, a Type 1 error and a Type 2 error are two different types of mistakes that can be made when making a decision about the null hypothesis.\n",
    "\n",
    "A Type 1 error occurs when the null hypothesis is rejected when it is actually true. Type 1 errors are sometimes called \"false positives.\"\n",
    "A Type 2 error occurs when the null hypothesis is not rejected when it is actually false. Type 2 errors are sometimes called \"false negatives.\"\n",
    "\n",
    "The probability of making a Type 1 error is denoted by alpha (α) and is typically set at 0.05 or 0.01, which means that there is a 5% or 1% chance of making a Type 1 error, respectively. \n",
    "The probability of making a Type 2 error is denoted by beta (β) and depends on several factors, including the sample size, the effect size, and the level of statistical power."
   ]
  },
  {
   "cell_type": "markdown",
   "id": "8d47ee91-45a8-4859-a4c1-144ff052adda",
   "metadata": {},
   "source": [
    "Q4: Explain Bayes's theorem with an example."
   ]
  },
  {
   "cell_type": "markdown",
   "id": "cc72e154-903d-4c27-b396-1ccae06927db",
   "metadata": {},
   "source": [
    "Bayes's theorem is a mathematical formula used in probability theory and statistics to update the probability of an event occurring based on new information. <br>\n",
    "Bayes's theorem states that the probability of an event A occurring given some observed evidence B can be calculated as follows:\n",
    "P(A|B) = P(B|A) * P(A) / P(B)<br>\n",
    "P(A|B) is the probability of event A occurring given that event B has occurred.<br>\n",
    "P(B|A) is the probability of event B occurring given that event A has occurred P(A) is the prior probability of event A P(B) is the prior probability of event B \n",
    "\n",
    "Imagine you are a financial analyst at an investment bank. According to your research of publicly-traded companies, 60% of the companies that increased their share price by more than 5% in the last three years replaced their CEOs during the period.\n",
    "At the same time, only 35% of the companies that did not increase their share price by more than 5% in the same period replaced their CEOs."
   ]
  },
  {
   "cell_type": "markdown",
   "id": "b607094e-63e7-4b09-8a2d-992288c0e99a",
   "metadata": {},
   "source": [
    "Q5: What is a confidence interval? How to calculate the confidence interval, explain with an example."
   ]
  },
  {
   "cell_type": "markdown",
   "id": "cb76a7fa-9035-4cd6-9b36-8a6b8df7bbbf",
   "metadata": {},
   "source": [
    "The confidence interval is the range of values that you expect your estimate to fall between a certain percentage of the time if you run your experiment again or re-sample the population in the same way.\n",
    "The confidence interval for data which follows a standard normal distribution is:\n",
    "\n",
    "CI = X̄ +/- Z*σ/√n\n",
    "\n",
    "Where:\n",
    "\n",
    "CI = the confidence interval\n",
    "X̄ = the population mean\n",
    "Z* = the critical value of the z distribution\n",
    "σ = the population standard deviation\n",
    "√n = the square root of the population size\n",
    "\n",
    "To calculate a confidence interval, we need to know the sample size, the sample mean, the standard deviation, and the level of confidence. "
   ]
  },
  {
   "cell_type": "markdown",
   "id": "9991463e-3362-4715-bcdd-9681e942bc89",
   "metadata": {},
   "source": [
    "Q6. Use Bayes' Theorem to calculate the probability of an event occurring given prior knowledge of the\n",
    "event's probability and new evidence. Provide a sample problem and solution."
   ]
  },
  {
   "cell_type": "markdown",
   "id": "d07f349a-ca18-477f-9ccb-e698e5c875c7",
   "metadata": {},
   "source": [
    "Imagine you are a financial analyst at an investment bank. According to your research of publicly-traded companies, 60% of the companies that increased their share price by more than 5% in the last three years replaced their CEOs during the period.\n",
    "\n",
    "At the same time, only 35% of the companies that did not increase their share price by more than 5% in the same period replaced their CEOs. Knowing that the probability that the stock prices grow by more than 5% is 4%, find the probability that the shares of a company that fires its CEO will increase by more than 5%.\n",
    "\n",
    "Using the Bayes’ theorem, we can find the required probability:\n",
    "\n",
    "\n",
    "P(A/B) =0.60 × 0.04 / 0.60 × 0.04 + 0.35 × (1 - 0.04) = 0.067 or 6.67%\n",
    "\n",
    "Thus, the probability that the shares of a company that replaces its CEO will grow by more than 5% is 6.67%."
   ]
  },
  {
   "cell_type": "markdown",
   "id": "500d911b-8431-4ec7-b2e1-b5b7f259d5b0",
   "metadata": {},
   "source": [
    "Q7. Calculate the 95% confidence interval for a sample of data with a mean of 50 and a standard deviation\n",
    "of 5. Interpret the results."
   ]
  },
  {
   "cell_type": "code",
   "execution_count": 11,
   "id": "d9643e95-d057-4b27-8848-a58be272cdc4",
   "metadata": {},
   "outputs": [
    {
     "name": "stdout",
     "output_type": "stream",
     "text": [
      "We are 95% confident that true population mean is between 48.21077297881646 and 51.78922702118354\n"
     ]
    }
   ],
   "source": [
    "# z score of alpha/2 i.e. 0.025 is 1.96\n",
    "lower_ci= 50-1.96*5/30**0.5\n",
    "upper_ci=50+1.96*5/30**0.5\n",
    "print(f\"We are 95% confident that true population mean is between {lower_ci} and {upper_ci}\")"
   ]
  },
  {
   "cell_type": "markdown",
   "id": "a1308755-2034-43f2-863f-9026f48c6613",
   "metadata": {},
   "source": [
    "Q8. What is the margin of error in a confidence interval? How does sample size affect the margin of error?\n",
    "Provide an example of a scenario where a larger sample size would result in a smaller margin of error."
   ]
  },
  {
   "cell_type": "markdown",
   "id": "31a8010d-1500-4e05-b860-72c231b34ecb",
   "metadata": {},
   "source": [
    "The margin of error is a measure of the uncertainty associated with a confidence interval. It represents the maximum distance between the true population parameter and the point estimate obtained from the sample data, within a given level of confidence.\n",
    "\n",
    "Sample size has a direct effect on the margin of error, with larger sample sizes leading to smaller margins of error. This is because larger sample sizes provide more accurate estimates of the population parameters, resulting in a narrower confidence interval.\n",
    "\n",
    "For example, suppose a political polling agency wants to estimate the proportion of voters who support a particular candidate in a certain district. If they take a sample of 100 voters and find that 60% of them support the candidate, the point estimate for the population proportion would be 0.60. If they calculate a 95% confidence interval using this data, the margin of error would be around 0.1. However, if they were to take a larger sample of 1000 voters instead, the margin of error would be around 0.03, resulting in a more precise estimate of the population proportion."
   ]
  },
  {
   "cell_type": "markdown",
   "id": "3ed503c7-b9ed-412d-9f8d-0cca07df83c5",
   "metadata": {},
   "source": [
    "Q9. Calculate the z-score for a data point with a value of 75, a population mean of 70, and a population\n",
    "standard deviation of 5. Interpret the results."
   ]
  },
  {
   "cell_type": "markdown",
   "id": "e4fb22e7-9ab1-457b-ae86-bbd3f4a35fbb",
   "metadata": {},
   "source": [
    "z = (x - μ) / σ\n",
    "\n",
    "where x is the data point, μ is the population mean, and σ is the population standard deviation."
   ]
  },
  {
   "cell_type": "code",
   "execution_count": 7,
   "id": "d3bb3c93-69ad-4b2d-992e-ed9db3ea22ff",
   "metadata": {},
   "outputs": [
    {
     "name": "stdout",
     "output_type": "stream",
     "text": [
      "For data point 75, it is present at 1.0 std dev above population mean\n"
     ]
    }
   ],
   "source": [
    "# For this case:\n",
    "z=(75-70)/5\n",
    "print(f\"For data point 75, it is present at {z} std dev above population mean\")"
   ]
  },
  {
   "cell_type": "markdown",
   "id": "aac87e3e-4c6f-4dd6-860c-ab53d7188660",
   "metadata": {},
   "source": [
    "Q10. In a study of the effectiveness of a new weight loss drug, a sample of 50 participants lost an average\n",
    "of 6 pounds with a standard deviation of 2.5 pounds. Conduct a hypothesis test to determine if the drug is\n",
    "significantly effective at a 95% confidence level using a t-test."
   ]
  },
  {
   "cell_type": "markdown",
   "id": "bc383a34-6e1b-4058-8d35-7bdf8e9683f1",
   "metadata": {},
   "source": [
    "H0: On an average drug doesn't reduces weight significantly, it's close to 0 <br>\n",
    "H1: Drug reduce weight significantly, it's more/less than 0 <br>\n",
    "Using two tail t test: <br>\n",
    "    dof=49 <br>\n",
    "    alpha=0.05 <br>\n",
    "    t critical= 2.009"
   ]
  },
  {
   "cell_type": "code",
   "execution_count": 9,
   "id": "21a09ef7-1b02-464a-8b53-1caac0a07852",
   "metadata": {},
   "outputs": [
    {
     "data": {
      "text/plain": [
       "16.970562748477143"
      ]
     },
     "execution_count": 9,
     "metadata": {},
     "output_type": "execute_result"
    }
   ],
   "source": [
    "# t valur using sample\n",
    "# t = (x̄ - µ) / (s / √n)\n",
    "t = (6-0)/(2.5/(50**0.5))\n",
    "t"
   ]
  },
  {
   "cell_type": "markdown",
   "id": "d22fe2cc-ef2e-49b7-ac8a-63363db74eb7",
   "metadata": {},
   "source": [
    "t critical is less than t so we reject null hypothesis.\n",
    "Therefore,  Drug reduce weight significantly, it's more/less than 0"
   ]
  },
  {
   "cell_type": "markdown",
   "id": "c668679d-2977-4a52-8962-59702db5ff8c",
   "metadata": {},
   "source": [
    "Q11. In a survey of 500 people, 65% reported being satisfied with their current job. Calculate the 95%\n",
    "confidence interval for the true proportion of people who are satisfied with their job."
   ]
  },
  {
   "cell_type": "markdown",
   "id": "2489d7b6-b06a-4cc5-bdcf-398ba5079869",
   "metadata": {},
   "source": [
    "To calculate the 95% confidence interval for the true proportion of people who are satisfied with their job, we can use the formula:<br>\n",
    "\n",
    "CI = p ± z(sqrt(p(1-p)/n))<br>\n",
    "p=0.65<br>\n",
    "n=500 <br>\n",
    "z for 95% CI is 1.96<br>\n",
    "CI = 0.65 ± 0.045<br>\n",
    "CI = (0.605, 0.695)"
   ]
  },
  {
   "cell_type": "markdown",
   "id": "cb7bdba5-5ec3-457d-b434-625fa64eec25",
   "metadata": {},
   "source": [
    "Q12. A researcher is testing the effectiveness of two different teaching methods on student performance.\n",
    "Sample A has a mean score of 85 with a standard deviation of 6, while sample B has a mean score of 82\n",
    "with a standard deviation of 5. Conduct a hypothesis test to determine if the two teaching methods have a\n",
    "significant difference in student performance using a t-test with a significance level of 0.01.\n"
   ]
  },
  {
   "cell_type": "markdown",
   "id": "d10da13c-75d3-42bf-9b9a-2b06d92988b3",
   "metadata": {},
   "source": [
    "H0: Sample mean diff of A and B is  0 <br>\n",
    "H1: Sample mean diff of A and B is more than 0 <br>\n",
    "We will use a two-sample t-test to test the hypothesis since we are comparing the means of two independent samples. <br>\n",
    "<br>\n",
    "Assuming samples are 30 each. <br>\n",
    "The significance level is given as 0.01, which means we need to use a t-critical value for a two-tailed test with a degree of freedom (df) of 58 (sample size of A + sample size of B - 2) and a significance level of 0.005 (0.01/2). \n",
    "<br>\n",
    "Using a t-table, the critical t-value is approximately ±2.663.\n",
    "<br>\n",
    "Now, we can calculate the t-statistic using the following formula:\n",
    "\n",
    "t = (x̄A - x̄B) / (sqrt(s^2A/nA + s^2B/nB))<br>\n",
    "#Assuming the sample sizes are equal, we can combine the sample variances as follows:<br><br>\n",
    "s²p = [(nA - 1)s²A + (nB - 1)s²B] / (nA + nB - 2)<br>\n",
    "s²p = [(29)(6²) + (29)(5²)] / (58)<br>\n",
    "s²p = 35.24<br>\n",
    "t = (85 - 82) / √(s²p/nA + s²p/nB)<br>\n",
    "t = 2.71<br>\n",
    "\n",
    "critical t value is less than calculated t so we reject null hypthesis. Therefore  Sample mean diff of A and B is more than 0\n",
    "\n"
   ]
  },
  {
   "cell_type": "markdown",
   "id": "e28aba72-3056-483f-9e03-00b2f187e751",
   "metadata": {},
   "source": [
    "Q13. A population has a mean of 60 and a standard deviation of 8. A sample of 50 observations has a mean\n",
    "of 65. Calculate the 90% confidence interval for the true population mean.\n"
   ]
  },
  {
   "cell_type": "code",
   "execution_count": 12,
   "id": "7e56c02d-2a9b-49b1-a733-e3debce0373a",
   "metadata": {},
   "outputs": [
    {
     "name": "stdout",
     "output_type": "stream",
     "text": [
      "We are 95% confident that true population mean is between 63.133238097667515 and 66.86676190233248\n"
     ]
    }
   ],
   "source": [
    "# z score of alpha/2 i.e. 0.005 is 1.65\n",
    "lower_ci= 65-1.65*8/50**0.5\n",
    "upper_ci=65+1.65*8/50**0.5\n",
    "print(f\"We are 95% confident that true population mean is between {lower_ci} and {upper_ci}\")"
   ]
  },
  {
   "cell_type": "markdown",
   "id": "3b51092e-f4b5-4110-9d9e-aa8afd80ab3a",
   "metadata": {},
   "source": [
    "Q14. In a study of the effects of caffeine on reaction time, a sample of 30 participants had an average\n",
    "reaction time of 0.25 seconds with a standard deviation of 0.05 seconds. Conduct a hypothesis test to\n",
    "determine if the caffeine has a significant effect on reaction time at a 90% confidence level using a t-test."
   ]
  },
  {
   "cell_type": "markdown",
   "id": "8b24bc98-36fa-4c1e-a738-abf7d0d13a0c",
   "metadata": {},
   "source": [
    "H0: Caffeine has no significant effect on null hypothesis, mean=0.25 <br>\n",
    "H1: Caffeine has significant effect on null hypothesis, mean>0.25 <br>\n",
    "Test:One tail test <br>\n",
    "critical t value for df=29, alpha/2=0.05 is 1.7 <br>\n",
    "calculated t value: <br>\n",
    "0.25/0.005/sqrt(30) <br>\n",
    "t=2.7 <br>\n",
    "t value is greater than critical t so we reject null hypothesis\n",
    "Therefore Caffeine has significant effect on null hypothesis, mean>0.25"
   ]
  },
  {
   "cell_type": "code",
   "execution_count": null,
   "id": "0a65f4ad-e0b3-4ce6-b6c1-b560a58df063",
   "metadata": {},
   "outputs": [],
   "source": []
  }
 ],
 "metadata": {
  "kernelspec": {
   "display_name": "Python 3 (ipykernel)",
   "language": "python",
   "name": "python3"
  },
  "language_info": {
   "codemirror_mode": {
    "name": "ipython",
    "version": 3
   },
   "file_extension": ".py",
   "mimetype": "text/x-python",
   "name": "python",
   "nbconvert_exporter": "python",
   "pygments_lexer": "ipython3",
   "version": "3.10.8"
  }
 },
 "nbformat": 4,
 "nbformat_minor": 5
}
