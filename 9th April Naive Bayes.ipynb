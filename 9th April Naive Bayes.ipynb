{
 "cells": [
  {
   "cell_type": "markdown",
   "id": "20f97a6c-4e9c-4afe-9a6b-c3e7c55bf33e",
   "metadata": {},
   "source": [
    "Q1. What is Bayes' theorem?\n"
   ]
  },
  {
   "cell_type": "markdown",
   "id": "c06b5acf-973e-4329-aa72-9c82b4a15624",
   "metadata": {},
   "source": [
    "\n",
    "Bayes’ theorem describes the probability of occurrence of an event related to any condition. It is also considered for the case of conditional probability. Bayes theorem is also known as the formula for the probability of “causes”. For example: if we have to calculate the probability of taking a blue ball from the second bag out of three different bags of balls, where each bag contains three different colour balls viz. red, blue, black. In this case, the probability of occurrence of an event is calculated depending on other conditions is known as conditional probability\n",
    "\n",
    "Bayes' theorem can be expressed mathematically as follows:\n",
    "\n",
    "P(A|B) = P(B|A) * P(A) / P(B)\n",
    "\n",
    "where:\n",
    "\n",
    "P(A|B) is the probability of event A given that event B has occurred (posterior probability)\n",
    "P(B|A) is the probability of event B given that event A has occurred (likelihood)\n",
    "P(A) is the prior probability of event A (the probability of A before taking into account the new evidence B)\n",
    "P(B) is the prior probability of event B (the probability of B before taking into account the new evidence A)\n",
    " \n"
   ]
  },
  {
   "cell_type": "markdown",
   "id": "94cb565e-4741-466f-a08e-ee3c856e5295",
   "metadata": {},
   "source": [
    "Q2. What is the formula for Bayes' theorem?\n"
   ]
  },
  {
   "cell_type": "markdown",
   "id": "d994af3e-ad79-444f-a684-308464d50175",
   "metadata": {},
   "source": [
    "Bayes' theorem can be expressed mathematically as follows:\n",
    "\n",
    "P(A|B) = P(B|A) * P(A) / P(B)\n",
    "\n",
    "where:\n",
    "\n",
    "P(A|B) is the probability of event A given that event B has occurred (posterior probability)\n",
    "P(B|A) is the probability of event B given that event A has occurred (likelihood)\n",
    "P(A) is the prior probability of event A (the probability of A before taking into account the new evidence B)\n",
    "P(B) is the prior probability of event B (the probability of B before taking into account the new evidence A)"
   ]
  },
  {
   "cell_type": "markdown",
   "id": "80700f47-b774-4ad7-bfe6-312905eafa11",
   "metadata": {},
   "source": [
    "Q3. How is Bayes' theorem used in practice?\n",
    "\n"
   ]
  },
  {
   "cell_type": "markdown",
   "id": "51a832e0-4495-4aae-ac27-df105c016789",
   "metadata": {},
   "source": [
    "Bayes rule can be used in the condition while answering the probabilistic queries conditioned on the piece of evidence."
   ]
  },
  {
   "cell_type": "markdown",
   "id": "423ac42e-17e6-4fbc-81d7-47f461ffe7d9",
   "metadata": {},
   "source": [
    "Q4. What is the relationship between Bayes' theorem and conditional probability?\n"
   ]
  },
  {
   "cell_type": "markdown",
   "id": "3c2178d1-d903-44bb-9376-927af99e96d8",
   "metadata": {},
   "source": [
    "As we know, Bayes theorem defines the probability of an event based on the prior knowledge of the conditions related to the event. In case, if we know the conditional probability, we can easily find the reverse probabilities using the Bayes theorem."
   ]
  },
  {
   "cell_type": "markdown",
   "id": "49a8c490-6daf-48a2-9a0d-aab00e5ee3a0",
   "metadata": {},
   "source": [
    "Q5. How do you choose which type of Naive Bayes classifier to use for any given problem?\n"
   ]
  },
  {
   "cell_type": "markdown",
   "id": "04e6d5d2-55e3-4847-a610-534d5dc398f1",
   "metadata": {},
   "source": [
    "The choice of which type of Naive Bayes classifier to use for a given problem depends on the characteristics of the data and the assumptions that can be made about the distribution of the features. The three main types of Naive Bayes classifiers are Gaussian Naive Bayes, Multinomial Naive Bayes, and Bernoulli Naive Bayes. Gaussian Naive Bayes is used when the features are continuous and normally distributed, while Multinomial Naive Bayes is used when the features are discrete and have a multinomial distribution. Bernoulli Naive Bayes is used when the features are binary or Boolean. In practice, it is often useful to try all three types of classifiers and compare their performance on the specific problem."
   ]
  },
  {
   "cell_type": "markdown",
   "id": "4f51c953-9976-44b2-af44-c2c1fa74a0a7",
   "metadata": {},
   "source": [
    "Q6. Assignment:\n",
    "You have a dataset with two features, X1 and X2, and two possible classes, A and B. You want to use Naive\n",
    "Bayes to classify a new instance with features X1 = 3 and X2 = 4. The following table shows the frequency of\n",
    "each feature value for each class:\n",
    "Class X1=1 X1=2 X1=3 X2=1 X2=2 X2=3 X2=4\n",
    "A 3 3 4 4 3 3 3\n",
    "B 2 2 1 2 2 2 3\n",
    "Assuming equal prior probabilities for each class, which class would Naive Bayes predict the new instance\n",
    "to belong to?"
   ]
  },
  {
   "cell_type": "code",
   "execution_count": null,
   "id": "6ba6848e-388b-4242-bb2d-b7e0bdf33936",
   "metadata": {},
   "outputs": [],
   "source": []
  }
 ],
 "metadata": {
  "kernelspec": {
   "display_name": "Python 3 (ipykernel)",
   "language": "python",
   "name": "python3"
  },
  "language_info": {
   "codemirror_mode": {
    "name": "ipython",
    "version": 3
   },
   "file_extension": ".py",
   "mimetype": "text/x-python",
   "name": "python",
   "nbconvert_exporter": "python",
   "pygments_lexer": "ipython3",
   "version": "3.10.8"
  }
 },
 "nbformat": 4,
 "nbformat_minor": 5
}
