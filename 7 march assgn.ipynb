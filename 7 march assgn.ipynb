{
 "cells": [
  {
   "cell_type": "markdown",
   "id": "61cfc16c-9bd7-413c-8df3-db8bd59b9289",
   "metadata": {},
   "source": [
    "### Central tendency and dispersion 7 March\n"
   ]
  },
  {
   "cell_type": "markdown",
   "id": "cc964608-3a77-4a76-a475-462c3f783b61",
   "metadata": {},
   "source": [
    "Q1. What are the three measures of central tendency?"
   ]
  },
  {
   "cell_type": "markdown",
   "id": "8d817d9f-a616-4780-949e-28efcb0a174d",
   "metadata": {},
   "source": [
    "Mean\n",
    "Median \n",
    "Mode"
   ]
  },
  {
   "cell_type": "markdown",
   "id": "7fe67ac2-42ac-463e-94c8-94b53f52ae0b",
   "metadata": {},
   "source": [
    "Q2. What is the difference between the mean, median, and mode? How are they used to measure the\n",
    "central tendency of a dataset?"
   ]
  },
  {
   "cell_type": "markdown",
   "id": "c55272f3-8003-4000-a2de-efd006f404de",
   "metadata": {},
   "source": [
    "‘Measures of central tendency’ include -\n",
    "\n",
    "‘Mean’ - which is the ‘simple average of the data values’.\n",
    "\n",
    "‘Median’ - which is the ‘middle value in the data set’ and is ‘greater than half the values’ and ‘less than half the values’.\n",
    "\n",
    "‘Mode’- which is the ‘most frequently occurring value’ in the data set.\n",
    "\n",
    "By calculating these ‘measures of central tendency’, we can determine the ‘skewness of the distribution’ which is its ‘deviation from symmetry’.\n",
    "\n",
    "If ‘Mean > Median > Mode’ the distribution is ‘positively or right skewed’. This means that the data has ‘more values clustered to the left and the right has a longer tail’.\n",
    "\n",
    "If ‘Mean < Median < Mode’ the distribution is ‘negatively or left skewed’. This means that the distribution has ‘more values clustered to the right’ and a ‘longer tail towards the left’.\n",
    "\n",
    "If ‘Mean = Median = Mode’ the ‘distribution is symmetric’."
   ]
  },
  {
   "cell_type": "markdown",
   "id": "5b954b66-f53c-4ad1-bc48-b991d57f1b6c",
   "metadata": {},
   "source": [
    "Q3. Measure the three measures of central tendency for the given height data:\n",
    "[178,177,176,177,178.2,178,175,179,180,175,178.9,176.2,177,172.5,178,176.5]"
   ]
  },
  {
   "cell_type": "code",
   "execution_count": 1,
   "id": "5ba5e43d-b514-4d71-9339-5ebc5c1a138c",
   "metadata": {},
   "outputs": [],
   "source": [
    "import pandas as pd\n",
    "height=pd.DataFrame(data=\n",
    "[178,177,176,177,178.2,178,175,179,180,175,178.9,176.2,177,172.5,178,176.5])"
   ]
  },
  {
   "cell_type": "code",
   "execution_count": 2,
   "id": "c6045698-32bf-4a71-93cc-fbfa740e44fa",
   "metadata": {},
   "outputs": [
    {
     "data": {
      "text/plain": [
       "0    177.01875\n",
       "dtype: float64"
      ]
     },
     "execution_count": 2,
     "metadata": {},
     "output_type": "execute_result"
    }
   ],
   "source": [
    "height.mean()"
   ]
  },
  {
   "cell_type": "code",
   "execution_count": 3,
   "id": "b882beff-6989-4ac8-bb38-7c473757ce5a",
   "metadata": {},
   "outputs": [
    {
     "data": {
      "text/plain": [
       "0    177.0\n",
       "dtype: float64"
      ]
     },
     "execution_count": 3,
     "metadata": {},
     "output_type": "execute_result"
    }
   ],
   "source": [
    "height.median()"
   ]
  },
  {
   "cell_type": "code",
   "execution_count": 4,
   "id": "45f899fe-0ce8-494a-9bca-502372653b49",
   "metadata": {},
   "outputs": [
    {
     "name": "stderr",
     "output_type": "stream",
     "text": [
      "/tmp/ipykernel_78/3846226869.py:2: FutureWarning: Unlike other reduction functions (e.g. `skew`, `kurtosis`), the default behavior of `mode` typically preserves the axis it acts along. In SciPy 1.11.0, this behavior will change: the default value of `keepdims` will become False, the `axis` over which the statistic is taken will be eliminated, and the value None will no longer be accepted. Set `keepdims` to True or False to avoid this warning.\n",
      "  stats.mode(height)\n"
     ]
    },
    {
     "data": {
      "text/plain": [
       "ModeResult(mode=array([[177.]]), count=array([[3]]))"
      ]
     },
     "execution_count": 4,
     "metadata": {},
     "output_type": "execute_result"
    }
   ],
   "source": [
    "from scipy import stats\n",
    "stats.mode(height)"
   ]
  },
  {
   "cell_type": "markdown",
   "id": "c4c2c6cc-ee82-48b0-a907-0150026254d2",
   "metadata": {},
   "source": [
    "Q4. Find the standard deviation for the given data:\n",
    "[178,177,176,177,178.2,178,175,179,180,175,178.9,176.2,177,172.5,178,176.5]"
   ]
  },
  {
   "cell_type": "code",
   "execution_count": 5,
   "id": "6112b92c-375f-4ddc-860f-9a2e9c3b1c49",
   "metadata": {},
   "outputs": [
    {
     "data": {
      "text/plain": [
       "0    1.847239\n",
       "dtype: float64"
      ]
     },
     "execution_count": 5,
     "metadata": {},
     "output_type": "execute_result"
    }
   ],
   "source": [
    "hts=pd.DataFrame(data=[178,177,176,177,178.2,178,175,179,180,175,178.9,176.2,177,172.5,178,176.5])\n",
    "hts.std()"
   ]
  },
  {
   "cell_type": "markdown",
   "id": "9b3cf2e6-b935-44c0-ad27-4cac5af3c909",
   "metadata": {},
   "source": [
    "<br>\n",
    "Q5. How are measures of dispersion such as range, variance, and standard deviation used to describe\n",
    "the spread of a dataset? Provide an example."
   ]
  },
  {
   "cell_type": "markdown",
   "id": "5e5412b4-a83f-4af5-9b8e-93a590c8f259",
   "metadata": {},
   "source": [
    "Standard deviation- The square root of the variance is known as the standard deviation. If the standard deviation is very high we can say that the distribution is very varied and the values are far apart from the mean.\n",
    "\n",
    "Range - It is simply the difference between the maximum value and the minimum value given in a data set. Example: 1, 3,5, 6, 7 => Range = 7 -1= 6. This gives us the idea about the total stretch of the distribution, from the lowest value to the highest value.\n",
    "\n",
    "Inter quartile range- the measure of the difference between the upper and lower quartile. if the value is very high, the distribution is highly variable and values are far apart from each other.\n",
    "\n",
    "Variance: The average squared deviation from the mean of the given data set is known as the variance. This measure of dispersion checks the spread of the data about the mean."
   ]
  },
  {
   "cell_type": "code",
   "execution_count": 6,
   "id": "4f691094-b6e5-4fd1-99b7-06a8be172c43",
   "metadata": {},
   "outputs": [
    {
     "name": "stdout",
     "output_type": "stream",
     "text": [
      "Range: 73\n",
      "Variance: 625.2888888888888\n",
      "Standard deviation: 25.005777110277712\n",
      "Inter Quartile Region:  25.0\n"
     ]
    }
   ],
   "source": [
    "import numpy as np\n",
    "ages = pd.Series([34, 42, 25, 55, 25, 37, 98, 79, 32, 25])\n",
    "range = ages.max() - ages.min()\n",
    "variance = ages.var()\n",
    "std_dev = ages.std()\n",
    "q75, q25 = np.percentile(ages, [75 ,25])\n",
    "iqr = q75 - q25\n",
    "print(\"Range:\", range)\n",
    "print(\"Variance:\", variance)\n",
    "print(\"Standard deviation:\", std_dev)\n",
    "print(\"Inter Quartile Region: \",iqr)"
   ]
  },
  {
   "cell_type": "markdown",
   "id": "59bde852-672b-4e70-ab57-d3d5a5a3be9c",
   "metadata": {},
   "source": [
    "<br>\n",
    "Q6. What is a Venn diagram?"
   ]
  },
  {
   "cell_type": "markdown",
   "id": "9d54b2b0-e035-424c-af1c-3f14248d9c47",
   "metadata": {},
   "source": [
    "A Venn diagram is a visual representation of the relationships between different sets of data. It consists of overlapping circles, where each circle represents a set, and the overlapping area represents the intersection of the sets. Venn diagrams are often used in mathematics, logic, statistics, and other fields to illustrate concepts such as set theory, logic, and probability.\n",
    "\n",
    "The circles in a Venn diagram can be used to represent any category or group of data, and the intersection of the circles can represent any overlap between those categories or groups. For example, a Venn diagram can be used to show the relationships between different groups of animals, such as mammals, birds, and reptiles."
   ]
  },
  {
   "cell_type": "markdown",
   "id": "b4c3326b-b400-4a0a-90d9-d14bca2cc8a4",
   "metadata": {},
   "source": [
    "Q7. For the two given sets A = (2,3,4,5,6,7) & B = (0,2,6,8,10). Find:\n",
    "(i) A ^ B\n",
    "(ii) A ⋃ B"
   ]
  },
  {
   "cell_type": "markdown",
   "id": "e7fdf723-fe45-4003-bf7a-eb74a0268a60",
   "metadata": {},
   "source": [
    "A ∩ B (the intersection of A and B): The intersection of A and B contains only the elements that are common to both A and B.\n",
    "<br>\n",
    "A ⋃ B (the union of A and B): The union of A and B contains all the elements that are in A or B or both\n",
    "<br>\n",
    "A ^ B : {2,6}\n",
    "<br>\n",
    "A U B : {0,2,3,4,5,6,7,8,10}"
   ]
  },
  {
   "cell_type": "markdown",
   "id": "095387ce-e807-4ca9-ade2-3120161d3670",
   "metadata": {},
   "source": [
    "\n",
    "Q8. What do you understand about skewness in data?"
   ]
  },
  {
   "cell_type": "markdown",
   "id": "4a38e4d3-fd53-4d95-afa4-595839bccfc0",
   "metadata": {},
   "source": [
    "Skewness is a measurement of the distortion of symmetrical distribution or asymmetry in a data set. Skewness is demonstrated on a bell curve when data points are not distributed symmetrically to the left and right sides of the median on a bell curve. If the bell curve is shifted to the left or the right, it is said to be skewed."
   ]
  },
  {
   "cell_type": "markdown",
   "id": "3511f06f-fc4b-40ac-a9fe-56b883318a13",
   "metadata": {},
   "source": [
    "Q9. If a data is right skewed then what will be the position of median with respect to mean?"
   ]
  },
  {
   "cell_type": "markdown",
   "id": "4954e517-6c4c-4f9d-9de4-117dc03e1916",
   "metadata": {},
   "source": [
    "Median < Mean\n",
    "This is because the tail of the distribution is longer on the right side, which means there are more high values that pull the mean to the right."
   ]
  },
  {
   "cell_type": "markdown",
   "id": "c62c131f-9e48-4b4a-8280-625202352905",
   "metadata": {},
   "source": [
    "Q10. Explain the difference between covariance and correlation. How are these measures used in\n",
    "statistical analysis?\n",
    "Q11. What is the formula for calculating the sample mean? Provide an example calculation for a\n",
    "dataset.\n",
    "Q12. For a normal distribution data what is the relationship between its measure of central tendency?\n",
    "Q13. How is covariance different from correlation?\n",
    "Q14. How do outliers affect measures of central tendency and dispersion? Provide an example."
   ]
  },
  {
   "cell_type": "markdown",
   "id": "db368109-522d-420c-86f1-67361919b0f9",
   "metadata": {},
   "source": [
    "Covariance is a statistical term that refers to a systematic relationship between two random variables in which a change in the other reflects a change in one variable.\n",
    "\n",
    "The covariance value can range from -∞ to +∞, with a negative value indicating a negative relationship and a positive value indicating a positive relationship.\n",
    "\n",
    "The greater this number, the more reliant the relationship. Positive covariance denotes a direct relationship and is represented by a positive number.\n",
    "\n",
    "A negative number, on the other hand, denotes negative covariance, which indicates an inverse relationship between the two variables. Covariance is great for defining the type of relationship, but it's terrible for interpreting the magnitude.\n",
    "\n",
    "In statistics, correlation is a measure that determines the degree to which two or more random variables move in sequence. When an equivalent movement of another variable reciprocates the movement of one variable in some way or another during the study of two variables, the variables are said to be correlated. \n",
    "\n",
    "Covariance and correlation greatly aid in understanding the relationship between two continuous variables. Covariance indicates whether two variables fluctuate in the same (positive covariance) or opposite direction (negative covariance). The numerical value of covariance has no importance; only the sign is relevant. Correlation, on the other hand, describes how a change in one variable leads to a change in the percentage of the second variable. Correlation ranges from -1 to +1. If the correlation value is 0, it suggests that there is no linear link between the variables, but another functional relationship may exist."
   ]
  },
  {
   "cell_type": "markdown",
   "id": "323883d0-c522-4ee7-a459-e652c87a1fbe",
   "metadata": {},
   "source": [
    "Q11. What is the formula for calculating the sample mean? Provide an example calculation for a\n",
    "dataset.\n"
   ]
  },
  {
   "cell_type": "markdown",
   "id": "2140d42d-e774-429e-a3b1-d03ff522b7c8",
   "metadata": {},
   "source": [
    "sample mean = (sum of all values in the sample) / (number of values in the sample)\n",
    "\n",
    "In other words, you add up all the values in the sample, and then divide by the number of values to get the average value.\n",
    "\n",
    "For example, consider the following dataset:\n",
    "\n",
    "[3, 6, 7, 10, 12]\n",
    "\n",
    "To calculate the sample mean, we add up all the values in the dataset, then divide by the number of values:\n",
    "\n",
    "sample mean = (3 + 6 + 7 + 10 + 12) / 5 sample mean = 38 / 5 sample mean = 7.6\n",
    "\n",
    "Therefore, the sample mean of this dataset is 7.6."
   ]
  },
  {
   "cell_type": "markdown",
   "id": "2bb71aba-981a-443a-8dec-e43c0655fb08",
   "metadata": {},
   "source": [
    "Q12. For a normal distribution data what is the relationship between its measure of central tendency?\n"
   ]
  },
  {
   "cell_type": "markdown",
   "id": "68412422-8220-42a5-9301-375b99a28486",
   "metadata": {},
   "source": [
    "Mean=Median=Mode<br>\n",
    " This means that the center of the distribution is at the same point regardless of which measure of central tendency is used. This property of normal distribution is often referred to as symmetry."
   ]
  },
  {
   "cell_type": "markdown",
   "id": "e6021118-20a5-4b1f-aca4-4c6beda9bd1e",
   "metadata": {},
   "source": [
    "Q13. How is covariance different from correlation?\n"
   ]
  },
  {
   "cell_type": "markdown",
   "id": "b4f01563-5977-4cf3-bcfa-9940ed6581c8",
   "metadata": {},
   "source": [
    "\n",
    "Definition\n",
    "\n",
    "Covariance is an indicator of the extent to which 2 random variables are dependent on each other. A higher number denotes higher dependency.\n",
    "\n",
    "Correlation is a statistical measure that indicates how strongly two variables are related.\n",
    "\n",
    "Values\n",
    "\n",
    "The value of covariance lies in the range of -∞ and +∞.\n",
    "\n",
    "Correlation is limited to values between the range -1 and +1\n",
    "\n",
    "Change in scale\n",
    "\n",
    "Affects covariance\n",
    "\n",
    "Does not affect the correlation"
   ]
  },
  {
   "cell_type": "markdown",
   "id": "d8d15dae-ddab-4e37-aeda-63ce2b55dc9e",
   "metadata": {},
   "source": [
    "Q14. How do outliers affect measures of central tendency and dispersion? Provide an example."
   ]
  },
  {
   "cell_type": "markdown",
   "id": "5f3c5782-8bff-4411-a30e-f679d0ae4060",
   "metadata": {},
   "source": [
    "Outliers are extreme values that lie far away from the other values in a dataset. They can have a significant impact on measures of central tendency and dispersion.\n",
    "<br>\n",
    "Outliers can affect measures of central tendency, such as the mean and median, by pulling the center of the distribution towards themselves. If an outlier is much larger or smaller than the other values in the dataset, it can greatly increase or decrease the mean. The median is less affected by outliers, but it can still be shifted if the outlier is far enough from the other values. Outliers affect the mean value of the data but have little effect on the median or mode of a given set of data\n",
    "<br>\n",
    "Range is extremely sensitive to outliers, and one number far away from the rest of the data will greatly alter the value of the range.<br>\n",
    "IQR is preferred over a range as, like a range, IQR does not influence by outliers<br>\n",
    "Variance uses squaring that can create outliers, and to overcome this drawback, we use standard deviation"
   ]
  },
  {
   "cell_type": "code",
   "execution_count": 10,
   "id": "95ba3f5e-ccb2-4f8d-a683-f9bfe550429f",
   "metadata": {},
   "outputs": [
    {
     "name": "stdout",
     "output_type": "stream",
     "text": [
      "0    34\n",
      "1    42\n",
      "2    25\n",
      "3    55\n",
      "4    25\n",
      "5    37\n",
      "6    98\n",
      "7    79\n",
      "8    32\n",
      "9    25\n",
      "dtype: int64\n",
      "45.2 35.5 25\n",
      "Range: 73\n",
      "Variance: 625.2888888888888\n",
      "Standard deviation: 25.005777110277712\n",
      "Inter Quartile Region:  25.0\n"
     ]
    }
   ],
   "source": [
    "print(ages)\n",
    "print(ages.mean(),ages.median(),ages.mode()[0])\n",
    "print(\"Range:\", range)\n",
    "print(\"Variance:\", variance)\n",
    "print(\"Standard deviation:\", std_dev)\n",
    "print(\"Inter Quartile Region: \",iqr)"
   ]
  },
  {
   "cell_type": "code",
   "execution_count": 19,
   "id": "3c92589a-9f1f-4b62-9a3a-e3ed6ade2e24",
   "metadata": {},
   "outputs": [
    {
     "name": "stderr",
     "output_type": "stream",
     "text": [
      "/tmp/ipykernel_78/665742590.py:1: FutureWarning: The series.append method is deprecated and will be removed from pandas in a future version. Use pandas.concat instead.\n",
      "  ages=ages.append(pd.Series(data=[1000]))\n"
     ]
    },
    {
     "data": {
      "text/plain": [
       "0      34\n",
       "1      42\n",
       "2      25\n",
       "3      55\n",
       "4      25\n",
       "5      37\n",
       "6      98\n",
       "7      79\n",
       "8      32\n",
       "9      25\n",
       "0    1000\n",
       "dtype: int64"
      ]
     },
     "execution_count": 19,
     "metadata": {},
     "output_type": "execute_result"
    }
   ],
   "source": [
    "ages=ages.append(pd.Series(data=[1000]))\n",
    "ages"
   ]
  },
  {
   "cell_type": "code",
   "execution_count": 21,
   "id": "2ba6b21f-409a-42ab-9ab9-35ec105c69f8",
   "metadata": {},
   "outputs": [
    {
     "name": "stdout",
     "output_type": "stream",
     "text": [
      "132.0 37.0 25\n",
      "Range: 975\n",
      "Variance: 83439.4\n",
      "Standard deviation: 288.8587890302111\n",
      "Inter Quartile Region:  38.5\n",
      "Range: 975\n",
      "Variance: 83439.4\n",
      "Standard deviation: 288.8587890302111\n",
      "Inter Quartile Region:  38.5\n"
     ]
    }
   ],
   "source": [
    "print(ages.mean(),ages.median(),ages.mode()[0])\n",
    "range = ages.max() - ages.min()\n",
    "variance = ages.var()\n",
    "std_dev = ages.std()\n",
    "q75, q25 = np.percentile(ages, [75 ,25])\n",
    "iqr = q75 - q25\n",
    "print(\"Range:\", range)\n",
    "print(\"Variance:\", variance)\n",
    "print(\"Standard deviation:\", std_dev)\n",
    "print(\"Inter Quartile Region: \",iqr)\n",
    "print(\"Range:\", range)\n",
    "print(\"Variance:\", variance)\n",
    "print(\"Standard deviation:\", std_dev)\n",
    "print(\"Inter Quartile Region: \",iqr)"
   ]
  },
  {
   "cell_type": "code",
   "execution_count": null,
   "id": "69200ead-44ff-4dde-8b49-cae31047df02",
   "metadata": {},
   "outputs": [],
   "source": []
  }
 ],
 "metadata": {
  "kernelspec": {
   "display_name": "Python 3 (ipykernel)",
   "language": "python",
   "name": "python3"
  },
  "language_info": {
   "codemirror_mode": {
    "name": "ipython",
    "version": 3
   },
   "file_extension": ".py",
   "mimetype": "text/x-python",
   "name": "python",
   "nbconvert_exporter": "python",
   "pygments_lexer": "ipython3",
   "version": "3.10.8"
  }
 },
 "nbformat": 4,
 "nbformat_minor": 5
}
