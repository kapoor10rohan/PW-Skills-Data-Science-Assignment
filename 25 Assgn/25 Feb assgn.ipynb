{
 "cells": [
  {
   "cell_type": "code",
   "execution_count": 1,
   "id": "afd36620-56c4-4b32-a59a-eebceb1f14c7",
   "metadata": {},
   "outputs": [],
   "source": [
    "# Consider following code to answer further questions:\n",
    "import pandas as pd\n",
    "course_name = ['Data Science', 'Machine Learning', 'Big Data', 'Data Engineer']\n",
    "duration = [2,3,6,4]\n",
    "df = pd.DataFrame(data = {'course_nam' : course_name, 'duration' : duration})"
   ]
  },
  {
   "cell_type": "code",
   "execution_count": 2,
   "id": "5ff7834b-3ed3-4fe0-a139-4e641a6c2025",
   "metadata": {},
   "outputs": [
    {
     "data": {
      "text/html": [
       "<div>\n",
       "<style scoped>\n",
       "    .dataframe tbody tr th:only-of-type {\n",
       "        vertical-align: middle;\n",
       "    }\n",
       "\n",
       "    .dataframe tbody tr th {\n",
       "        vertical-align: top;\n",
       "    }\n",
       "\n",
       "    .dataframe thead th {\n",
       "        text-align: right;\n",
       "    }\n",
       "</style>\n",
       "<table border=\"1\" class=\"dataframe\">\n",
       "  <thead>\n",
       "    <tr style=\"text-align: right;\">\n",
       "      <th></th>\n",
       "      <th>course_nam</th>\n",
       "      <th>duration</th>\n",
       "    </tr>\n",
       "  </thead>\n",
       "  <tbody>\n",
       "    <tr>\n",
       "      <th>0</th>\n",
       "      <td>Data Science</td>\n",
       "      <td>2</td>\n",
       "    </tr>\n",
       "    <tr>\n",
       "      <th>1</th>\n",
       "      <td>Machine Learning</td>\n",
       "      <td>3</td>\n",
       "    </tr>\n",
       "    <tr>\n",
       "      <th>2</th>\n",
       "      <td>Big Data</td>\n",
       "      <td>6</td>\n",
       "    </tr>\n",
       "    <tr>\n",
       "      <th>3</th>\n",
       "      <td>Data Engineer</td>\n",
       "      <td>4</td>\n",
       "    </tr>\n",
       "  </tbody>\n",
       "</table>\n",
       "</div>"
      ],
      "text/plain": [
       "         course_nam  duration\n",
       "0      Data Science         2\n",
       "1  Machine Learning         3\n",
       "2          Big Data         6\n",
       "3     Data Engineer         4"
      ]
     },
     "execution_count": 2,
     "metadata": {},
     "output_type": "execute_result"
    }
   ],
   "source": [
    "df"
   ]
  },
  {
   "cell_type": "markdown",
   "id": "34de140a-c645-4c17-9c94-da83b2368061",
   "metadata": {},
   "source": [
    "Q1. Write a code to print the data present in the second row of the dataframe, df."
   ]
  },
  {
   "cell_type": "code",
   "execution_count": 3,
   "id": "4b7c1130-25fc-4bb2-962a-6a70af05b682",
   "metadata": {},
   "outputs": [
    {
     "data": {
      "text/plain": [
       "course_nam    Machine Learning\n",
       "duration                     3\n",
       "Name: 1, dtype: object"
      ]
     },
     "execution_count": 3,
     "metadata": {},
     "output_type": "execute_result"
    }
   ],
   "source": [
    "df.loc[1]"
   ]
  },
  {
   "cell_type": "markdown",
   "id": "8f95c644-661b-4624-ae03-0d0c8c7a5ae8",
   "metadata": {},
   "source": [
    "Q2. What is the difference between the functions loc and iloc in pandas.DataFrame?"
   ]
  },
  {
   "cell_type": "raw",
   "id": "f3272225-8a54-4f9b-8ac1-c6c26785f71b",
   "metadata": {},
   "source": [
    "loc is label-based, which means that you have to specify rows and columns based on their row and column labels.\n",
    "iloc is integer position-based, so you have to specify rows and columns by their integer position values (0-based integer position)."
   ]
  },
  {
   "cell_type": "markdown",
   "id": "b6fa9926-014a-4269-ab7d-b4908a1a683f",
   "metadata": {},
   "source": [
    "Q3. Reindex the given dataframe using a variable, reindex = [3,0,1,2] and store it in the variable, new_df\n",
    "then find the output for both new_df.loc[2] and new_df.iloc[2]."
   ]
  },
  {
   "cell_type": "code",
   "execution_count": 4,
   "id": "2454c10a-1038-455d-a012-62dc818bc256",
   "metadata": {},
   "outputs": [],
   "source": [
    "new_df=df.reindex([3,0,1,2])"
   ]
  },
  {
   "cell_type": "code",
   "execution_count": 5,
   "id": "18f344ae-9c4c-4c99-8564-960539e7775b",
   "metadata": {},
   "outputs": [
    {
     "data": {
      "text/plain": [
       "course_nam    Big Data\n",
       "duration             6\n",
       "Name: 2, dtype: object"
      ]
     },
     "execution_count": 5,
     "metadata": {},
     "output_type": "execute_result"
    }
   ],
   "source": [
    "new_df.loc[2] # loc gives label based data"
   ]
  },
  {
   "cell_type": "code",
   "execution_count": 6,
   "id": "cee41f3a-114b-4632-ae01-670b8edb4269",
   "metadata": {},
   "outputs": [
    {
     "data": {
      "text/plain": [
       "course_nam    Machine Learning\n",
       "duration                     3\n",
       "Name: 1, dtype: object"
      ]
     },
     "execution_count": 6,
     "metadata": {},
     "output_type": "execute_result"
    }
   ],
   "source": [
    "new_df.iloc[2] # it gives results based on integer value"
   ]
  },
  {
   "cell_type": "code",
   "execution_count": 7,
   "id": "e6d1f79d-af29-434b-b4f9-600eecf0fc37",
   "metadata": {},
   "outputs": [],
   "source": [
    "# Consider the below code to answer further questions:\n",
    "import pandas as pd\n",
    "import numpy as np\n",
    "columns = ['column_1', 'column_2', 'column_3', 'column_4', 'column_5', 'column_6']\n",
    "indices = [1,2,3,4,5,6]\n",
    "#Creating a dataframe:\n",
    "df1 = pd.DataFrame(np.random.rand(6,6), columns = columns, index = indices)"
   ]
  },
  {
   "cell_type": "markdown",
   "id": "429df662-3650-46c3-9f1f-31fc8d5086bb",
   "metadata": {},
   "source": [
    "Q4. Write a code to find the following statistical measurements for the above dataframe df1:\n",
    "(i) mean of each and every column present in the dataframe.\n",
    "(ii) standard deviation of column, ‘column_2’"
   ]
  },
  {
   "cell_type": "code",
   "execution_count": 8,
   "id": "de368063-6040-4920-8429-f8c74d4f8c02",
   "metadata": {},
   "outputs": [
    {
     "data": {
      "text/html": [
       "<div>\n",
       "<style scoped>\n",
       "    .dataframe tbody tr th:only-of-type {\n",
       "        vertical-align: middle;\n",
       "    }\n",
       "\n",
       "    .dataframe tbody tr th {\n",
       "        vertical-align: top;\n",
       "    }\n",
       "\n",
       "    .dataframe thead th {\n",
       "        text-align: right;\n",
       "    }\n",
       "</style>\n",
       "<table border=\"1\" class=\"dataframe\">\n",
       "  <thead>\n",
       "    <tr style=\"text-align: right;\">\n",
       "      <th></th>\n",
       "      <th>column_1</th>\n",
       "      <th>column_2</th>\n",
       "      <th>column_3</th>\n",
       "      <th>column_4</th>\n",
       "      <th>column_5</th>\n",
       "      <th>column_6</th>\n",
       "    </tr>\n",
       "  </thead>\n",
       "  <tbody>\n",
       "    <tr>\n",
       "      <th>1</th>\n",
       "      <td>0.614629</td>\n",
       "      <td>0.503594</td>\n",
       "      <td>0.270625</td>\n",
       "      <td>0.232553</td>\n",
       "      <td>0.485148</td>\n",
       "      <td>0.219916</td>\n",
       "    </tr>\n",
       "    <tr>\n",
       "      <th>2</th>\n",
       "      <td>0.834115</td>\n",
       "      <td>0.946101</td>\n",
       "      <td>0.013061</td>\n",
       "      <td>0.574180</td>\n",
       "      <td>0.104105</td>\n",
       "      <td>0.637672</td>\n",
       "    </tr>\n",
       "    <tr>\n",
       "      <th>3</th>\n",
       "      <td>0.415094</td>\n",
       "      <td>0.257212</td>\n",
       "      <td>0.099265</td>\n",
       "      <td>0.795412</td>\n",
       "      <td>0.538035</td>\n",
       "      <td>0.569167</td>\n",
       "    </tr>\n",
       "    <tr>\n",
       "      <th>4</th>\n",
       "      <td>0.319059</td>\n",
       "      <td>0.713478</td>\n",
       "      <td>0.928541</td>\n",
       "      <td>0.143149</td>\n",
       "      <td>0.655458</td>\n",
       "      <td>0.250887</td>\n",
       "    </tr>\n",
       "    <tr>\n",
       "      <th>5</th>\n",
       "      <td>0.110972</td>\n",
       "      <td>0.538572</td>\n",
       "      <td>0.778604</td>\n",
       "      <td>0.075762</td>\n",
       "      <td>0.082308</td>\n",
       "      <td>0.340329</td>\n",
       "    </tr>\n",
       "    <tr>\n",
       "      <th>6</th>\n",
       "      <td>0.406745</td>\n",
       "      <td>0.812627</td>\n",
       "      <td>0.616023</td>\n",
       "      <td>0.641878</td>\n",
       "      <td>0.302201</td>\n",
       "      <td>0.771444</td>\n",
       "    </tr>\n",
       "  </tbody>\n",
       "</table>\n",
       "</div>"
      ],
      "text/plain": [
       "   column_1  column_2  column_3  column_4  column_5  column_6\n",
       "1  0.614629  0.503594  0.270625  0.232553  0.485148  0.219916\n",
       "2  0.834115  0.946101  0.013061  0.574180  0.104105  0.637672\n",
       "3  0.415094  0.257212  0.099265  0.795412  0.538035  0.569167\n",
       "4  0.319059  0.713478  0.928541  0.143149  0.655458  0.250887\n",
       "5  0.110972  0.538572  0.778604  0.075762  0.082308  0.340329\n",
       "6  0.406745  0.812627  0.616023  0.641878  0.302201  0.771444"
      ]
     },
     "execution_count": 8,
     "metadata": {},
     "output_type": "execute_result"
    }
   ],
   "source": [
    "df1"
   ]
  },
  {
   "cell_type": "code",
   "execution_count": 9,
   "id": "5b13e6a0-d8c0-4bd9-869a-c4c289bbb928",
   "metadata": {},
   "outputs": [
    {
     "data": {
      "text/plain": [
       "column_1    0.450102\n",
       "column_2    0.628597\n",
       "column_3    0.451020\n",
       "column_4    0.410489\n",
       "column_5    0.361209\n",
       "column_6    0.464902\n",
       "dtype: float64"
      ]
     },
     "execution_count": 9,
     "metadata": {},
     "output_type": "execute_result"
    }
   ],
   "source": [
    "df1.mean()"
   ]
  },
  {
   "cell_type": "code",
   "execution_count": 10,
   "id": "9583fe3b-e62c-4d29-a6eb-f1e1af7742aa",
   "metadata": {},
   "outputs": [
    {
     "data": {
      "text/plain": [
       "0.24638902125477946"
      ]
     },
     "execution_count": 10,
     "metadata": {},
     "output_type": "execute_result"
    }
   ],
   "source": [
    "df1['column_2'].std()"
   ]
  },
  {
   "cell_type": "markdown",
   "id": "c01e08ac-0a67-4947-9c04-2c2e49041a2c",
   "metadata": {},
   "source": [
    "Q5. Replace the data present in the second row of column, ‘column_2’ by a string variable then find the\n",
    "mean of column, column_2.\n",
    "If you are getting errors in executing it then explain why.\n",
    "[Hint: To replace the data use df1.loc[] and equate this to string data of your choice.]"
   ]
  },
  {
   "cell_type": "code",
   "execution_count": 11,
   "id": "475b0206-612d-4b3d-bef3-2ba658d96ea3",
   "metadata": {},
   "outputs": [],
   "source": [
    "df1['column_2'].loc[2]='string'"
   ]
  },
  {
   "cell_type": "code",
   "execution_count": 12,
   "id": "89da2336-2ff1-455d-b4a1-3a6da7990de7",
   "metadata": {},
   "outputs": [],
   "source": [
    "# df1['column_2'].mean()\n",
    "#TypeError: unsupported operand type(s) for +: 'float' and 'str'\n",
    "# This generates error as we are adding float to a string which is not possible"
   ]
  },
  {
   "cell_type": "markdown",
   "id": "9681aca6-511b-4dae-ba7c-2e137890a70e",
   "metadata": {},
   "source": [
    "Q6. What do you understand about the windows function in pandas and list the types of windows\n",
    "functions?"
   ]
  },
  {
   "cell_type": "markdown",
   "id": "66847dee-28cb-436c-bf59-20c122586484",
   "metadata": {},
   "source": [
    "The window functions in Pandas are used to perform some sort of calculations across a set of rows that are interrelated with the current row. As we know we have aggregate functions in SQL which help us to perform mathematical calculations among the columns of a table, similarly windows functions help us to perform aggregated calculations across various partitions or cross-sections of the data.\n",
    "<br>\n",
    "Windows function in Pandas can be broadly divided into three categories namely- Aggregate, Ranking, and Value.\n",
    "<br>\n",
    "The Aggregate category of window functions can be of three types namely-\n",
    "\n",
    "Group,\n",
    "Rolling, and\n",
    "Expanding.\n",
    "<br>\n",
    "The Ranking category of window functions can be of five types namely-\n",
    "\n",
    "Row Numbers,\n",
    "Row numbers if of two types:\n",
    "reset_index()\n",
    "cumcount()\n",
    "<br>\n",
    "Rank,\n",
    "Rank is of four types:\n",
    "default_rank\n",
    "min_rank\n",
    "NA_bottom\n",
    "descending\n",
    "Dense rank,\n",
    "Percent, and\n",
    "N-Tile / qcut().\n",
    "<br>\n",
    "The Value category of window functions can be of two types namely-\n",
    "\n",
    "Lag / Lead, and\n",
    "First / Last/nth.\n"
   ]
  },
  {
   "cell_type": "markdown",
   "id": "6dab1159-daa7-4a31-9032-0ae7e784482e",
   "metadata": {},
   "source": [
    "Q7. Write a code to print only the current month and year at the time of answering this question.\n",
    "[Hint: Use pandas.datetime function]"
   ]
  },
  {
   "cell_type": "code",
   "execution_count": 13,
   "id": "eed5ebcd-4c2d-410a-bd21-37e2b24a6b82",
   "metadata": {},
   "outputs": [
    {
     "data": {
      "text/plain": [
       "'2023-03'"
      ]
     },
     "execution_count": 13,
     "metadata": {},
     "output_type": "execute_result"
    }
   ],
   "source": [
    "from datetime import datetime\n",
    "datetime.today().strftime('%Y-%m')"
   ]
  },
  {
   "cell_type": "markdown",
   "id": "32d36a27-149b-4ee3-8850-5b5741a4fde6",
   "metadata": {},
   "source": [
    "Q8. Write a Python program that takes in two dates as input (in the format YYYY-MM-DD) and\n",
    "calculates the difference between them in days, hours, and minutes using Pandas time delta. The\n",
    "program should prompt the user to enter the dates and display the result."
   ]
  },
  {
   "cell_type": "code",
   "execution_count": 14,
   "id": "1b0984bb-74db-4f5f-8b77-fe14e8a2bf79",
   "metadata": {},
   "outputs": [
    {
     "name": "stdin",
     "output_type": "stream",
     "text": [
      "Enter the first date (YYYY-MM-DD):  1997-08-10\n",
      "Enter the second date (YYYY-MM-DD):  2023-03-01\n"
     ]
    },
    {
     "name": "stdout",
     "output_type": "stream",
     "text": [
      "The difference between 1997-08-10 and 2023-03-01 is:\n",
      "9334 days\n",
      "0 hours\n",
      "0 minutes\n"
     ]
    }
   ],
   "source": [
    "# Prompt the user to enter the first date\n",
    "date1_str = input(\"Enter the first date (YYYY-MM-DD): \")\n",
    "date1 = pd.to_datetime(date1_str)\n",
    "\n",
    "# Prompt the user to enter the second date\n",
    "date2_str = input(\"Enter the second date (YYYY-MM-DD): \")\n",
    "date2 = pd.to_datetime(date2_str)\n",
    "\n",
    "# Calculate the difference between the two dates\n",
    "diff = date2 - date1\n",
    "\n",
    "# Print the result\n",
    "print(\"The difference between\", date1_str, \"and\", date2_str, \"is:\")\n",
    "print(diff.days, \"days\")\n",
    "print(diff.seconds // 3600, \"hours\")\n",
    "print((diff.seconds // 60) % 60, \"minutes\")"
   ]
  },
  {
   "cell_type": "markdown",
   "id": "61e73d0a-bef7-495a-8457-cddc8cf0f7fe",
   "metadata": {},
   "source": [
    "Q9. Write a Python program that reads a CSV file containing categorical data and converts a specified\n",
    "column to a categorical data type. The program should prompt the user to enter the file path, column\n",
    "name, and category order, and then display the sorted data."
   ]
  },
  {
   "cell_type": "code",
   "execution_count": 16,
   "id": "2b928b9d-f4a5-4ba8-9888-896548adf2e3",
   "metadata": {},
   "outputs": [
    {
     "name": "stdin",
     "output_type": "stream",
     "text": [
      "Enter File name:  Sales.csv\n",
      "Enter column name:  Product\n",
      "Enter order name:  Mobile\n",
      "Enter order name:  Fridge\n",
      "Enter order name:  TV\n"
     ]
    },
    {
     "data": {
      "text/html": [
       "<div>\n",
       "<style scoped>\n",
       "    .dataframe tbody tr th:only-of-type {\n",
       "        vertical-align: middle;\n",
       "    }\n",
       "\n",
       "    .dataframe tbody tr th {\n",
       "        vertical-align: top;\n",
       "    }\n",
       "\n",
       "    .dataframe thead th {\n",
       "        text-align: right;\n",
       "    }\n",
       "</style>\n",
       "<table border=\"1\" class=\"dataframe\">\n",
       "  <thead>\n",
       "    <tr style=\"text-align: right;\">\n",
       "      <th></th>\n",
       "      <th>Product</th>\n",
       "      <th>Sales</th>\n",
       "      <th>Year</th>\n",
       "    </tr>\n",
       "  </thead>\n",
       "  <tbody>\n",
       "    <tr>\n",
       "      <th>0</th>\n",
       "      <td>NaN</td>\n",
       "      <td>100</td>\n",
       "      <td>2020</td>\n",
       "    </tr>\n",
       "    <tr>\n",
       "      <th>1</th>\n",
       "      <td>NaN</td>\n",
       "      <td>200</td>\n",
       "      <td>2020</td>\n",
       "    </tr>\n",
       "    <tr>\n",
       "      <th>2</th>\n",
       "      <td>NaN</td>\n",
       "      <td>500</td>\n",
       "      <td>2020</td>\n",
       "    </tr>\n",
       "    <tr>\n",
       "      <th>3</th>\n",
       "      <td>NaN</td>\n",
       "      <td>120</td>\n",
       "      <td>2021</td>\n",
       "    </tr>\n",
       "    <tr>\n",
       "      <th>4</th>\n",
       "      <td>NaN</td>\n",
       "      <td>321</td>\n",
       "      <td>2021</td>\n",
       "    </tr>\n",
       "    <tr>\n",
       "      <th>5</th>\n",
       "      <td>NaN</td>\n",
       "      <td>342</td>\n",
       "      <td>2021</td>\n",
       "    </tr>\n",
       "    <tr>\n",
       "      <th>6</th>\n",
       "      <td>NaN</td>\n",
       "      <td>620</td>\n",
       "      <td>2022</td>\n",
       "    </tr>\n",
       "    <tr>\n",
       "      <th>7</th>\n",
       "      <td>NaN</td>\n",
       "      <td>121</td>\n",
       "      <td>2022</td>\n",
       "    </tr>\n",
       "    <tr>\n",
       "      <th>8</th>\n",
       "      <td>NaN</td>\n",
       "      <td>344</td>\n",
       "      <td>2022</td>\n",
       "    </tr>\n",
       "  </tbody>\n",
       "</table>\n",
       "</div>"
      ],
      "text/plain": [
       "  Product   Sales   Year\n",
       "0     NaN     100   2020\n",
       "1     NaN     200   2020\n",
       "2     NaN     500   2020\n",
       "3     NaN     120   2021\n",
       "4     NaN     321   2021\n",
       "5     NaN     342   2021\n",
       "6     NaN     620   2022\n",
       "7     NaN     121   2022\n",
       "8     NaN     344   2022"
      ]
     },
     "execution_count": 16,
     "metadata": {},
     "output_type": "execute_result"
    }
   ],
   "source": [
    "filename=input(\"Enter File name: \")\n",
    "df9=pd.read_csv(filename)\n",
    "col_name=input('Enter column name: ')\n",
    "a=len(df9[col_name].unique())\n",
    "col_list=[]\n",
    "for i in range(a):\n",
    "    col_order=input('Enter order name: ')\n",
    "    col_list.append(i)\n",
    "df9[col_name] = pd.Categorical(df9[col_name], categories=col_list, ordered=True)\n",
    "df9"
   ]
  },
  {
   "cell_type": "markdown",
   "id": "ac195d2d-bf77-4e8a-8dcc-1ddbe4747826",
   "metadata": {},
   "source": [
    "Q10. Write a Python program that reads a CSV file containing sales data for different products and\n",
    "visualizes the data using a stacked bar chart to show the sales of each product category over time. The\n",
    "program should prompt the user to enter the file path and display the chart."
   ]
  },
  {
   "cell_type": "code",
   "execution_count": 34,
   "id": "58f573f5-288e-484f-9f82-1d5cd8a36a16",
   "metadata": {},
   "outputs": [
    {
     "name": "stdin",
     "output_type": "stream",
     "text": [
      "Enter the file path : Sales.csv\n"
     ]
    },
    {
     "data": {
      "text/plain": [
       "<AxesSubplot: title={'center': 'Product Sales'}, xlabel='Date', ylabel='Product'>"
      ]
     },
     "execution_count": 34,
     "metadata": {},
     "output_type": "execute_result"
    },
    {
     "data": {
      "image/png": "[encoded data removed]",
      "text/plain": [
       "<Figure size 1000x1000 with 1 Axes>"
      ]
     },
     "metadata": {},
     "output_type": "display_data"
    }
   ],
   "source": [
    "file__path = input(\"Enter the file path :\")\n",
    "df10 = pd.read_csv(file__path)\n",
    "df10['Date'] = pd.to_datetime(df10['Date'])\n",
    "sales_group = df10.groupby(['Product','Date']).sum().reset_index()\n",
    "sales_pivot = sales_group.pivot(index='Date',columns='Product', values='Sales')\n",
    "sales_pivot.plot(kind='bar', stacked=True,xlabel='Date',ylabel='Product',title='Product Sales',figsize=(10,10))"
   ]
  },
  {
   "cell_type": "markdown",
   "id": "a3046612-45cc-4286-b00d-e5a044cba793",
   "metadata": {},
   "source": [
    "Q11. You are given a CSV file containing student data that includes the student ID and their test score. Write\n",
    "a Python program that reads the CSV file, calculates the mean, median, and mode of the test scores, and\n",
    "displays the results in a table.<br>\n",
    "The program should do the followingM\n",
    "I Prompt the user to enter the file path of the CSV file containing the student dataR\n",
    "I Read the CSV file into a Pandas DataFrameR\n",
    "I Calculate the mean, median, and mode of the test scores using Pandas toolsR\n",
    "I Display the mean, median, and mode in a table.<br>\n",
    "Assume the CSV file contains the following columnsM\n",
    "I Student ID: The ID of the studentR\n",
    "I Test Score: The score of the student's test.\n",
    "Example usage of the program:\n",
    "Enter the file path of the CSV file containing the student data: student_data.csv <br>\n",
    "+-----------+--------+ <br>\n",
    "| Statistic | Value | <br>\n",
    "+-----------+--------+ <br>\n",
    "| Mean | 79.6 | <br>\n",
    "| Median | 82 | <br>\n",
    "| Mode | 85, 90 | <br>\n",
    "+-----------+--------+ <br>\n",
    "Assume that the CSV file student_data.csv contains the following data:<br>\n",
    "Student ID,Test Score\n",
    "1,85\n",
    "2,90\n",
    "3,80\n",
    "4,75\n",
    "5,85\n",
    "6,82\n",
    "7,78\n",
    "8,85\n",
    "9,90\n",
    "10,85\n",
    "<br>\n",
    "The program should calculate the mean, median, and mode of the test scores and display the results\n",
    "in a table."
   ]
  },
  {
   "cell_type": "code",
   "execution_count": 74,
   "id": "5e425901-9cfc-4058-a391-e66dac8802ee",
   "metadata": {},
   "outputs": [
    {
     "name": "stdin",
     "output_type": "stream",
     "text": [
      "Enter the file path:  student_data.csv\n"
     ]
    },
    {
     "data": {
      "text/html": [
       "<div>\n",
       "<style scoped>\n",
       "    .dataframe tbody tr th:only-of-type {\n",
       "        vertical-align: middle;\n",
       "    }\n",
       "\n",
       "    .dataframe tbody tr th {\n",
       "        vertical-align: top;\n",
       "    }\n",
       "\n",
       "    .dataframe thead th {\n",
       "        text-align: right;\n",
       "    }\n",
       "</style>\n",
       "<table border=\"1\" class=\"dataframe\">\n",
       "  <thead>\n",
       "    <tr style=\"text-align: right;\">\n",
       "      <th></th>\n",
       "      <th>Statistic</th>\n",
       "      <th>Value</th>\n",
       "    </tr>\n",
       "  </thead>\n",
       "  <tbody>\n",
       "    <tr>\n",
       "      <th>0</th>\n",
       "      <td>mean</td>\n",
       "      <td>83.5</td>\n",
       "    </tr>\n",
       "    <tr>\n",
       "      <th>1</th>\n",
       "      <td>mode</td>\n",
       "      <td>85.0</td>\n",
       "    </tr>\n",
       "    <tr>\n",
       "      <th>2</th>\n",
       "      <td>median</td>\n",
       "      <td>85.0</td>\n",
       "    </tr>\n",
       "  </tbody>\n",
       "</table>\n",
       "</div>"
      ],
      "text/plain": [
       "  Statistic  Value\n",
       "0      mean   83.5\n",
       "1      mode   85.0\n",
       "2    median   85.0"
      ]
     },
     "execution_count": 74,
     "metadata": {},
     "output_type": "execute_result"
    }
   ],
   "source": [
    "# Read File\n",
    "file_path=input('Enter the file path: ')\n",
    "df11=pd.read_csv(file_path)\n",
    "\n",
    "# Mean\n",
    "get_mean=df11.mean()\n",
    "mean=get_mean['Test Score']\n",
    "\n",
    "#Median\n",
    "get_mode=df11.mode()\n",
    "mode=get_mode['Test Score'].loc[0]\n",
    "\n",
    "#Mode\n",
    "get_median=df11.median()\n",
    "median=get_median['Test Score']\n",
    "\n",
    "# Getting Stat Data\n",
    "stat_df=pd.DataFrame(data=[['mean',mean],['mode',mode],['median',median]],columns=['Statistic','Value'])\n",
    "stat_df"
   ]
  }
 ],
 "metadata": {
  "kernelspec": {
   "display_name": "Python 3 (ipykernel)",
   "language": "python",
   "name": "python3"
  },
  "language_info": {
   "codemirror_mode": {
    "name": "ipython",
    "version": 3
   },
   "file_extension": ".py",
   "mimetype": "text/x-python",
   "name": "python",
   "nbconvert_exporter": "python",
   "pygments_lexer": "ipython3",
   "version": "3.10.8"
  }
 },
 "nbformat": 4,
 "nbformat_minor": 5
}
