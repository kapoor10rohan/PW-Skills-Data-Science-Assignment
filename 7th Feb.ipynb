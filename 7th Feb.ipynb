{
 "cells": [
  {
   "cell_type": "markdown",
   "id": "49109c74-f4d5-49df-8eb0-d3c2a06a6af2",
   "metadata": {},
   "source": [
    "## 7th Feb Assignment"
   ]
  },
  {
   "cell_type": "markdown",
   "id": "6744d777-ce77-4079-95fd-2f2bcc8d25be",
   "metadata": {},
   "source": [
    "Q1. You are writing code for a company. The requirement of the company is that you create a python\n",
    "function that will check whether the password entered by the user is correct or not. The function should\n",
    "take the password as input and return the string “Valid Password” if the entered password follows the\n",
    "below-given password guidelines else it should return “Invalid Password”.\n",
    "Note: 1. The Password should contain at least two uppercase letters and at least two lowercase letters.\n",
    "2. The Password should contain at least a number and three special characters.\n",
    "3. The length of the password should be 10 characters long."
   ]
  },
  {
   "cell_type": "code",
   "execution_count": 39,
   "id": "f42f9311-50a8-469a-be02-78b6c2391838",
   "metadata": {},
   "outputs": [],
   "source": [
    "def password(pwd):\n",
    "    x='Valid Password'\n",
    "    y='Invalid Password'\n",
    "    upper_count=0\n",
    "    lower_count=0\n",
    "    num_count=0\n",
    "    spl_char=0\n",
    "    if len(pwd)>=10:\n",
    "        for i in pwd:\n",
    "            if i.isupper()== True:\n",
    "                upper_count+=1\n",
    "            if i.islower()== True:\n",
    "                lower_count+=1\n",
    "            if i in ['1','2','3','4','5','6','7','8','9',]:\n",
    "                num_count+=1\n",
    "            if i in ['!','@','#','$','%','^','&','*','(',')','<','>','?','/','|','}','{','~',':',']',',','.',\"\\\\\"]:    \n",
    "                spl_char+=1\n",
    "    if upper_count>=2 and lower_count>=2 and num_count>=1 and spl_char>=3:\n",
    "        return x\n",
    "    else:\n",
    "        return y"
   ]
  },
  {
   "cell_type": "code",
   "execution_count": 41,
   "id": "206aefde-a42c-41cd-80f4-61a2c1bf1e54",
   "metadata": {},
   "outputs": [
    {
     "data": {
      "text/plain": [
       "'Valid Password'"
      ]
     },
     "execution_count": 41,
     "metadata": {},
     "output_type": "execute_result"
    }
   ],
   "source": [
    "password('AAArohanrohank$%12@3')"
   ]
  },
  {
   "cell_type": "code",
   "execution_count": 42,
   "id": "64fad5a8-8455-41ca-aa05-c6627cb58fe5",
   "metadata": {},
   "outputs": [
    {
     "data": {
      "text/plain": [
       "'Invalid Password'"
      ]
     },
     "execution_count": 42,
     "metadata": {},
     "output_type": "execute_result"
    }
   ],
   "source": [
    "password('QweQ\\\\sa')"
   ]
  },
  {
   "cell_type": "markdown",
   "id": "045631d4-1e10-4369-a6e6-458140ae212b",
   "metadata": {},
   "source": [
    "<br>\n",
    "Q2. Solve the below-given questions using at least one of the following:\n",
    "<br>1. Lambda function\n",
    "<br>2. Filter function\n",
    "<br>3. Map function\n",
    "<br>4. List Comprehension\n",
    "<br>\n",
    "\n"
   ]
  },
  {
   "cell_type": "markdown",
   "id": "89ec97a1-f964-4f0f-a7d6-6e3f21a99305",
   "metadata": {},
   "source": [
    "Check if the string starts with a particular letter"
   ]
  },
  {
   "cell_type": "code",
   "execution_count": 56,
   "id": "e0c4e00d-561d-44ff-b831-53a0c5c4af6b",
   "metadata": {},
   "outputs": [
    {
     "name": "stdout",
     "output_type": "stream",
     "text": [
      "abc starts with letter a\n"
     ]
    }
   ],
   "source": [
    "x='abc'\n",
    "(lambda x: print(x+' starts with letter a') if x[0]=='a' or x[0]=='A' else print(x+'doesnt start with letter a'))(x)"
   ]
  },
  {
   "cell_type": "code",
   "execution_count": 58,
   "id": "206a2efc-3503-450b-9f09-6724763ae90d",
   "metadata": {},
   "outputs": [
    {
     "name": "stdout",
     "output_type": "stream",
     "text": [
      "qabc doesnt start with letter a\n"
     ]
    }
   ],
   "source": [
    "x='qabc'\n",
    "(lambda x: print(x+' starts with letter a') if x[0]=='a' or x[0]=='A' else print(x+' doesnt start with letter a'))(x)"
   ]
  },
  {
   "cell_type": "markdown",
   "id": "0dfb709b-0870-4038-b64f-d9dc7ee80de1",
   "metadata": {},
   "source": [
    "Check if the string is numeric"
   ]
  },
  {
   "cell_type": "code",
   "execution_count": 70,
   "id": "57d2c7a8-60e1-44f8-a4de-65bd20e0fb06",
   "metadata": {},
   "outputs": [
    {
     "name": "stdout",
     "output_type": "stream",
     "text": [
      "String not numeric\n"
     ]
    }
   ],
   "source": [
    "y='q1234'\n",
    "(lambda y: print('String is numeric') if y.isnumeric()==True else print(\"String not numeric\"))(y)"
   ]
  },
  {
   "cell_type": "code",
   "execution_count": 71,
   "id": "24a31e96-8417-4c55-b2c4-4a2d54c6ceb1",
   "metadata": {},
   "outputs": [
    {
     "name": "stdout",
     "output_type": "stream",
     "text": [
      "String is numeric\n"
     ]
    }
   ],
   "source": [
    "y='1234'\n",
    "(lambda y: print('String is numeric') if y.isnumeric()==True else print(\"String not numeric\"))(y)"
   ]
  },
  {
   "cell_type": "markdown",
   "id": "02f9622f-19a2-4af4-8d42-292aed28b549",
   "metadata": {},
   "source": [
    "Sort a list of tuples having fruit names and their quantity\n",
    "<br>\n",
    "[(\"mango\",99),(\"orange\",80), (\"grapes\", 1000)]"
   ]
  },
  {
   "cell_type": "code",
   "execution_count": 72,
   "id": "bc325b01-469f-4483-95d6-31ba55c106ef",
   "metadata": {},
   "outputs": [],
   "source": [
    "lst=[(\"mango\",99),(\"orange\",80), (\"grapes\", 1000)]"
   ]
  },
  {
   "cell_type": "code",
   "execution_count": 78,
   "id": "38d8fdce-72d9-4caa-92e5-78388abc7158",
   "metadata": {},
   "outputs": [],
   "source": [
    "lst.sort(key=lambda x: x[1],reverse=True)"
   ]
  },
  {
   "cell_type": "code",
   "execution_count": 79,
   "id": "f8cf7d16-fc88-4c6b-a557-6033c04fdbbb",
   "metadata": {},
   "outputs": [
    {
     "data": {
      "text/plain": [
       "[('grapes', 1000), ('mango', 99), ('orange', 80)]"
      ]
     },
     "execution_count": 79,
     "metadata": {},
     "output_type": "execute_result"
    }
   ],
   "source": [
    "lst"
   ]
  },
  {
   "cell_type": "markdown",
   "id": "601796a9-77cf-4c22-bd61-48a5f0d3a75c",
   "metadata": {},
   "source": [
    "<br>\n",
    "Find the squares of numbers from 1 to 10"
   ]
  },
  {
   "cell_type": "code",
   "execution_count": 7,
   "id": "3207e6e5-9601-4985-81d4-45f259427760",
   "metadata": {},
   "outputs": [
    {
     "data": {
      "text/plain": [
       "[1, 4, 9, 16, 25, 36, 49, 64, 81, 100]"
      ]
     },
     "execution_count": 7,
     "metadata": {},
     "output_type": "execute_result"
    }
   ],
   "source": [
    "[x**2 for x in range(1,11)]  # using list comprehension"
   ]
  },
  {
   "cell_type": "code",
   "execution_count": 8,
   "id": "0e48ce5a-20f3-4f09-9cab-059f763e23d9",
   "metadata": {},
   "outputs": [
    {
     "data": {
      "text/plain": [
       "[1, 4, 9, 16, 25, 36, 49, 64, 81, 100]"
      ]
     },
     "execution_count": 8,
     "metadata": {},
     "output_type": "execute_result"
    }
   ],
   "source": [
    "list(map(lambda x:x**2,range(1,11))) # using map and lambda"
   ]
  },
  {
   "cell_type": "markdown",
   "id": "13aaba25-8b57-45a9-80b7-86751ba255a5",
   "metadata": {},
   "source": [
    "<br>\n",
    "Find the cube root of numbers from 1 to 10"
   ]
  },
  {
   "cell_type": "code",
   "execution_count": 13,
   "id": "7a3a6494-5ccf-467f-a5aa-8fa97317a093",
   "metadata": {},
   "outputs": [
    {
     "data": {
      "text/plain": [
       "[1.0,\n",
       " 1.2570133745218284,\n",
       " 1.4369776521848516,\n",
       " 1.5800826237267545,\n",
       " 1.7008268430839244,\n",
       " 1.8063001276853345,\n",
       " 1.900563363234187,\n",
       " 1.9861849908740719,\n",
       " 2.0649047728786885,\n",
       " 2.137962089502232]"
      ]
     },
     "execution_count": 13,
     "metadata": {},
     "output_type": "execute_result"
    }
   ],
   "source": [
    "[a**0.33 for a in range(1,11)] # using list comprehension"
   ]
  },
  {
   "cell_type": "code",
   "execution_count": 14,
   "id": "ff3627f5-3512-4843-ae71-f89efc5a6317",
   "metadata": {},
   "outputs": [
    {
     "data": {
      "text/plain": [
       "[1.0,\n",
       " 1.2570133745218284,\n",
       " 1.4369776521848516,\n",
       " 1.5800826237267545,\n",
       " 1.7008268430839244,\n",
       " 1.8063001276853345,\n",
       " 1.900563363234187,\n",
       " 1.9861849908740719,\n",
       " 2.0649047728786885,\n",
       " 2.137962089502232]"
      ]
     },
     "execution_count": 14,
     "metadata": {},
     "output_type": "execute_result"
    }
   ],
   "source": [
    "list(map(lambda a:a**0.33,range(1,11))) # using map and lambda"
   ]
  },
  {
   "cell_type": "markdown",
   "id": "07b918ae-4b89-478a-811d-fb6cd896e8ea",
   "metadata": {},
   "source": [
    "<br>\n",
    "Check if a given number is even"
   ]
  },
  {
   "cell_type": "code",
   "execution_count": 23,
   "id": "686f0a06-d8f5-4bc9-8928-636b2e9658fb",
   "metadata": {},
   "outputs": [],
   "source": [
    "num_list=[2,5,3,5,45,3]"
   ]
  },
  {
   "cell_type": "code",
   "execution_count": 34,
   "id": "ea08f21c-0ee1-4be0-ae63-893d1a98a036",
   "metadata": {},
   "outputs": [
    {
     "data": {
      "text/plain": [
       "[2]"
      ]
     },
     "execution_count": 34,
     "metadata": {},
     "output_type": "execute_result"
    }
   ],
   "source": [
    "list(filter(lambda i: i%2==0,num_list))  # using filter"
   ]
  },
  {
   "cell_type": "code",
   "execution_count": 33,
   "id": "6d2a7ab2-c794-44de-a53f-45bdb0b6c600",
   "metadata": {},
   "outputs": [
    {
     "data": {
      "text/plain": [
       "[2]"
      ]
     },
     "execution_count": 33,
     "metadata": {},
     "output_type": "execute_result"
    }
   ],
   "source": [
    "[i for i in num_list if i%2==0]  #using list comprehension"
   ]
  },
  {
   "cell_type": "code",
   "execution_count": 38,
   "id": "d5afd106-6720-44fc-a988-6322263a2093",
   "metadata": {},
   "outputs": [],
   "source": [
    "even=lambda x: x%2==0"
   ]
  },
  {
   "cell_type": "code",
   "execution_count": 39,
   "id": "f8ecc414-a807-4912-83ad-ef8c2188bf43",
   "metadata": {},
   "outputs": [
    {
     "data": {
      "text/plain": [
       "False"
      ]
     },
     "execution_count": 39,
     "metadata": {},
     "output_type": "execute_result"
    }
   ],
   "source": [
    "even(23)"
   ]
  },
  {
   "cell_type": "code",
   "execution_count": 40,
   "id": "f484155e-b520-4b76-b3af-e9e549e22a7d",
   "metadata": {},
   "outputs": [
    {
     "data": {
      "text/plain": [
       "True"
      ]
     },
     "execution_count": 40,
     "metadata": {},
     "output_type": "execute_result"
    }
   ],
   "source": [
    "even(12)"
   ]
  },
  {
   "cell_type": "markdown",
   "id": "ded05598-80a7-44db-bad3-b6821ebd0ad2",
   "metadata": {},
   "source": [
    "<br>\n",
    "Filter odd numbers from the given list.\n",
    "[1,2,3,4,5,6,7,8,9,10]"
   ]
  },
  {
   "cell_type": "code",
   "execution_count": 41,
   "id": "1738d33d-32ac-4351-a913-619bef09c368",
   "metadata": {},
   "outputs": [],
   "source": [
    "lst=[1,2,3,4,5,6,7,8,9,10]"
   ]
  },
  {
   "cell_type": "code",
   "execution_count": 51,
   "id": "8842e4f0-54a8-4c1e-8d60-4c8bff116893",
   "metadata": {},
   "outputs": [
    {
     "data": {
      "text/plain": [
       "[1, 3, 5, 7, 9]"
      ]
     },
     "execution_count": 51,
     "metadata": {},
     "output_type": "execute_result"
    }
   ],
   "source": [
    "list(filter(lambda a: a%2!=0,lst)) # using filter"
   ]
  },
  {
   "cell_type": "code",
   "execution_count": 50,
   "id": "808d3f99-9eb6-4bfd-9100-1c9783949df1",
   "metadata": {},
   "outputs": [
    {
     "data": {
      "text/plain": [
       "[1, 3, 5, 7, 9]"
      ]
     },
     "execution_count": 50,
     "metadata": {},
     "output_type": "execute_result"
    }
   ],
   "source": [
    "[y for y in lst if y%2!=0] # using list comprehension "
   ]
  },
  {
   "cell_type": "markdown",
   "id": "bae85ae0-c2cb-4fb2-b08c-23564a326fa7",
   "metadata": {},
   "source": [
    "<br>\n",
    "Sort a list of integers into positive and negative integers lists.\n",
    "[1,2,3,4,5,6,-1,-2,-3,-4,-5,0]"
   ]
  },
  {
   "cell_type": "code",
   "execution_count": 63,
   "id": "d92a8bdb-12ad-4bf5-a190-9f8137b3f799",
   "metadata": {},
   "outputs": [],
   "source": [
    "num_lst=[1,2,3,4,5,6,-1,-2,-3,-4,-5,0]"
   ]
  },
  {
   "cell_type": "code",
   "execution_count": 71,
   "id": "7deffc9a-e451-4105-8e46-a63d6aeee6af",
   "metadata": {},
   "outputs": [
    {
     "data": {
      "text/plain": [
       "[1, 2, 3, 4, 5, 6, 0]"
      ]
     },
     "execution_count": 71,
     "metadata": {},
     "output_type": "execute_result"
    }
   ],
   "source": [
    "list(filter(lambda a: a>=0,num_lst)) # using filter"
   ]
  },
  {
   "cell_type": "code",
   "execution_count": 72,
   "id": "bc18f93e-00ee-4e0d-94c7-89d2540eca83",
   "metadata": {},
   "outputs": [
    {
     "data": {
      "text/plain": [
       "[-1, -2, -3, -4, -5]"
      ]
     },
     "execution_count": 72,
     "metadata": {},
     "output_type": "execute_result"
    }
   ],
   "source": [
    "list(filter(lambda a: a<0,num_lst))"
   ]
  }
 ],
 "metadata": {
  "kernelspec": {
   "display_name": "Python 3 (ipykernel)",
   "language": "python",
   "name": "python3"
  },
  "language_info": {
   "codemirror_mode": {
    "name": "ipython",
    "version": 3
   },
   "file_extension": ".py",
   "mimetype": "text/x-python",
   "name": "python",
   "nbconvert_exporter": "python",
   "pygments_lexer": "ipython3",
   "version": "3.10.8"
  }
 },
 "nbformat": 4,
 "nbformat_minor": 5
}
