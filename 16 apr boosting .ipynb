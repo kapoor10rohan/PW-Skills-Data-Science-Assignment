{
 "cells": [
  {
   "cell_type": "markdown",
   "id": "8d7cdb70-a455-48c1-aaf7-420c3b5cbde1",
   "metadata": {},
   "source": [
    "Q1. What is boosting in machine learning?\n"
   ]
  },
  {
   "cell_type": "markdown",
   "id": "01160f40-4dea-4fc7-af6a-7d80c0754651",
   "metadata": {},
   "source": [
    "Boosting is an ensemble modeling technique that attempts to build a strong classifier from the number of weak classifiers. It is done by building a model by using weak models in series. Firstly, a model is built from the training data. Then the second model is built which tries to correct the errors present in the first model. This procedure is continued and models are added until either the complete training data set is predicted correctly or the maximum number of models is added."
   ]
  },
  {
   "cell_type": "markdown",
   "id": "d8bf1ce3-0d49-4f9f-8198-7a0a213a2d05",
   "metadata": {},
   "source": [
    "Q2. What are the advantages and limitations of using boosting techniques?\n"
   ]
  },
  {
   "cell_type": "markdown",
   "id": "2a7b3a44-557f-4214-a13a-f5f5b0f1c137",
   "metadata": {},
   "source": [
    "As an ensemble model, boosting comes with an easy-to-read and interpret algorithm, making its prediction interpretations easy to handle. The prediction capability is efficient through the use of its clone methods, such as bagging or random forest and decision trees. Boosting is a resilient method that curbs over-fitting easily.\n",
    "\n",
    "One disadvantage of boosting is that it is sensitive to outliers since every classifier is obliged to fix the errors in the predecessors. Thus, the method is too dependent on outliers. Another disadvantage is that the method is almost impossible to scale up. This is because every estimator bases its correctness on the previous predictors, thus making the procedure difficult to streamline."
   ]
  },
  {
   "cell_type": "markdown",
   "id": "a5d29519-eba7-4ea3-967a-3cfc27df32b8",
   "metadata": {},
   "source": [
    "Q3. Explain how boosting works.\n"
   ]
  },
  {
   "cell_type": "markdown",
   "id": "351c7605-4706-4b32-8f99-086a48fce131",
   "metadata": {},
   "source": [
    "Firstly, a model is built from the training data. Then the second model is built which tries to correct the errors present in the first model. This procedure is continued and models are added until either the complete training data set is predicted correctly or the maximum number of models is added."
   ]
  },
  {
   "cell_type": "markdown",
   "id": "1c25a152-3843-40bc-a514-3b35c55c877f",
   "metadata": {},
   "source": [
    "Q4. What are the different types of boosting algorithms?\n"
   ]
  },
  {
   "cell_type": "markdown",
   "id": "7d02bf4f-0943-48f9-8216-77afc872ba07",
   "metadata": {},
   "source": [
    "AdaBoost\n",
    "\n",
    "AdaBoost works by fitting one weak learner after the other. In subsequent fits, it gives more weight to incorrect predictions and less weight to correct predictions. In this way, the models learn to make predictions for the difficult classes. The final predictions are obtained by weighing the majority class or sum. The learning rate controls the contribution of each weak learner to the final prediction.  AdaBoost can be used for both classification and regression problems. \n",
    "\n",
    "Scikit-learn provides an AdaBoost implementation that you can start using immediately. By default, the algorithm uses decision trees as the base estimator. In this case, a `DecisionTreeClassifier` will be fitted on the entire dataset first. In subsequent iterations, the fit will be done with incorrectly predicted instances given more weight. \n",
    "\n",
    "To improve the performance of the model, the number of estimators, the parameters of the base estimator, and the learning rate should be tuned. For example, you can tune the maximum depth of the decision tree classifier. \n",
    "\n",
    "Once training is complete, the impurity-based feature importances are obtained via the `feature_importances_` attribute. \n",
    "\n",
    "Gradient tree boosting\n",
    "\n",
    "Gradient tree boosting is an additive ensemble learning approach that uses decision trees as weak learners. Additive means that the trees are added one after the other. Previous trees remain unchanged. When adding subsequent trees, gradient descent is used to minimize the loss. \n",
    "\n",
    "The algorithm can be used for regression and classification problems. \n",
    "\n",
    "eXtreme Gradient Boosting - XGBoost\n",
    "\n",
    "XGBoost is a popular gradient boosting algorithm. It uses weak regression trees as weak learners. The algorithm also does cross-validation and computes the feature importance.  Furthermore, it accepts sparse input data. \n",
    "\n",
    "XGBoost offers the DMatrix data structure that improves its performance and efficiency. XGBoost can be used in R, Java, C++, and Julia. \n",
    "\n",
    "LightGBM\n",
    "\n",
    "LightGBM is a tree-based gradient boosting algorithm that uses leaf-wise tree growth and not depth-wise growth. \n",
    " \n",
    "The algorithm can be used for classification and regression problems. LightGBM supports categorical features via the `categorical_feature` argument. One-hot encoding is not needed after specifying the categorical columns. \n",
    "\n",
    "The LightGBM algorithm also has the capacity to deal with null values. This feature can be disabled by setting `use_missing=false`. It uses NA to represent null values. To use zeros set `zero_as_missing=true.`\n",
    "\n",
    "The objective parameter is used to dictate the type of problem. For example, `binary` for binary classification, `regression` for regression and `multiclass` for multiclass problems. \n",
    "\n",
    "CatBoost\n",
    "\n",
    "CatBoost is a depth-wise gradient boosting library developed by Yandex. In CatBoost, a balanced tree is grown using oblivious trees. In these types of trees the same feature is used when making right and left splits at each level of the tree. \n",
    "\n"
   ]
  },
  {
   "cell_type": "markdown",
   "id": "b1d569c8-1509-4807-8871-cc3b50ba1791",
   "metadata": {},
   "source": [
    "Q5. What are some common parameters in boosting algorithms?\n",
    "\n"
   ]
  },
  {
   "cell_type": "markdown",
   "id": "834c3c75-9814-465a-9adc-29f450fdd095",
   "metadata": {},
   "source": [
    "There are several common parameters in boosting algorithms. Some of the most important ones are:\n",
    "\n",
    "1. Learning rate (or shrinkage rate): This is a hyperparameter that controls the contribution of each base learner to the final prediction. A small learning rate means that each base learner has a smaller impact on the final prediction, which can help prevent overfitting.\n",
    "\n",
    "2. Number of estimators: This is the number of base learners that are trained in the boosting algorithm. Increasing the number of estimators can lead to better performance, but also increases the risk of overfitting.\n",
    "\n",
    "3. Max depth: This parameter controls the maximum depth of the decision trees used as base learners in the boosting algorithm. Deeper trees can model more complex relationships in the data, but also increase the risk of overfitting.\n",
    "\n",
    "4. Subsample size: This parameter controls the fraction of the training data that is used to train each base learner. Using a smaller subsample size can help reduce overfitting.\n",
    "\n",
    "5. Loss function: This is the objective function that the boosting algorithm tries to optimize. Different loss functions are appropriate for different types of problems (e.g., regression, classification).\n",
    "\n",
    "6. Base learner: The type of base learner used in the boosting algorithm can also be a parameter. Common types of base learners include decision trees, linear models, and neural networks. The choice of base learner depends on the problem and the data.\n",
    "\n",
    "7. Early stopping: Boosting algorithms can sometimes overfit the training data. Early stopping is a technique that stops the boosting algorithm early if the performance on a validation set stops improving. This can help prevent overfitting and improve generalization performance."
   ]
  },
  {
   "cell_type": "markdown",
   "id": "01c0dfae-0483-4078-8531-10fa8dd56064",
   "metadata": {},
   "source": [
    "Q6. How do boosting algorithms combine weak learners to create a strong learner?\n"
   ]
  },
  {
   "cell_type": "markdown",
   "id": "14dbc543-2728-4212-bb0c-19ea62d5c4fa",
   "metadata": {},
   "source": [
    "Firstly, a model is built from the training data. Then the second model is built which tries to correct the errors present in the first model. This procedure is continued and models are added until either the complete training data set is predicted correctly or the maximum number of models is added."
   ]
  },
  {
   "cell_type": "markdown",
   "id": "32c9f036-4e85-4bbb-b6cb-a37e2116b91e",
   "metadata": {},
   "source": [
    "Q7. Explain the concept of AdaBoost algorithm and its working.\n"
   ]
  },
  {
   "cell_type": "markdown",
   "id": "5b914232-8c2d-4288-b318-915d031b8fa4",
   "metadata": {},
   "source": [
    "AdaBoost works by fitting one weak learner after the other. In subsequent fits, it gives more weight to incorrect predictions and less weight to correct predictions. In this way, the models learn to make predictions for the difficult classes. The final predictions are obtained by weighing the majority class or sum. The learning rate controls the contribution of each weak learner to the final prediction.  AdaBoost can be used for both classification and regression problems. \n",
    "\n",
    "Scikit-learn provides an AdaBoost implementation that you can start using immediately. By default, the algorithm uses decision trees as the base estimator. In this case, a `DecisionTreeClassifier` will be fitted on the entire dataset first. In subsequent iterations, the fit will be done with incorrectly predicted instances given more weight. "
   ]
  },
  {
   "cell_type": "markdown",
   "id": "db452b77-a8fb-4002-b201-6a52930e9ce4",
   "metadata": {},
   "source": [
    "Q8. What is the loss function used in AdaBoost algorithm?\n"
   ]
  },
  {
   "cell_type": "markdown",
   "id": "443d8aeb-eba8-499f-869e-aa5d827acbe4",
   "metadata": {},
   "source": [
    "The loss function used in AdaBoost algorithm is exponential loss. Exponential loss assigns higher weight to misclassified samples, and lower weight to correctly classified samples. This means that the algorithm focuses more on correctly classifying samples that were previously misclassified, thus gradually improving its performance."
   ]
  },
  {
   "cell_type": "markdown",
   "id": "482621b3-a750-4c12-a4c7-19a8ee21f110",
   "metadata": {},
   "source": [
    "Q9. How does the AdaBoost algorithm update the weights of misclassified samples?\n"
   ]
  },
  {
   "cell_type": "markdown",
   "id": "3eea5ddf-90fa-4c7a-91f8-19abf44a6326",
   "metadata": {},
   "source": [
    "A weak classifier (decision stump) is prepared on the training data using the weighted samples. Only binary (two-class) classification problems are supported, so each decision stump makes one decision on one input variable and outputs a +1.0 or -1.0 value for the first or second class value.\n",
    "\n",
    "The misclassification rate is calculated for the trained model. Traditionally, this is calculated as:\n",
    "\n",
    "error = (correct – N) / N\n",
    "\n",
    "Where error is the misclassification rate, correct are the number of training instance predicted correctly by the model and N is the total number of training instances. For example, if the model predicted 78 of 100 training instances correctly the error or misclassification rate would be (78-100)/100 or 0.22.\n",
    "\n",
    "This is modified to use the weighting of the training instances:\n",
    "\n",
    "error = sum(w(i) * terror(i)) / sum(w)\n",
    "\n",
    "Which is the weighted sum of the misclassification rate, where w is the weight for training instance i and terror is the prediction error for training instance i which is 1 if misclassified and 0 if correctly classified.\n",
    "\n",
    "For example, if we had 3 training instances with the weights 0.01, 0.5 and 0.2. The predicted values were -1, -1 and -1, and the actual output variables in the instances were -1, 1 and -1, then the terrors would be 0, 1, and 0. The misclassification rate would be calculated as:\n",
    "\n",
    "error = (0.01*0 + 0.5*1 + 0.2*0) / (0.01 + 0.5 + 0.2)\n",
    "\n",
    "or\n",
    "\n",
    "error = 0.704\n",
    "\n",
    "A stage value is calculated for the trained model which provides a weighting for any predictions that the model makes. The stage value for a trained model is calculated as follows:\n",
    "\n",
    "stage = ln((1-error) / error)\n",
    "\n",
    "Where stage is the stage value used to weight predictions from the model, ln() is the natural logarithm and error is the misclassification error for the model. The effect of the stage weight is that more accurate models have more weight or contribution to the final prediction.\n",
    "\n",
    "The training weights are updated giving more weight to incorrectly predicted instances, and less weight to correctly predicted instances.\n",
    "\n",
    "For example, the weight of one training instance (w) is updated using:\n",
    "\n",
    "w = w * exp(stage * terror)\n",
    "\n",
    "Where w is the weight for a specific training instance, exp() is the numerical constant e or Euler’s number raised to a power, stage is the misclassification rate for the weak classifier and terror is the error the weak classifier made predicting the output variable for the training instance, evaluated as:\n",
    "\n",
    "terror = 0 if(y == p), otherwise 1\n",
    "\n",
    "Where y is the output variable for the training instance and p is the prediction from the weak learner.\n",
    "\n",
    "This has the effect of not changing the weight if the training instance was classified correctly and making the weight slightly larger if the weak learner misclassified the instance."
   ]
  },
  {
   "cell_type": "markdown",
   "id": "a8d6c922-1573-42c5-9f67-d24b22c7b1b8",
   "metadata": {},
   "source": [
    "Q10. What is the effect of increasing the number of estimators in AdaBoost algorithm?"
   ]
  },
  {
   "cell_type": "markdown",
   "id": "6fb67b19-81de-4be7-8f3f-7964cbb06fe3",
   "metadata": {},
   "source": [
    "Increasing the number of estimators in AdaBoost algorithm can improve the model's performance by reducing bias and variance. As the number of estimators increases, the algorithm becomes more complex and can fit the training data better, which can reduce the bias. Additionally, since AdaBoost combines multiple weak learners to create a strong learner, increasing the number of estimators can help to reduce variance and improve the model's ability to generalize to new data. However, increasing the number of estimators can also increase the risk of overfitting the training data, which can reduce the model's ability to generalize to new data. Therefore, the optimal number of estimators should be selected based on a tradeoff between bias and variance, using techniques such as cross-validation."
   ]
  },
  {
   "cell_type": "code",
   "execution_count": null,
   "id": "6276bd91-9135-4a01-8a9a-218862923a9e",
   "metadata": {},
   "outputs": [],
   "source": []
  }
 ],
 "metadata": {
  "kernelspec": {
   "display_name": "Python 3 (ipykernel)",
   "language": "python",
   "name": "python3"
  },
  "language_info": {
   "codemirror_mode": {
    "name": "ipython",
    "version": 3
   },
   "file_extension": ".py",
   "mimetype": "text/x-python",
   "name": "python",
   "nbconvert_exporter": "python",
   "pygments_lexer": "ipython3",
   "version": "3.10.8"
  }
 },
 "nbformat": 4,
 "nbformat_minor": 5
}
