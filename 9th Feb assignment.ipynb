{
 "cells": [
  {
   "cell_type": "markdown",
   "id": "fa58934c-ccce-4bd4-9044-b79fbae5f459",
   "metadata": {},
   "source": [
    "### 9th Feb Assignment"
   ]
  },
  {
   "cell_type": "markdown",
   "id": "c918408e-8ee9-4de6-9888-097e0c5ff53d",
   "metadata": {},
   "source": [
    "Q1, Create a vehicle class with an init method having instance variables as name_of_vehicle, max_speed\n",
    "and average_of_vehicle. <br>\n",
    "Q2. Create a child class car from the vehicle class created in Que 1, which will inherit the vehicle class.\n",
    "Create a method named seating_capacity which takes capacity as an argument and returns the name of\n",
    "the vehicle and its seating capacity. <br>\n",
    "Q3. What is multiple inheritance? Write a python code to demonstrate multiple inheritance. <br>\n",
    "Q4. What are getter and setter in python? Create a class and create a getter and a setter method in this\n",
    "class. <br>\n",
    "Q5.What is method overriding in python? Write a python code to demonstrate method overriding."
   ]
  },
  {
   "cell_type": "markdown",
   "id": "6f482a35-7744-47ce-839a-d17be2bc1999",
   "metadata": {},
   "source": [
    "Q1 Create a vehicle class with an init method having instance variables as name_of_vehicle, max_speed\n",
    "and average_of_vehicle."
   ]
  },
  {
   "cell_type": "code",
   "execution_count": 62,
   "id": "3d53d4d8-99d7-4827-8fe9-6dbccc6bad21",
   "metadata": {},
   "outputs": [],
   "source": [
    "class vehicle():\n",
    "    def __init__(self,name_of_vehicle, max_speed,average_of_vehicle):\n",
    "        self.name_of_vehicle=name_of_vehicle\n",
    "        self.max_speed=max_speed\n",
    "        self.average_of_vehicle=average_of_vehicle\n",
    "    \n",
    "    def get_info(self):\n",
    "        return name_of_vehicle, max_speed,average_of_vehicle"
   ]
  },
  {
   "cell_type": "markdown",
   "id": "66607c52-3fda-46e3-ac23-9c8a160b9bb2",
   "metadata": {},
   "source": [
    "Q2. Create a child class car from the vehicle class created in Que 1, which will inherit the vehicle class.\n",
    "Create a method named seating_capacity which takes capacity as an argument and returns the name of\n",
    "the vehicle and its seating capacity."
   ]
  },
  {
   "cell_type": "code",
   "execution_count": 63,
   "id": "2815cf6d-3016-401b-9986-655b41a8a505",
   "metadata": {},
   "outputs": [],
   "source": [
    "class car(vehicle):\n",
    "    def seating_capacity(self,capacity):\n",
    "        self.capacity=capacity\n",
    "        print(f'The name of vehicle is {self.name_of_vehicle} and Capacity is {capacity} people'.format(self.name_of_vehicle,capacity))"
   ]
  },
  {
   "cell_type": "code",
   "execution_count": 64,
   "id": "acd8ea5a-905e-49c4-9b91-46733ab6f10d",
   "metadata": {},
   "outputs": [],
   "source": [
    "car=car('Audi',200,10)"
   ]
  },
  {
   "cell_type": "code",
   "execution_count": 65,
   "id": "70bea55b-3d2b-48ca-a826-7e8982bc9b7a",
   "metadata": {},
   "outputs": [
    {
     "name": "stdout",
     "output_type": "stream",
     "text": [
      "The name of vehicle is Audi and Capacity is 5 people\n"
     ]
    }
   ],
   "source": [
    "car.seating_capacity(5)"
   ]
  },
  {
   "cell_type": "markdown",
   "id": "4dd6ea73-d3a2-46b5-8028-08427074a001",
   "metadata": {},
   "source": [
    "Q3. What is multiple inheritance? Write a python code to demonstrate multiple inheritance."
   ]
  },
  {
   "cell_type": "markdown",
   "id": "2a921531-ceb3-4086-8fcf-1410b574ba7a",
   "metadata": {},
   "source": [
    "When a class is derived from more than one base class it is called multiple Inheritance. The derived class inherits all the features of the base case."
   ]
  },
  {
   "cell_type": "code",
   "execution_count": 3,
   "id": "cc8ebd5f-049b-4e98-a8de-1c03b5912e53",
   "metadata": {},
   "outputs": [],
   "source": [
    "class info_name:\n",
    "    def get_name(self,name):\n",
    "        self.name=name      \n",
    "        return name"
   ]
  },
  {
   "cell_type": "code",
   "execution_count": 4,
   "id": "c56421c0-c64e-439f-a813-c3cfe52ded0d",
   "metadata": {},
   "outputs": [],
   "source": [
    "class info_age:\n",
    "    def get_age(self,age):\n",
    "        self.age=age      \n",
    "        return age\n",
    "    "
   ]
  },
  {
   "cell_type": "code",
   "execution_count": 5,
   "id": "7557e05e-1e1f-43bb-ac43-91a0bf6f3dd0",
   "metadata": {},
   "outputs": [],
   "source": [
    "class allinfo(info_name,info_age):\n",
    "    def info(self,ids):\n",
    "        self.id=ids\n",
    "        print(ids,self.name,self.age)"
   ]
  },
  {
   "cell_type": "code",
   "execution_count": 6,
   "id": "62e75616-b69f-403e-a135-2a3a27a3c7c9",
   "metadata": {},
   "outputs": [],
   "source": [
    "allinfo=allinfo()"
   ]
  },
  {
   "cell_type": "code",
   "execution_count": 7,
   "id": "0bb20184-b47b-426c-aeaa-75dc7a4a5441",
   "metadata": {},
   "outputs": [
    {
     "data": {
      "text/plain": [
       "'Rohan'"
      ]
     },
     "execution_count": 7,
     "metadata": {},
     "output_type": "execute_result"
    }
   ],
   "source": [
    "allinfo.get_age(25)\n",
    "allinfo.get_name('Rohan')"
   ]
  },
  {
   "cell_type": "code",
   "execution_count": 8,
   "id": "7f54b64f-fdad-4ac2-beda-cc2dbd5abc8e",
   "metadata": {},
   "outputs": [
    {
     "name": "stdout",
     "output_type": "stream",
     "text": [
      "1 Rohan 25\n"
     ]
    }
   ],
   "source": [
    "allinfo.info(1)"
   ]
  },
  {
   "cell_type": "markdown",
   "id": "27ed501e-dea4-4dec-b115-1cf91443459c",
   "metadata": {},
   "source": [
    "Q4. What are getter and setter in python? Create a class and create a getter and a setter method in this\n",
    "class."
   ]
  },
  {
   "cell_type": "markdown",
   "id": "0e0f214a-917f-4459-8e3a-9e1e0c531f0a",
   "metadata": {},
   "source": [
    "We use getters & setters to add validation logic around getting and setting a value.\n",
    "To avoid direct access of a class field i.e. private variables cannot be accessed directly or modified by external user."
   ]
  },
  {
   "cell_type": "code",
   "execution_count": 17,
   "id": "94b71ed4-e69f-4f40-92ae-2e56c2da950d",
   "metadata": {},
   "outputs": [],
   "source": [
    "class emp:\n",
    "    def __init__(self, ids, age):\n",
    "        self._ids = ids\n",
    "        self._age = age\n",
    "\n",
    "    def get_ids(self):\n",
    "        return self._ids\n",
    "\n",
    "    def set_ids(self, ids):\n",
    "        self._ids = ids\n",
    "\n",
    "    def get_age(self):\n",
    "        return self._age\n",
    "\n",
    "    def set_age(self, age):\n",
    "        self._age= age"
   ]
  },
  {
   "cell_type": "code",
   "execution_count": 18,
   "id": "c6efab74-9e4a-4285-8446-3b6f470a2318",
   "metadata": {},
   "outputs": [],
   "source": [
    "emp=emp(1,20)"
   ]
  },
  {
   "cell_type": "code",
   "execution_count": 19,
   "id": "490d97ec-c2c3-4a4a-9e09-940c276d1a96",
   "metadata": {},
   "outputs": [],
   "source": [
    "emp.set_age(21)"
   ]
  },
  {
   "cell_type": "code",
   "execution_count": 20,
   "id": "1a0bdba5-5ca0-45e7-a2d8-b6740ac7de4b",
   "metadata": {},
   "outputs": [
    {
     "data": {
      "text/plain": [
       "21"
      ]
     },
     "execution_count": 20,
     "metadata": {},
     "output_type": "execute_result"
    }
   ],
   "source": [
    "emp.get_age()"
   ]
  },
  {
   "cell_type": "code",
   "execution_count": 21,
   "id": "1df09b91-e88f-4a27-ac53-251e46cd9b1c",
   "metadata": {},
   "outputs": [],
   "source": [
    "emp.set_ids(2)"
   ]
  },
  {
   "cell_type": "code",
   "execution_count": 22,
   "id": "1acfdadb-2127-4a5c-9252-41671aa1ec16",
   "metadata": {},
   "outputs": [
    {
     "data": {
      "text/plain": [
       "2"
      ]
     },
     "execution_count": 22,
     "metadata": {},
     "output_type": "execute_result"
    }
   ],
   "source": [
    "emp.get_ids()"
   ]
  },
  {
   "cell_type": "markdown",
   "id": "df95a02e-333a-470a-bbe2-c926162c6c54",
   "metadata": {},
   "source": [
    "Q5. What is method overriding in python? Write a python code to demonstrate method overriding."
   ]
  },
  {
   "cell_type": "markdown",
   "id": "122528dc-2b5c-42c3-b71a-c86448825741",
   "metadata": {},
   "source": [
    "When a child class method overrides(or, provides it's own implementation) the parent class method of the same name, parameters and return type, it is known as method overriding."
   ]
  },
  {
   "cell_type": "code",
   "execution_count": 29,
   "id": "cbe2b7d6-6aa7-44c2-99dd-446affd6e68f",
   "metadata": {},
   "outputs": [],
   "source": [
    "# Parent class \n",
    "class Vehicle:\n",
    "\n",
    "    def vehicleSize(self):\n",
    "        print(\"Medium\")\n",
    "\n",
    "    def color(self):\n",
    "        print(\"Blue\")"
   ]
  },
  {
   "cell_type": "code",
   "execution_count": 30,
   "id": "ab54fb01-0158-4b95-8016-910a6131a62c",
   "metadata": {},
   "outputs": [],
   "source": [
    "class Cars(Vehicle):\n",
    "\n",
    "    def brand(self):\n",
    "        print(\"Audi\")\n",
    "\n",
    "    def color(self):\n",
    "        print(\"Red\")"
   ]
  },
  {
   "cell_type": "code",
   "execution_count": 31,
   "id": "7044a05d-b9d8-418e-ae2b-c243a8b23f37",
   "metadata": {},
   "outputs": [],
   "source": [
    "car = Cars()"
   ]
  },
  {
   "cell_type": "code",
   "execution_count": 34,
   "id": "53983ad0-0e0e-4a1a-bc20-94241ca1cf61",
   "metadata": {},
   "outputs": [
    {
     "name": "stdout",
     "output_type": "stream",
     "text": [
      "Audi\n",
      "Red\n"
     ]
    }
   ],
   "source": [
    "car.brand()\n",
    "car.color()"
   ]
  },
  {
   "cell_type": "code",
   "execution_count": 36,
   "id": "85f97cbe-43e9-4658-b185-52b42e3fb15f",
   "metadata": {},
   "outputs": [
    {
     "name": "stdout",
     "output_type": "stream",
     "text": [
      "Blue\n"
     ]
    }
   ],
   "source": [
    "vehicle=Vehicle()\n",
    "vehicle.color()"
   ]
  },
  {
   "cell_type": "code",
   "execution_count": null,
   "id": "e5941063-98b9-4f79-ad8f-1ceeee463254",
   "metadata": {},
   "outputs": [],
   "source": [
    "vehicle.color()"
   ]
  }
 ],
 "metadata": {
  "kernelspec": {
   "display_name": "Python 3 (ipykernel)",
   "language": "python",
   "name": "python3"
  },
  "language_info": {
   "codemirror_mode": {
    "name": "ipython",
    "version": 3
   },
   "file_extension": ".py",
   "mimetype": "text/x-python",
   "name": "python",
   "nbconvert_exporter": "python",
   "pygments_lexer": "ipython3",
   "version": "3.10.8"
  }
 },
 "nbformat": 4,
 "nbformat_minor": 5
}
