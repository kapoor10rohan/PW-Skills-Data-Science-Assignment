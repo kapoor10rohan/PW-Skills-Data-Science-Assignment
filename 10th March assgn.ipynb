{
 "cells": [
  {
   "cell_type": "markdown",
   "id": "c0d4d729-8e8a-4986-b3ad-8205862d8d4d",
   "metadata": {},
   "source": [
    "Q1: What is Estimation Statistics? Explain point estimate and interval estimate."
   ]
  },
  {
   "cell_type": "markdown",
   "id": "9532001c-3687-45c5-a783-fa6a9b7b3b14",
   "metadata": {},
   "source": [
    "Estimation refers to the process by which one makes inferences about a population, based on information obtained from a sample.\n",
    "Point Estimate vs. Interval Estimate\n",
    "\n",
    "Statisticians use sample statistics to estimate population parameters. For example, sample means are used to estimate population means; sample proportions, to estimate population proportions.\n",
    "\n",
    "An estimate of a population parameter may be expressed in two ways:\n",
    "\n",
    "Point estimate. A point estimate of a population parameter is a single value of a statistic. For example, the sample mean x is a point estimate of the population mean μ. Similarly, the sample proportion p is a point estimate of the population proportion P.\n",
    "\n",
    "Interval estimate. An interval estimate is defined by two numbers, between which a population parameter is said to lie. For example, a < x < b is an interval estimate of the population mean μ. It indicates that the population mean is greater than a but less than b.\n",
    "\n",
    "Confidence Intervals\n",
    "Statisticians use a confidence interval to express the precision and uncertainty associated with a particular sampling method."
   ]
  },
  {
   "cell_type": "markdown",
   "id": "261996bb-6344-462c-976a-2bde4f95cdae",
   "metadata": {},
   "source": [
    "Q2. Write a Python function to estimate the population mean using a sample mean and standard\n",
    "deviation.\n"
   ]
  },
  {
   "cell_type": "code",
   "execution_count": 1,
   "id": "04e7e20c-9b45-462a-8137-7d4e2ad643ee",
   "metadata": {},
   "outputs": [],
   "source": [
    "def estimate_population_mean(sample_mean, sample_std, sample_size):\n",
    "    import math\n",
    "    z_score = 1.96 # for a 95% confidence interval\n",
    "    std_error = sample_std / math.sqrt(sample_size)\n",
    "    lower_bound = sample_mean - z_score * std_error\n",
    "    upper_bound = sample_mean + z_score * std_error\n",
    "    return lower_bound, upper_bound"
   ]
  },
  {
   "cell_type": "code",
   "execution_count": 2,
   "id": "eed1dc4c-5c78-4f83-b939-6fc3a9bafb8a",
   "metadata": {},
   "outputs": [
    {
     "data": {
      "text/plain": [
       "(59.113005253679596, 60.886994746320404)"
      ]
     },
     "execution_count": 2,
     "metadata": {},
     "output_type": "execute_result"
    }
   ],
   "source": [
    "estimate_population_mean(60,3.2,50)"
   ]
  },
  {
   "cell_type": "markdown",
   "id": "456c2d4b-a721-478a-a112-24be6b396b2b",
   "metadata": {},
   "source": [
    "Q3: What is Hypothesis testing? Why is it used? State the importance of Hypothesis testing."
   ]
  },
  {
   "cell_type": "markdown",
   "id": "31580eab-d1cd-4fc7-ad51-7f9ce0e2540f",
   "metadata": {},
   "source": [
    "Hypothesis testing is the process used to evaluate the strength of evidence from the sample and provides a framework for making determinations related to the population, ie, it provides a method for understanding how reliably one can extrapolate observed findings in a sample under study to the larger population from which the sample was drawn. The investigator formulates a specific hypothesis, evaluates data from the sample, and uses these data to decide whether they support the specific hypothesis.\n",
    "\n",
    "Hypothesis testing is one of the most important concepts in statistics because it is how you decide if something really happened, or if certain treatments have positive effects, or if groups differ from each other or if one variable predicts another. In short, you want to proof if your data is statistically significant and unlikely to have occurred by chance alone. In essence then, a hypothesis test is a test of significance"
   ]
  },
  {
   "cell_type": "markdown",
   "id": "4d098c28-8033-4a67-9323-2826f0364c17",
   "metadata": {},
   "source": [
    "Q4. Create a hypothesis that states whether the average weight of male college students is greater than\n",
    "the average weight of female college students.\n"
   ]
  },
  {
   "cell_type": "markdown",
   "id": "a9de0af3-6c7f-4f28-8be4-cefc281e7051",
   "metadata": {},
   "source": [
    "Null hypothesis H0: average weight of male college students is greater than\n",
    "the average weight of female college students\n",
    "<br>\n",
    "Alternate hypothesis H1: average weight of male college students is less than\n",
    "the average weight of female college students"
   ]
  },
  {
   "cell_type": "markdown",
   "id": "399fcb51-eb1f-4820-8a0b-15a26544511c",
   "metadata": {},
   "source": [
    "Q5. Write a Python script to conduct a hypothesis test on the difference between two population means,\n",
    "given a sample from each population.\n"
   ]
  },
  {
   "cell_type": "code",
   "execution_count": 3,
   "id": "ac2bb7bf-b78f-453f-9ded-63b90d10deb0",
   "metadata": {},
   "outputs": [
    {
     "name": "stdout",
     "output_type": "stream",
     "text": [
      "Sample 1 Mean: 50.13271441083786\n",
      "Sample 1 Standard Deviation: 12.017005126478931\n",
      "Sample 2 Mean: 61.19163835600862\n",
      "Sample 2 Standard Deviation: 10.177202623035454\n",
      "t-statistic: -4.965764973915658\n",
      "p-value: 2.993602330559895e-06\n"
     ]
    }
   ],
   "source": [
    "import numpy as np\n",
    "from scipy.stats import ttest_ind\n",
    "\n",
    "# generate two populations with different means and standard deviations\n",
    "np.random.seed(123)\n",
    "pop1 = np.random.normal(loc=50, scale=10, size=100)\n",
    "pop2 = np.random.normal(loc=60, scale=10, size=100)\n",
    "\n",
    "# take a sample from each population\n",
    "sample1 = pop1[:50]\n",
    "sample2 = pop2[:50]\n",
    "\n",
    "# calculate the mean and standard deviation of each sample\n",
    "mean1 = np.mean(sample1)\n",
    "std1 = np.std(sample1, ddof=1)\n",
    "mean2 = np.mean(sample2)\n",
    "std2 = np.std(sample2, ddof=1)\n",
    "\n",
    "# conduct a two-sample t-test\n",
    "t, p = ttest_ind(sample1, sample2, equal_var=False)\n",
    "\n",
    "# print the results\n",
    "print('Sample 1 Mean:', mean1)\n",
    "print('Sample 1 Standard Deviation:', std1)\n",
    "print('Sample 2 Mean:', mean2)\n",
    "print('Sample 2 Standard Deviation:', std2)\n",
    "print('t-statistic:', t)\n",
    "print('p-value:', p)"
   ]
  },
  {
   "cell_type": "markdown",
   "id": "d4fa1fbe-a3ea-4f32-9b07-2034d2b2d66c",
   "metadata": {},
   "source": [
    "Q6: What is a null and alternative hypothesis? Give some examples."
   ]
  },
  {
   "cell_type": "markdown",
   "id": "6aacfaac-a156-434d-bbeb-916de1b10a63",
   "metadata": {},
   "source": [
    "The null and alternative hypotheses are two competing claims that researchers weigh evidence for and against using a statistical test:\n",
    "\n",
    "    Null hypothesis (H0): There’s no effect in the population.\n",
    "    Alternative hypothesis (Ha or H1): There’s an effect in the population.\n",
    "    \n",
    "<br>Does tooth flossing affect the number of cavities? \n",
    "<br>Null hypothesis (H0) Tooth flossing has no effect on the number of cavities. \n",
    "<br>Alternative hypothesis (Ha or H1) Tooth flossing has an effect on the number of cavities.\n",
    "<br><br>Does the amount of text highlighted in the textbook affect exam scores? \n",
    "<br>Null hypothesis (H0) The amount of text highlighted in the textbook has no effect on exam scores.\n",
    "<br>Alternative hypothesis (Ha or H1) The amount of text highlighted in the textbook has an effect on exam scores.\t\n",
    "<br><br>Does daily meditation decrease the incidence of depression? \n",
    "<br>Null hypothesis (H0) Daily meditation does not decrease the incidence of depression.\n",
    "<br>Alternative hypothesis (Ha or H1) Daily meditation decreases the incidence of depression."
   ]
  },
  {
   "cell_type": "markdown",
   "id": "130e2d71-dd5a-4426-8b2c-0ac19d9d4a8c",
   "metadata": {},
   "source": [
    "Q7: Write down the steps involved in hypothesis testing.\n"
   ]
  },
  {
   "cell_type": "markdown",
   "id": "b929ce47-81b7-42ac-be74-9d6a1d9681d0",
   "metadata": {},
   "source": [
    "There are 5 main steps in hypothesis testing:\n",
    "\n",
    "    State your research hypothesis as a null hypothesis and alternate hypothesis (Ho) and (Ha or H1).\n",
    "    Collect data in a way designed to test the hypothesis.\n",
    "    Perform an appropriate statistical test.\n",
    "    Decide whether to reject or fail to reject your null hypothesis.\n",
    "    Present the findings in your results and discussion section.\n"
   ]
  },
  {
   "cell_type": "markdown",
   "id": "6212417d-6d2a-4819-b5ef-cd77c55b8194",
   "metadata": {},
   "source": [
    "Q8. Define p-value and explain its significance in hypothesis testing.\n"
   ]
  },
  {
   "cell_type": "markdown",
   "id": "f17340bd-babf-4e7b-b103-29741b2b85ab",
   "metadata": {},
   "source": [
    "The p-value can be perceived as an oracle that judges our results. If the p-value is 0.05 or lower, the result is trumpeted as significant, but if it is higher than 0.05, the result is non-significant and tends to be passed over in silence\n",
    "<br>\n",
    "The p-value is a key element in hypothesis testing because it allows us to make statistical inferences about the population based on a sample. It provides a way to quantify the likelihood of observing the data, assuming the null hypothesis is true. By comparing the p-value to a predetermined level of significance (alpha level), we can decide whether to reject or fail to reject the null hypothesis."
   ]
  },
  {
   "cell_type": "markdown",
   "id": "4aa7cfaf-4e82-4c88-badc-30fd112f4744",
   "metadata": {},
   "source": [
    "Q9. Generate a Student's t-distribution plot using Python's matplotlib library, with the degrees of freedom\n",
    "parameter set to 10."
   ]
  },
  {
   "cell_type": "code",
   "execution_count": 11,
   "id": "cf2ca69e-a611-4271-b9fa-9467d8b61f9c",
   "metadata": {},
   "outputs": [
    {
     "data": {
      "image/png": "[encoded data removed]",
      "text/plain": [
       "<Figure size 640x480 with 1 Axes>"
      ]
     },
     "metadata": {},
     "output_type": "display_data"
    }
   ],
   "source": [
    "from scipy.stats import t\n",
    "import matplotlib.pyplot as plt\n",
    "\n",
    "#generate t distribution with sample size 10000\n",
    "x = t.rvs(df=10, size=10000)\n",
    "\n",
    "plt.plot(x, t.pdf(x, df=10), 'r-', lw=2, alpha=0.6, label='t pdf')  # plot the t-distribution PDF\n",
    "plt.legend(loc='best', frameon=False)  # add a legend\n",
    "plt.show()  # display the plot"
   ]
  },
  {
   "cell_type": "markdown",
   "id": "8e33195b-7186-43e7-80ad-30f0358bae17",
   "metadata": {},
   "source": [
    "Q10. Write a Python program to calculate the two-sample t-test for independent samples, given two\n",
    "random samples of equal size and a null hypothesis that the population means are equal.\n"
   ]
  },
  {
   "cell_type": "code",
   "execution_count": 13,
   "id": "33e42510-1b0a-4274-b338-6958b0627ccb",
   "metadata": {},
   "outputs": [
    {
     "name": "stdout",
     "output_type": "stream",
     "text": [
      "Two-sample t-test results:\n",
      "t-statistic: -5.13\n",
      "p-value: 1.4621484696731383e-06\n",
      "Reject null hypothesis - there is evidence of a significant difference in means.\n"
     ]
    }
   ],
   "source": [
    "import numpy as np\n",
    "from scipy.stats import ttest_ind\n",
    "\n",
    "# generate two random samples with equal size\n",
    "sample1 = np.random.normal(10, 2, 50)\n",
    "sample2 = np.random.normal(12, 2, 50)\n",
    "\n",
    "# perform a two-sample t-test assuming equal variances and a null hypothesis of equal means\n",
    "t_stat, p_value = ttest_ind(sample1, sample2, equal_var=True)\n",
    "\n",
    "# print the results\n",
    "print(\"Two-sample t-test results:\")\n",
    "print(f\"t-statistic: {t_stat:.2f}\")\n",
    "print(f\"p-value: {p_value}\")\n",
    "if p_value < 0.05:\n",
    "    print(\"Reject null hypothesis - there is evidence of a significant difference in means.\")\n",
    "else:\n",
    "    print(\"Fail to reject null hypothesis - there is no significant evidence of a difference in means.\")"
   ]
  },
  {
   "cell_type": "markdown",
   "id": "2937d464-17ed-46d8-9410-40125d172634",
   "metadata": {},
   "source": [
    "Q11: What is Student’s t distribution? When to use the t-Distribution.\n"
   ]
  },
  {
   "cell_type": "markdown",
   "id": "e5b6d807-2606-4164-92bd-8dbb93d7e9f3",
   "metadata": {},
   "source": [
    "The t-distribution, also known as the Student’s t-distribution, is a type of probability distribution that is similar to the normal distribution with its bell shape but has heavier tails. It is used for estimating population parameters for small sample sizes or unknown variances. T-distributions have a greater chance for extreme values than normal distributions, and as a result have fatter tails. \n",
    "\n",
    "The t-distribution is used when data are approximately normally distributed, which means the data follow a bell shape but the population variance is unknown. The variance in a t-distribution is estimated based on the degrees of freedom of the data set (total number of observations minus 1).\n",
    "\n",
    "It is a more conservative form of the standard normal distribution, also known as the z-distribution. This means that it gives a lower probability to the center and a higher probability to the tails than the standard normal distribution."
   ]
  },
  {
   "cell_type": "markdown",
   "id": "04a5c856-b83d-451f-8cfa-cf7ccd6b3c3f",
   "metadata": {},
   "source": [
    "Q12: What is t-statistic? State the formula for t-statistic."
   ]
  },
  {
   "cell_type": "markdown",
   "id": "be091b9b-f6f1-4f67-91ee-12aedf21c7d4",
   "metadata": {},
   "source": [
    "In statistics, the t-statistic is the ratio of the departure of the estimated value of a parameter from its hypothesized value to its standard error. It is used in hypothesis testing via Student's t-test. The t-statistic is used in a t-test to determine whether to support or reject the null hypothesis.\n",
    "\n",
    "t = (X‾ - μ0) / (s / √n)"
   ]
  },
  {
   "cell_type": "markdown",
   "id": "2a59d936-d4bf-47a9-ac0c-7214a6117f48",
   "metadata": {},
   "source": [
    "Q13. A coffee shop owner wants to estimate the average daily revenue for their shop. They take a random\n",
    "sample of 50 days and find the sample mean revenue to be $$500 with a standard deviation of $50.\n",
    "Estimate the population mean revenue with a 95% confidence interval.\n"
   ]
  },
  {
   "cell_type": "markdown",
   "id": "06a9f30c-107d-4974-a2ef-9e79ca0e9440",
   "metadata": {},
   "source": [
    "CI =95% \n",
    "Using z table, z score is +1.96,-1.96\n",
    "\n",
    "n=50, Sample mean x'=500, Sample std,s=50\n",
    "\n",
    "Using formula:\n",
    "\n",
    "z=x'-x/(n/sqrt(s))\n",
    "\n",
    "At 95% CI:\n",
    "\n",
    "Population mean,x = 486.1428 to 513.8572"
   ]
  },
  {
   "cell_type": "markdown",
   "id": "8d155567-04c3-41c5-a86d-5e82f16727a1",
   "metadata": {},
   "source": [
    "Q14. A researcher hypothesizes that a new drug will decrease blood pressure by 10 mmHg. They conduct a\n",
    "clinical trial with 100 patients and find that the sample mean decrease in blood pressure is 8 mmHg with a\n",
    "standard deviation of 3 mmHg. Test the hypothesis with a significance level of 0.05.\n"
   ]
  },
  {
   "cell_type": "markdown",
   "id": "0c7680ab-921a-496c-9b8a-4f06eafe8299",
   "metadata": {},
   "source": [
    "H0=decr bp equal to 10\n",
    "H1= decr bp less than 10\n",
    "\n",
    "Using t table, z score:\n",
    "-1.660\n",
    "\n",
    "Solving t for sample,\n",
    "t = (8 - 10) / (3 / √100) = -6.67\n",
    "t=-6.67\n",
    "\n",
    "t< z score\n",
    "So we accept null hypothesis\n",
    "Therefore, decr bp equal to 10"
   ]
  },
  {
   "cell_type": "markdown",
   "id": "8990ecac-72a8-43fa-bdd7-38567fd9ac31",
   "metadata": {},
   "source": [
    "Q15. An electronics company produces a certain type of product with a mean weight of 5 pounds and a\n",
    "standard deviation of 0.5 pounds. A random sample of 25 products is taken, and the sample mean weight\n",
    "is found to be 4.8 pounds. Test the hypothesis that the true mean weight of the products is less than 5\n",
    "pounds with a significance level of 0.01.\n"
   ]
  },
  {
   "cell_type": "markdown",
   "id": "1a077c63-fd3f-45fd-b713-dd4dd851b47e",
   "metadata": {},
   "source": [
    "H0, is that the true mean weight of the products is equal to 5 pounds. The alternative hypothesis\n",
    "Ha, is that the true mean weight of the products is less than 5 pounds.\n",
    "\n",
    "The test statistic for the one-sample t-test is given by:\n",
    "\n",
    "\n",
    "x̄ = 4.8 pounds\n",
    "μ = 5 pounds\n",
    "s = 0.5 pounds\n",
    "n = 25\n",
    "\n",
    "\n",
    "t = (x̄ - μ) / (s / √n)\n",
    "t = (4.8 - 5) / (0.5 / √25) = -2\n",
    "\n",
    "To find the p-value associated with this test statistic, we can use a t-distribution table with 24 degrees of freedom (n-1). At a significance level of 0.01 and 24 degrees of freedom, the critical value is -2.492.\n",
    "\n",
    "Since the calculated t-value of -2 is greater than the critical value of -2.492, we reject the null hypothesis and conclude that there is evidence to support the claim that the true mean weight of the products is less than 5 pounds."
   ]
  },
  {
   "cell_type": "markdown",
   "id": "21f3b561-a915-4c21-a4b3-fc26d72a3cf4",
   "metadata": {},
   "source": [
    "Q16. Two groups of students are given different study materials to prepare for a test. The first group (n1 =\n",
    "30) has a mean score of 80 with a standard deviation of 10, and the second group (n2 = 40) has a mean\n",
    "score of 75 with a standard deviation of 8. Test the hypothesis that the population means for the two\n",
    "groups are equal with a significance level of 0.01.\n"
   ]
  },
  {
   "cell_type": "code",
   "execution_count": 6,
   "id": "7d7a482e-aa89-4a88-a530-5561a0a6ac74",
   "metadata": {},
   "outputs": [
    {
     "name": "stdout",
     "output_type": "stream",
     "text": [
      "2.2511258444537408\n"
     ]
    }
   ],
   "source": [
    "import math\n",
    "# where:\n",
    "x1 =  80 #mean of first group \n",
    "x2 = 75 #mean of second group\n",
    "s1 = 10 #standard deviation of first group\n",
    "s2 =  8 #standard deviation of second group\n",
    "n1 = 30 #sample size of first group\n",
    "n2 = 40 #sample size of second group\n",
    "\n",
    "t = (x1 - x2) / math.sqrt((s1**2 / n1) + (s2**2 / n2))\n",
    "print(t)"
   ]
  },
  {
   "cell_type": "code",
   "execution_count": 7,
   "id": "1d1e26c1-7504-46e4-b938-47bd550e8db4",
   "metadata": {},
   "outputs": [
    {
     "name": "stdout",
     "output_type": "stream",
     "text": [
      "54.230639907533885\n"
     ]
    }
   ],
   "source": [
    "df = (s1**2 / n1 + s2**2 / n2)**2 / ((s1**2 / n1)**2 / (n1 - 1) + (s2**2 / n2)**2 / (n2 - 1))\n",
    "print(df)"
   ]
  },
  {
   "cell_type": "markdown",
   "id": "ca04bde7-431c-4cf6-8aad-7bff069eaa0f",
   "metadata": {},
   "source": [
    "Q17. A marketing company wants to estimate the average number of ads watched by viewers during a TV\n",
    "program. They take a random sample of 50 viewers and find that the sample mean is 4 with a standard\n",
    "deviation of 1.5. Estimate the population mean with a 99% confidence interval."
   ]
  },
  {
   "cell_type": "code",
   "execution_count": 8,
   "id": "179d0144-d147-4a67-a59a-964021ac7bdb",
   "metadata": {},
   "outputs": [],
   "source": [
    "from scipy.stats import t\n",
    "\n",
    "n = 50\n",
    "df = n - 1\n",
    "alpha = 0.01\n",
    "critical_value = t(df).ppf(1 - alpha/2)\n"
   ]
  },
  {
   "cell_type": "code",
   "execution_count": 9,
   "id": "71b86c23-cc47-4be8-a247-4ec4085c942c",
   "metadata": {},
   "outputs": [
    {
     "name": "stdout",
     "output_type": "stream",
     "text": [
      "The 99% confidence interval is: (3.4314963358572577, 4.568503664142742)\n"
     ]
    }
   ],
   "source": [
    "\n",
    "sample_mean = 4\n",
    "std_dev = 1.5\n",
    "std_error = std_dev / (n ** 0.5)\n",
    "\n",
    "lower_ci = sample_mean - critical_value * std_error\n",
    "upper_ci = sample_mean + critical_value * std_error\n",
    "\n",
    "print(\"The 99% confidence interval is:\", (lower_ci, upper_ci))"
   ]
  },
  {
   "cell_type": "code",
   "execution_count": null,
   "id": "cf7f9de7-8fa1-4231-baa0-2c57bdca9964",
   "metadata": {},
   "outputs": [],
   "source": []
  }
 ],
 "metadata": {
  "kernelspec": {
   "display_name": "Python 3 (ipykernel)",
   "language": "python",
   "name": "python3"
  },
  "language_info": {
   "codemirror_mode": {
    "name": "ipython",
    "version": 3
   },
   "file_extension": ".py",
   "mimetype": "text/x-python",
   "name": "python",
   "nbconvert_exporter": "python",
   "pygments_lexer": "ipython3",
   "version": "3.10.8"
  }
 },
 "nbformat": 4,
 "nbformat_minor": 5
}
