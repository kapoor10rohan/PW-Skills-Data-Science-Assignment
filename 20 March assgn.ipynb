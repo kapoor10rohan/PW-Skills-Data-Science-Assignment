{
 "cells": [
  {
   "cell_type": "markdown",
   "id": "15936ac0-703e-4d17-98d9-6999731dec33",
   "metadata": {},
   "source": [
    "Q1. What is data encoding? How is it useful in data science?\n"
   ]
  },
  {
   "cell_type": "markdown",
   "id": "9069702b-e2f1-4b82-8d20-71b353d82561",
   "metadata": {},
   "source": [
    "\n",
    "Encoding is a technique of converting categorical variables into numerical values so that it could be easily fitted to a machine learning model.\n",
    "The performance of a machine learning model not only depends on the model and the hyperparameters but also on how we process and feed different types of variables to the model. Since most machine learning models only accept numerical variables, preprocessing the categorical variables becomes a necessary step. We need to convert these categorical variables to numbers such that the model is able to understand and extract valuable information."
   ]
  },
  {
   "cell_type": "markdown",
   "id": "370312ca-0493-4e39-8038-6faf74132bb5",
   "metadata": {},
   "source": [
    "Q2. What is nominal encoding? Provide an example of how you would use it in a real-world scenario.\n"
   ]
  },
  {
   "cell_type": "markdown",
   "id": "6db1cc45-2e7e-4aa4-90c2-87962ad8d1ba",
   "metadata": {},
   "source": [
    "When we have a feature where variables are just names and there is no order or rank to this variable's feature.\n",
    "For example: City of person lives in, Gender of person, Marital Status, etc…\n",
    "In the above example, We do not have any order or rank, or sequence. All the variables in the respective feature are equal. We can't give them any orders or ranks. Those features are called Nominal features."
   ]
  },
  {
   "cell_type": "markdown",
   "id": "c2dfebc8-3132-4639-a6d7-1d60c4b16ad9",
   "metadata": {},
   "source": [
    "Q3. In what situations is nominal encoding preferred over one-hot encoding? Provide a practical example.\n"
   ]
  },
  {
   "cell_type": "markdown",
   "id": "066a284f-da68-498d-8821-9a4ddae92de1",
   "metadata": {},
   "source": [
    "One-Hot encoding technique is used when the features are nominal(do not have any order). In one hot encoding, for every categorical feature, a new variable is created. Categorical features are mapped with a binary variable containing either 0 or 1. Here, 0 represents the absence, and 1 represents the presence of that category.\n",
    "While encoding Nominal data, we have to consider the presence or absence of a feature. In such a case, no notion of order is present. For example, the city a person lives in. For the data, it is important to retain where a person lives. Here, We do not have any order or sequence. It is equal if a person lives in Delhi or Bangalore.\n",
    "\n",
    "Nominal encoding is preferred over one-hot encoding in situations where the number of categories in a categorical variable is very large. One-hot encoding creates a new binary feature for each category, which can result in a large number of features and may lead to overfitting, especially when the number of categories is much larger than the number of samples in the dataset.\n",
    "\n",
    "In contrast, nominal encoding assigns a unique integer value to each category, which can reduce the dimensionality of the data and improve the performance of machine learning algorithms. Nominal encoding is also preferred when there is no inherent order or rank among the categories.\n",
    "\n",
    "A practical example where nominal encoding may be preferred over one-hot encoding is in analyzing customer transaction data. Suppose we have a dataset of customer transactions for an e-commerce website, where the \"product category\" column can take one of several hundred values. If we were to use one-hot encoding to convert this categorical variable into numerical features, we would end up with several hundred binary features. This would result in a high-dimensional dataset and may lead to overfitting, especially if the number of samples is limited.\n",
    "\n",
    "On the other hand, using nominal encoding to convert the \"product category\" column into a numerical feature would reduce the dimensionality of the data and help in improving the performance of machine learning algorithms. Nominal encoding would also be preferred here since there is no inherent order or rank among the product categories."
   ]
  },
  {
   "cell_type": "markdown",
   "id": "6604ba93-dd25-4d94-bbed-ddfb1b8e8beb",
   "metadata": {},
   "source": [
    "Q4. Suppose you have a dataset containing categorical data with 5 unique values. Which encoding\n",
    "technique would you use to transform this data into a format suitable for machine learning algorithms?\n",
    "Explain why you made this choice.\n"
   ]
  },
  {
   "cell_type": "markdown",
   "id": "b4836e33-1d9b-4d04-ba2f-97c8dd392914",
   "metadata": {},
   "source": [
    "One hot encoding can be used for this use case.  With 5 unique values, we can create 5 binary features with each 1 representing one unique values. One hot encoding is useful in scenaios where the unique values are less, as it leads to a sparse matrix with a manageable number of column"
   ]
  },
  {
   "cell_type": "markdown",
   "id": "16eda524-b5fd-46ca-8695-4dcc1489886e",
   "metadata": {},
   "source": [
    "Q5. In a machine learning project, you have a dataset with 1000 rows and 5 columns. Two of the columns\n",
    "are categorical, and the remaining three columns are numerical. If you were to use nominal encoding to\n",
    "transform the categorical data, how many new columns would be created? Show your calculations.\n"
   ]
  },
  {
   "cell_type": "markdown",
   "id": "b8ad0ce9-aa87-46cf-a71c-b12cc3465a53",
   "metadata": {},
   "source": [
    "The new columns created will depend on the unique values present in the 2 categorical columns. \n",
    "Total colums will be sum of all the unique values of those columns"
   ]
  },
  {
   "cell_type": "markdown",
   "id": "1e81275e-ed5d-4812-8aa3-fd2da65e4c4c",
   "metadata": {},
   "source": [
    "Q6. You are working with a dataset containing information about different types of animals, including their\n",
    "species, habitat, and diet. Which encoding technique would you use to transform the categorical data into\n",
    "a format suitable for machine learning algorithms? Justify your answer.\n"
   ]
  },
  {
   "cell_type": "markdown",
   "id": "23b60c28-91b9-49f0-9319-00f7d4ef619c",
   "metadata": {},
   "source": [
    "Depending on number of unique values in the columns, we can opt for either nominal encoding or one hot encoding.\n",
    "If unique values are large we can go for nominal encoding and if less unique values then go for one hot encoding."
   ]
  },
  {
   "cell_type": "markdown",
   "id": "d7c2105d-e508-4904-bfcd-96d3c699fe61",
   "metadata": {},
   "source": [
    "Q7.You are working on a project that involves predicting customer churn for a telecommunications\n",
    "company. You have a dataset with 5 features, including the customer's gender, age, contract type,\n",
    "monthly charges, and tenure. Which encoding technique(s) would you use to transform the categorical\n",
    "data into numerical data? Provide a step-by-step explanation of how you would implement the encoding."
   ]
  },
  {
   "cell_type": "code",
   "execution_count": null,
   "id": "6b61ba15-19ec-496b-a5e7-f47e765884c1",
   "metadata": {},
   "outputs": [],
   "source": []
  }
 ],
 "metadata": {
  "kernelspec": {
   "display_name": "Python 3 (ipykernel)",
   "language": "python",
   "name": "python3"
  },
  "language_info": {
   "codemirror_mode": {
    "name": "ipython",
    "version": 3
   },
   "file_extension": ".py",
   "mimetype": "text/x-python",
   "name": "python",
   "nbconvert_exporter": "python",
   "pygments_lexer": "ipython3",
   "version": "3.10.8"
  }
 },
 "nbformat": 4,
 "nbformat_minor": 5
}
