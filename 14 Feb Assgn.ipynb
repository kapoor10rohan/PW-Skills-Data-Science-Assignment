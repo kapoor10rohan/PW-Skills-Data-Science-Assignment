{
 "cells": [
  {
   "cell_type": "markdown",
   "id": "4681faf5-bc6f-410a-b1c5-470e90d20059",
   "metadata": {},
   "source": [
    "\n",
    "' isAlive)\n",
    "4. rite a python program to create two threads. Thread one must print the list of squares and thread\n",
    "two must print the list of cubes\n"
   ]
  },
  {
   "cell_type": "markdown",
   "id": "e57c095e-1175-475e-80bb-071b42301a9f",
   "metadata": {},
   "source": [
    "<br>\n",
    "Q1 What is multithreading in python? Why is it used? Name the module used to handle threads in python"
   ]
  },
  {
   "cell_type": "markdown",
   "id": "d2215e92-c7a0-48b3-858d-be6cd64b20dc",
   "metadata": {},
   "source": [
    "Running several threads is similar to running several different programs concurrently, but with the following benefits −\n",
    "\n",
    "Multiple threads within a process share the same data space with the main thread and can therefore share information or communicate with each other more easily than if they were separate processes.\n",
    "<br>\n",
    "Threads sometimes called light-weight processes and they do not require much memory overhead; they are cheaper than processes.\n",
    "<br>\n",
    "A thread has a beginning, an execution sequence, and a conclusion. It has an instruction pointer that keeps track of where within its context it is currently running.\n",
    "<br>\n",
    "It can be pre-empted (interrupted) <br>\n",
    "It can temporarily be put on hold (also known as sleeping) while other threads are running - this is called yielding.\n",
    "<br>\n",
    "The Threading Module is used to handle threads"
   ]
  },
  {
   "cell_type": "markdown",
   "id": "5077a4f9-1386-46a9-9376-3d1f76de92f8",
   "metadata": {},
   "source": [
    "<br>\n",
    "Q2 Why threading module used? Write the use of the following functions <br>\n",
    "activeCount <br>\n",
    "currentThread <br>\n",
    "enumerate"
   ]
  },
  {
   "cell_type": "markdown",
   "id": "bd0e29e1-5eac-435d-8ea9-44ae593c70af",
   "metadata": {},
   "source": [
    "The threading module exposes all the methods of the thread module and provides some additional methods −\n",
    "\n",
    "threading.activeCount() − Returns the number of thread objects that are active. <br>\n",
    "threading.currentThread() − Returns the number of thread objects in the caller's thread control. <br>\n",
    "threading.enumerate() − Returns a list of all thread objects that are currently active"
   ]
  },
  {
   "cell_type": "markdown",
   "id": "955cdce6-0f34-4f3c-b693-6efc55d09ed7",
   "metadata": {},
   "source": [
    "Q3 \n",
    "Explain the following functions <br>\n",
    " run() <br>\n",
    " start() <br>\n",
    " join() <br>\n",
    " isAlive()"
   ]
  },
  {
   "cell_type": "markdown",
   "id": "9358583d-ab41-4ecd-8a1f-3e208887012d",
   "metadata": {},
   "source": [
    "run() − The run() method is the entry point for a thread. <br>\n",
    "start() − The start() method starts a thread by calling the run method. <br>\n",
    "join([time]) − The join() waits for threads to terminate. <br>\n",
    "isAlive() − The isAlive() method checks whether a thread is still executing."
   ]
  },
  {
   "cell_type": "markdown",
   "id": "21256936-69cc-43e9-bf69-b8c99148d77b",
   "metadata": {},
   "source": [
    "Q4. Write a python program to create two threads. Thread one must print the list of squares and thread two must print the list of cubes"
   ]
  },
  {
   "cell_type": "code",
   "execution_count": 2,
   "id": "4778f154-b539-4cbe-b4d1-97ac573f075b",
   "metadata": {},
   "outputs": [],
   "source": [
    "import threading\n",
    "import time"
   ]
  },
  {
   "cell_type": "code",
   "execution_count": 3,
   "id": "a3f2c545-6925-4b5f-b03c-b8985c58bdba",
   "metadata": {},
   "outputs": [],
   "source": [
    "def square(num):\n",
    "    for n in num:\n",
    "        print(\"The square of num %d is\"% n,n**2)"
   ]
  },
  {
   "cell_type": "code",
   "execution_count": 4,
   "id": "8544563c-511b-479b-b2de-25908a2254fa",
   "metadata": {},
   "outputs": [],
   "source": [
    "def cube(num):\n",
    "    for n in num:\n",
    "        print(\"The cube of num %d is\"% n,n**3)"
   ]
  },
  {
   "cell_type": "code",
   "execution_count": 5,
   "id": "da18f0d9-d2bd-49e2-99a4-76fe22ee10f7",
   "metadata": {},
   "outputs": [],
   "source": [
    "my_list=[1,2,3,4,5,6]"
   ]
  },
  {
   "cell_type": "code",
   "execution_count": 6,
   "id": "ad35c8ad-d1df-4b27-8b59-39cdbbd5af62",
   "metadata": {},
   "outputs": [],
   "source": [
    "t1=threading.Thread(target=square,args=(my_list, )) \n",
    "t2=threading.Thread(target=cube,args=(my_list, )) "
   ]
  },
  {
   "cell_type": "code",
   "execution_count": 7,
   "id": "295d0904-2d0a-49ee-a77d-cfbf820c4f77",
   "metadata": {},
   "outputs": [
    {
     "name": "stdout",
     "output_type": "stream",
     "text": [
      "The square of num 1 is 1\n",
      "The square of num 2 is 4\n",
      "The square of num 3 is 9\n",
      "The square of num 4 is 16\n",
      "The square of num 5 is 25\n",
      "The square of num 6 is 36\n",
      "The cube of num 1 is 1\n",
      "The cube of num 2 is 8\n",
      "The cube of num 3 is 27\n",
      "The cube of num 4 is 64\n",
      "The cube of num 5 is 125\n",
      "The cube of num 6 is 216\n"
     ]
    }
   ],
   "source": [
    "t1.start()\n",
    "t2.start()\n",
    "t1.join()\n",
    "t2.join()"
   ]
  },
  {
   "cell_type": "markdown",
   "id": "5ef6d142-4e65-4b47-a5e6-787d33463d57",
   "metadata": {},
   "source": [
    "Q5. State advantages and disadvantages of multithreading"
   ]
  },
  {
   "cell_type": "markdown",
   "id": "3d8e26fa-ea34-4dbc-ba34-7c67afc9613a",
   "metadata": {},
   "source": [
    "Following are some of the common advantages of multithreading:\n",
    "\n",
    "Enhanced performance by decreased development time <br>\n",
    "Simplified and streamlined program coding <br>\n",
    "Improvised GUI responsiveness <br>\n",
    "Simultaneous and parallelized occurrence of tasks <br>\n",
    "Better use of cache storage by utilization of resources <br>\n",
    "Decreased cost of maintenance <br>\n",
    "Better use of CPU resource <br>\n",
    "\n",
    "Multithreading does not only provide you with benefits, it has its disadvantages too. Let us go through some common disadvantages:\n",
    "\n",
    "Complex debugging and testing processes <br>\n",
    "Overhead switching of context <br>\n",
    "Increased potential for deadlock occurrence <br>\n",
    "Increased difficulty level in writing a program <br>\n",
    "Unpredictable results"
   ]
  },
  {
   "cell_type": "markdown",
   "id": "cd26fa5c-099c-485e-a5c7-e5e6a752ef29",
   "metadata": {},
   "source": [
    "Q6. Explain deadlocks and race conditions. "
   ]
  },
  {
   "cell_type": "markdown",
   "id": "be6b9a58-33d9-470a-84db-f6292f7b3887",
   "metadata": {},
   "source": [
    "A deadlock is a concurrency failure mode where a thread or threads wait for a condition that never occurs.\n",
    "<br>\n",
    "The result is that the deadlock threads are unable to progress and the program is stuck or frozen and must be terminated forcefully.\n",
    "<br>\n",
    "When two processes are competing with each other causing data corruption is called race condition"
   ]
  },
  {
   "cell_type": "code",
   "execution_count": null,
   "id": "07478b86-1147-4159-9579-ff54d2053904",
   "metadata": {},
   "outputs": [],
   "source": []
  }
 ],
 "metadata": {
  "kernelspec": {
   "display_name": "Python 3 (ipykernel)",
   "language": "python",
   "name": "python3"
  },
  "language_info": {
   "codemirror_mode": {
    "name": "ipython",
    "version": 3
   },
   "file_extension": ".py",
   "mimetype": "text/x-python",
   "name": "python",
   "nbconvert_exporter": "python",
   "pygments_lexer": "ipython3",
   "version": "3.10.8"
  }
 },
 "nbformat": 4,
 "nbformat_minor": 5
}
