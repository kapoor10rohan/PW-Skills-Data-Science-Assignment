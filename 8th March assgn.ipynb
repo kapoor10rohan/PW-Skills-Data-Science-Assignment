{
 "cells": [
  {
   "cell_type": "markdown",
   "id": "c1f46e31-176e-4827-b3bd-79580a721d60",
   "metadata": {},
   "source": [
    "Stats ADV"
   ]
  },
  {
   "cell_type": "markdown",
   "id": "0b277b41-9462-40e9-8deb-14e3f335a696",
   "metadata": {},
   "source": [
    "Q1. What is the Probability density function?"
   ]
  },
  {
   "cell_type": "markdown",
   "id": "fca24d60-685d-49f6-9859-117e5c479ef5",
   "metadata": {},
   "source": [
    "Probability density function (PDF) is a statistical expression that defines a probability distribution (the likelihood of an outcome) for a discrete random variable (e.g., a stock or ETF) as opposed to a continuous random variable. The difference between a discrete random variable is that you can identify an exact value of the variable.\n",
    "\n",
    "The normal distribution is a common example of a PDF, forming the well-known bell curve shape."
   ]
  },
  {
   "cell_type": "markdown",
   "id": "2fa6334b-3ca6-41b9-876c-7dc8d5ed293c",
   "metadata": {},
   "source": [
    "\n",
    "Q2. What are the types of Probability distribution?"
   ]
  },
  {
   "cell_type": "markdown",
   "id": "2d51a065-e0ee-476d-a5ca-db2c960d2d99",
   "metadata": {},
   "source": [
    "The 6 common probability distributions are Bernoulli, Uniform, Binomial, Normal, Poisson, and Exponential Distribution."
   ]
  },
  {
   "cell_type": "markdown",
   "id": "38e949d4-5d1a-4b52-9efa-903a28272c3d",
   "metadata": {},
   "source": [
    "Q3. Write a Python function to calculate the probability density function of a normal distribution with\n",
    "given mean and standard deviation at a given point."
   ]
  },
  {
   "cell_type": "code",
   "execution_count": 6,
   "id": "63a1b2df-6dc0-466e-a6d2-d9d7ac4af7f9",
   "metadata": {},
   "outputs": [],
   "source": [
    "from scipy.stats import norm\n",
    "import numpy as np\n",
    "  \n",
    "data_start = -5\n",
    "data_end = 5\n",
    "data_points = 11\n",
    "data = np.linspace(data_start, data_end, data_points)\n",
    "  \n",
    "mean = np.mean(data)\n",
    "std = np.std(data)\n",
    "def normal_pdf(x):\n",
    "    return norm.pdf(x, loc=mean, scale=std)"
   ]
  },
  {
   "cell_type": "code",
   "execution_count": 8,
   "id": "6dcd99aa-26d6-48e0-9753-87c69952aee2",
   "metadata": {},
   "outputs": [
    {
     "data": {
      "text/plain": [
       "0.05399096651318806"
      ]
     },
     "execution_count": 8,
     "metadata": {},
     "output_type": "execute_result"
    }
   ],
   "source": [
    "norm.pdf(2)"
   ]
  },
  {
   "cell_type": "markdown",
   "id": "d29590ae-15b3-4f9e-b2e1-a4453f5e5d23",
   "metadata": {},
   "source": [
    "Q4. What are the properties of Binomial distribution? Give two examples of events where binomial\n",
    "distribution can be applied."
   ]
  },
  {
   "cell_type": "markdown",
   "id": "dadb6e84-dbbc-4106-b726-3bb96c98efd2",
   "metadata": {},
   "source": [
    "The properties of a Binomial Distribution are:\n",
    "\n",
    "Each trial is independent.<br>\n",
    "There are only two possible outcomes in a trial – success or failure.<br>\n",
    "A total number of n identical trials are conducted.<br>\n",
    "The probability of success and failure is the same for all trials. (Trials are identical.)<br>\n",
    "\n",
    "EG\n",
    "<br>Number of successes (heads) in an experiment of 10 trials of tossing a coin; Here the sample space is {0, 1, 2, …10}\n",
    "<br>Number of successes (six) in an experiment of 10 trials of rolling a die; Here the sample space is {0, 1, 2, …10}\n",
    "<br>Number of successes (defective items) in an experiment of 10 trials of examining 10 items; Here the sample space is {0, 1, 2, …10}"
   ]
  },
  {
   "cell_type": "markdown",
   "id": "7c62fa96-934d-440d-a0c4-11b6a09d649d",
   "metadata": {},
   "source": [
    "Q5. Generate a random sample of size 1000 from a binomial distribution with probability of success 0.4\n",
    "and plot a histogram of the results using matplotlib."
   ]
  },
  {
   "cell_type": "code",
   "execution_count": 9,
   "id": "8a1ced2d-e894-4904-92b0-6b69d614d5de",
   "metadata": {},
   "outputs": [
    {
     "data": {
      "image/png": "[encoded data removed]",
      "text/plain": [
       "<Figure size 640x480 with 1 Axes>"
      ]
     },
     "metadata": {},
     "output_type": "display_data"
    }
   ],
   "source": [
    "import numpy as np\n",
    "import matplotlib.pyplot as plt\n",
    "\n",
    "# Generate a random sample of size 1000 from a binomial distribution with p=0.4\n",
    "n = 1000\n",
    "p = 0.4\n",
    "sample = np.random.binomial(n, p, size=1000)\n",
    "\n",
    "# Plot a histogram of the sample\n",
    "plt.hist(sample, bins=20, density=True, alpha=0.7)\n",
    "plt.xlabel('Number of successes')\n",
    "plt.ylabel('Probability density')\n",
    "plt.title('Histogram of Binomial Distribution')\n",
    "plt.show()"
   ]
  },
  {
   "cell_type": "markdown",
   "id": "13b5616f-ff2e-4f5e-b227-80382b7ebc63",
   "metadata": {},
   "source": [
    "Q6. Write a Python function to calculate the cumulative distribution function of a Poisson distribution with given mean at a given point."
   ]
  },
  {
   "cell_type": "code",
   "execution_count": 1,
   "id": "6f0cbc35-2b8a-4232-8345-7676395583e3",
   "metadata": {},
   "outputs": [],
   "source": [
    "from scipy.stats import poisson\n",
    "\n",
    "def poisson_cdf(x, mean):\n",
    "    return poisson.cdf(x, mu=mean)"
   ]
  },
  {
   "cell_type": "code",
   "execution_count": 2,
   "id": "16c967a2-0ded-4eca-80aa-fd1a3f9cc6be",
   "metadata": {},
   "outputs": [
    {
     "name": "stdout",
     "output_type": "stream",
     "text": [
      "0.42319008112684364\n"
     ]
    }
   ],
   "source": [
    "cdf_value = poisson_cdf(2, 3)\n",
    "print(cdf_value)"
   ]
  },
  {
   "cell_type": "markdown",
   "id": "506ae6db-880d-43ac-b078-90c88492f389",
   "metadata": {},
   "source": [
    "Q7. How Binomial distribution different from Poisson distribution?"
   ]
  },
  {
   "cell_type": "markdown",
   "id": "489ffbe8-7f8c-49aa-a4ec-34211041ff98",
   "metadata": {},
   "source": [
    "\n",
    "<br>Meaning\tBinomial distribution is one in which the probability of repeated number of trials are studied.\tPoisson <br>Distribution gives the count of independent events occur randomly with a given period of time.\n",
    "<br>Nature\tBINOMIAL Biparametric\tPOISSON Uniparametric\n",
    "<br>Number of trials BINOMIAL\tFixed\tPOISSON Infinite\n",
    "<br>Success BINOMIAL\tConstant probability\tPOISSON Infinitesimal chance of success\n",
    "<br>Outcomes BINOMIAL\tOnly two possible outcomes, i.e. success or failure.  POISSON\tUnlimited number of possible outcomes.\n",
    "<br>Mean and Variance BINOMIAL\tMean > Variance\tPOISSON Mean = Variance\n",
    "<br>Example BINOMIAL\tCoin tossing experiment.\tPOISSON Printing mistakes/page of a large book."
   ]
  },
  {
   "cell_type": "markdown",
   "id": "8e29d608-9a64-44c5-b7be-cbb0e3419385",
   "metadata": {},
   "source": [
    "\n",
    "Q8. Generate a random sample of size 1000 from a Poisson distribution with mean 5 and calculate the\n",
    "sample mean and variance."
   ]
  },
  {
   "cell_type": "code",
   "execution_count": 7,
   "id": "e4d6fbc0-bb0c-49ee-854b-d4cbae5adadb",
   "metadata": {},
   "outputs": [],
   "source": [
    "import numpy as np\n",
    "\n",
    "np.random.seed(20)  # Setting a seed for reproducibility\n",
    "sample = np.random.poisson(5, size=1000)\n"
   ]
  },
  {
   "cell_type": "code",
   "execution_count": 8,
   "id": "0675a662-da46-4c0b-8095-9a86ff25727a",
   "metadata": {},
   "outputs": [
    {
     "name": "stdout",
     "output_type": "stream",
     "text": [
      "Sample mean:  5.096\n",
      "Sample variance:  5.452783999999999\n"
     ]
    }
   ],
   "source": [
    "sample_mean = np.mean(sample)\n",
    "sample_var = np.var(sample)\n",
    "\n",
    "print(\"Sample mean: \", sample_mean)\n",
    "print(\"Sample variance: \", sample_var)"
   ]
  },
  {
   "cell_type": "markdown",
   "id": "c7f0bf64-d16a-4544-930e-c012a609e6cd",
   "metadata": {},
   "source": [
    "Q9. How mean and variance are related in Binomial distribution and Poisson distribution?\n"
   ]
  },
  {
   "cell_type": "markdown",
   "id": "869b7edc-7448-46d1-819f-6beb69a48ca2",
   "metadata": {},
   "source": [
    "\n",
    "The Poisson distribution is a limiting case of the binomial distribution which arises when the number of trials n increases indefinitely whilst the product μ = np, which is the expected value of the number of successes from the trials, remains constant."
   ]
  },
  {
   "cell_type": "markdown",
   "id": "0cca5919-8fda-400c-8631-dcaecf66e149",
   "metadata": {},
   "source": [
    "Q10. In normal distribution with respect to mean position, where does the least frequent data appear?"
   ]
  },
  {
   "cell_type": "markdown",
   "id": "17f75b76-c32f-42cd-9448-5385bdbeafb4",
   "metadata": {},
   "source": [
    "Least frequent data appears at both ends of the bell curve i.e. both tails of the distribution"
   ]
  },
  {
   "cell_type": "code",
   "execution_count": null,
   "id": "e3208ddc-8517-45e1-99a6-3881bdce07fc",
   "metadata": {},
   "outputs": [],
   "source": []
  }
 ],
 "metadata": {
  "kernelspec": {
   "display_name": "Python 3 (ipykernel)",
   "language": "python",
   "name": "python3"
  },
  "language_info": {
   "codemirror_mode": {
    "name": "ipython",
    "version": 3
   },
   "file_extension": ".py",
   "mimetype": "text/x-python",
   "name": "python",
   "nbconvert_exporter": "python",
   "pygments_lexer": "ipython3",
   "version": "3.10.8"
  }
 },
 "nbformat": 4,
 "nbformat_minor": 5
}
